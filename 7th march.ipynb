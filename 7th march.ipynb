{
 "cells": [
  {
   "cell_type": "markdown",
   "id": "b2986a1b-9cb4-4807-8410-5342f1cdbb06",
   "metadata": {},
   "source": [
    "## Q1. What are the three measures of central tendency?"
   ]
  },
  {
   "cell_type": "markdown",
   "id": "5352a5ba-914e-4325-8116-71661827ac4d",
   "metadata": {},
   "source": [
    "## \n",
    "The three measures of central tendency are:\n",
    "\n",
    "1.Mean: The mean is the arithmetic average of a set of data points. It is calculated by summing up all the values in the dataset and dividing the sum by the total number of data points. The mean is the most commonly used measure of central tendency.\n",
    "\n",
    "2.Median: The median is the middle value of a dataset when it is arranged in ascending or descending order. If the dataset has an odd number of data points, the median is the value exactly at the middle. If the dataset has an even number of data points, the median is the average of the two middle values.\n",
    "\n",
    "3.Mode: The mode is the value that occurs most frequently in a dataset. In some cases, a dataset may have multiple modes (bimodal, trimodal, etc.), or it may be considered \"no mode\" if all values occur with equal frequency.\n",
    "\n",
    "These measures help provide a central or representative value of a dataset and are used to understand the typical value around which the data tends to cluster. Each measure has its own strengths and is appropriate in different situations based on the nature of the data and the context of the analysis."
   ]
  },
  {
   "cell_type": "markdown",
   "id": "550b37bc-83d5-406b-a098-e4d326959b81",
   "metadata": {},
   "source": [
    "## Q2. What is the difference between the mean, median, and mode? How are they used to measure the central tendency of a dataset?"
   ]
  },
  {
   "cell_type": "markdown",
   "id": "2c14061e-1ff7-4749-937a-9ba75729669b",
   "metadata": {},
   "source": [
    "## \n",
    "The mean, median, and mode are three measures of central tendency used to describe the central or typical value of a dataset. They differ in their calculation and the way they represent the central value. Here's how they differ and how they are used to measure the central tendency of a dataset:\n",
    "\n",
    "1.Mean:\n",
    "Definition: The mean is the arithmetic average of all the values in a dataset. It is calculated by summing up all the data points and then dividing the sum by the total number of data points.\n",
    "\n",
    "Calculation: Mean = (Sum of all values) / (Total number of values)\n",
    "\n",
    "Use: The mean is the most common measure of central tendency and is widely used when dealing with interval or ratio data. It represents the balance point of the data distribution, as it takes into account all the values in the dataset.\n",
    "\n",
    "2.Median:\n",
    "\n",
    "Definition: The median is the middle value of a dataset when it is arranged in ascending or descending order. If the dataset has an odd number of data points, the median is the value exactly at the middle. If the dataset has an even number of data points, the median is the average of the two middle values.\n",
    "\n",
    "Use: The median is used when the dataset has skewed or extreme values that might affect the mean. It is less influenced by outliers and is suitable for both ordinal and interval/ratio data. The median represents the value that divides the dataset into two equal halves, making it useful for understanding the central tendency of a distribution when the mean might be biased.\n",
    "\n",
    "3.Mode:\n",
    "\n",
    "Definition: The mode is the value that occurs most frequently in a dataset. In some cases, a dataset may have multiple modes (bimodal, trimodal, etc.), or it may be considered \"no mode\" if all values occur with equal frequency.\n",
    "\n",
    "Use: The mode is used primarily for nominal and ordinal data, where values are categories or labels. It represents the most common or frequently occurring category in the dataset. The mode helps identify the central category or value with the highest frequency.\n",
    "\n",
    "In summary, the mean, median, and mode are all measures of central tendency, but they emphasize different aspects of the data distribution. The mean represents the average of all values, the median represents the middle value, and the mode represents the most common value. Each measure has its strengths and is used in specific situations based on the type of data and the desired representation of the central tendency. When dealing with data analysis, it is essential to consider all three measures to gain a comprehensive understanding of the central tendency of the dataset."
   ]
  },
  {
   "cell_type": "markdown",
   "id": "f2734218-50dc-4034-a7e2-223f32f73e23",
   "metadata": {},
   "source": [
    "## Q3. Measure the three measures of central tendency for the given height data:\n",
    "\n",
    "[178,177,176,177,178.2,178,175,179,180,175,178.9,176.2,177,172.5,178,176.5]"
   ]
  },
  {
   "cell_type": "code",
   "execution_count": 2,
   "id": "0a47c13b-6ad7-49b7-814a-ac13691af9ae",
   "metadata": {},
   "outputs": [
    {
     "name": "stdout",
     "output_type": "stream",
     "text": [
      "Requirement already satisfied: numpy in /opt/conda/lib/python3.10/site-packages (1.23.5)\n",
      "Requirement already satisfied: scipy in /opt/conda/lib/python3.10/site-packages (1.9.3)\n",
      "Note: you may need to restart the kernel to use updated packages.\n"
     ]
    }
   ],
   "source": [
    "pip install numpy scipy"
   ]
  },
  {
   "cell_type": "code",
   "execution_count": 3,
   "id": "619d0636-1058-43f1-8eb1-233846ba7093",
   "metadata": {},
   "outputs": [
    {
     "name": "stdout",
     "output_type": "stream",
     "text": [
      "Mean height: 177.01875\n",
      "Median height: 177.0\n",
      "Mode height: 177.0\n"
     ]
    },
    {
     "name": "stderr",
     "output_type": "stream",
     "text": [
      "/tmp/ipykernel_575/998569940.py:16: FutureWarning: Unlike other reduction functions (e.g. `skew`, `kurtosis`), the default behavior of `mode` typically preserves the axis it acts along. In SciPy 1.11.0, this behavior will change: the default value of `keepdims` will become False, the `axis` over which the statistic is taken will be eliminated, and the value None will no longer be accepted. Set `keepdims` to True or False to avoid this warning.\n",
      "  mode_height = stats.mode(height_data).mode[0]\n"
     ]
    }
   ],
   "source": [
    "import numpy as np\n",
    "from scipy import stats\n",
    "\n",
    "# Height data\n",
    "height_data = [178, 177, 176, 177, 178.2, 178, 175, 179, 180, 175, 178.9, 176.2, 177, 172.5, 178, 176.5]\n",
    "\n",
    "# Calculate the mean\n",
    "mean_height = np.mean(height_data)\n",
    "print(\"Mean height:\", mean_height)\n",
    "\n",
    "# Calculate the median\n",
    "median_height = np.median(height_data)\n",
    "print(\"Median height:\", median_height)\n",
    "\n",
    "# Calculate the mode\n",
    "mode_height = stats.mode(height_data).mode[0]\n",
    "print(\"Mode height:\", mode_height)"
   ]
  },
  {
   "cell_type": "markdown",
   "id": "e1bd6bb9-3271-47d6-8401-4a69730cadbd",
   "metadata": {},
   "source": [
    "## Q4. Find the standard deviation for the given data:\n",
    "\n",
    "[178,177,176,177,178.2,178,175,179,180,175,178.9,176.2,177,172.5,178,176.5]"
   ]
  },
  {
   "cell_type": "code",
   "execution_count": 7,
   "id": "2429372c-c61a-4a2c-a2ce-f802bb87e293",
   "metadata": {},
   "outputs": [
    {
     "name": "stdout",
     "output_type": "stream",
     "text": [
      "Standard deviation of height data: 1.7885814036548633\n"
     ]
    }
   ],
   "source": [
    "import numpy as np\n",
    "\n",
    "# Height data\n",
    "height_data = [178, 177, 176, 177, 178.2, 178, 175, 179, 180, 175, 178.9, 176.2, 177, 172.5, 178, 176.5]\n",
    "\n",
    "# Calculate the standard deviation\n",
    "std_dev_height = np.std(height_data, ddof=0)  \n",
    "print(\"Standard deviation of height data:\", std_dev_height)"
   ]
  },
  {
   "cell_type": "markdown",
   "id": "beb2021f-2bca-409b-bfc2-9fab99a8890a",
   "metadata": {},
   "source": [
    "## Q5. How are measures of dispersion such as range, variance, and standard deviation used to describe the spread of a dataset? Provide an example."
   ]
  },
  {
   "cell_type": "markdown",
   "id": "51f35ff6-da09-473e-a8b1-0d63b76c7810",
   "metadata": {},
   "source": [
    "## \n",
    "Measures of dispersion, such as range, variance, and standard deviation, are used to quantify and describe the spread or variability of a dataset. They provide valuable information about how the data points are scattered around the central value (mean, median, or mode) and help in understanding the distribution of the data. Here's how these measures are used to describe the spread of a dataset:\n",
    "\n",
    "1.Range:\n",
    "The range is the simplest measure of dispersion and represents the difference between the maximum and minimum values in the dataset. It gives an idea of the spread of the data over the entire range of values.\n",
    "Example: Consider the heights of students in two different classes. Class A has heights ranging from 150 cm to 170 cm, while Class B has heights ranging from 160 cm to 175 cm. Class B has a larger range (15 cm) compared to Class A (20 cm), indicating that the heights of students in Class B are more spread out than in Class A.\n",
    "\n",
    "2.Variance:\n",
    "The variance measures the average squared deviation of each data point from the mean. It indicates how much the data points deviate from the mean on average. A larger variance suggests greater variability in the dataset.\n",
    "Example: Let's say we have two sets of exam scores for two groups of students. Group X has exam scores of [90, 85, 95, 80, 100], and Group Y has exam scores of [60, 70, 100, 65, 75]. Group X has a variance of 50, while Group Y has a variance of 154, showing that the scores in Group Y are more spread out from the mean than in Group X.\n",
    "\n",
    "3.Standard Deviation:\n",
    "The standard deviation is the square root of the variance. It is a commonly used measure of dispersion and has the same unit as the data, making it more interpretable.\n",
    "Example: Consider a dataset representing the time taken (in seconds) by two athletes to complete a race. Athlete A has times of [10, 11, 12, 10.5, 10.2], and Athlete B has times of [9, 10, 8, 11, 12]. Both athletes have a mean time of 10.5 seconds. However, Athlete A has a smaller standard deviation (0.34 seconds) compared to Athlete B (1.58 seconds), indicating that Athlete A's race times are more consistent and less spread out around the mean.\n",
    "\n",
    "In summary, measures of dispersion help provide a quantitative measure of how data points are scattered around the central tendency. Range gives a rough indication of the spread, variance provides a measure of average deviation, and standard deviation allows for more interpretable and meaningful comparison of spread between datasets. These measures are crucial in understanding the distribution of data and making informed decisions based on the variability of the dataset."
   ]
  },
  {
   "cell_type": "markdown",
   "id": "547b4561-41df-4e1d-b4a2-f2445b885507",
   "metadata": {},
   "source": [
    "## Q6. What is a Venn diagram?"
   ]
  },
  {
   "cell_type": "markdown",
   "id": "88466b66-9eb3-457b-a6ce-db560e21cd48",
   "metadata": {},
   "source": [
    "## \n",
    "A Venn diagram is a visual representation used to show the relationships and similarities between different sets or groups of items. It consists of overlapping circles or ellipses, with each circle representing a specific set or category. The areas of overlap between the circles represent the elements that are shared between the sets.\n",
    "\n",
    "The Venn diagram was introduced by the English logician and philosopher John Venn in the late 19th century, and it has since become a widely used tool in various fields, including mathematics, logic, statistics, and data analysis.\n",
    "\n",
    "Key Features of a Venn Diagram:\n",
    "\n",
    "1.Circles (or Ellipses): Each circle in the Venn diagram represents a set or category. The elements belonging to a particular set are enclosed within the circle.\n",
    "\n",
    "2.Overlapping Regions: The overlapping regions between the circles represent the elements that are common to the corresponding sets. The more circles overlap, the more elements they share in common.\n",
    "\n",
    "3.Non-Overlapping Regions: The regions outside the overlapping sections contain elements that belong exclusively to a specific set.\n",
    "\n",
    "4.Universal Set: In some cases, a rectangle or another shape may enclose all the circles, representing the universal set that contains all the elements being considered."
   ]
  },
  {
   "cell_type": "markdown",
   "id": "924ebe7d-85bb-4897-802d-d5af9113765b",
   "metadata": {},
   "source": [
    "## Q7. For the two given sets A = (2,3,4,5,6,7) & B = (0,2,6,8,10). Find:\n",
    "\n",
    "(i) A B\n",
    "\n",
    "(ii) A ⋃ B"
   ]
  },
  {
   "cell_type": "code",
   "execution_count": 8,
   "id": "f3238dc4-82d7-45f9-98d7-7affd7efddbf",
   "metadata": {},
   "outputs": [
    {
     "name": "stdout",
     "output_type": "stream",
     "text": [
      "Intersection of A and B: {2, 6}\n",
      "Union of A and B: {0, 2, 3, 4, 5, 6, 7, 8, 10}\n"
     ]
    }
   ],
   "source": [
    "# Given sets\n",
    "A = {2, 3, 4, 5, 6, 7}\n",
    "B = {0, 2, 6, 8, 10}\n",
    "\n",
    "# Find the intersection (A ∩ B)\n",
    "intersection_set = A.intersection(B)\n",
    "print(\"Intersection of A and B:\", intersection_set)\n",
    "\n",
    "# Find the union (A ∪ B)\n",
    "union_set = A.union(B)\n",
    "print(\"Union of A and B:\", union_set)"
   ]
  },
  {
   "cell_type": "markdown",
   "id": "af6f5c93-1d09-4eff-a536-94ad4a7981a9",
   "metadata": {},
   "source": [
    "## Q8. What do you understand about skewness in data?"
   ]
  },
  {
   "cell_type": "markdown",
   "id": "5e306c07-668c-482d-bb98-f7336c3dde39",
   "metadata": {},
   "source": [
    "## \n",
    "Skewness is a statistical measure that quantifies the asymmetry or lack of symmetry in the distribution of data. It helps to identify the direction and degree of departure from the symmetry of a dataset's probability distribution. In a symmetric distribution, the data is evenly distributed around the mean, and the left and right tails are approximately mirror images of each other. When skewness is present, the distribution is shifted to one side, and the tails are of different lengths.\n",
    "\n",
    "There are three types of skewness:\n",
    "\n",
    "1.Negative Skewness (Left Skewness):\n",
    "\n",
    "In a negatively skewed distribution, the tail on the left side is longer and stretched out towards lower values, while the right tail is shorter and closer to the center of the distribution. The mean is typically less than the median in a negatively skewed dataset.\n",
    "\n",
    "2.Zero Skewness:\n",
    "\n",
    "In a perfectly symmetric distribution, the data is evenly distributed around the mean, and the skewness value is zero.\n",
    "\n",
    "3.Positive Skewness (Right Skewness):\n",
    "\n",
    "In a positively skewed distribution, the tail on the right side is longer and stretched out towards higher values, while the left tail is shorter and closer to the center of the distribution. The mean is typically greater than the median in a positively skewed dataset."
   ]
  },
  {
   "cell_type": "markdown",
   "id": "21f01166-c143-420d-be04-f84e1d0e8f12",
   "metadata": {},
   "source": [
    "## Q9. If a data is right skewed then what will be the position of median with respect to mean?"
   ]
  },
  {
   "cell_type": "markdown",
   "id": "7ae876bc-db40-4341-8e0e-4f82385db6c1",
   "metadata": {},
   "source": [
    "## \n",
    "If a dataset is right-skewed, the position of the median with respect to the mean will be to the left of the mean. In a right-skewed distribution, the tail of the distribution extends to the right (higher values), which means there are some larger extreme values that pull the mean to the right. As a result, the mean is larger than the median.\n",
    "\n",
    "To summarize:\n",
    "\n",
    "For a right-skewed distribution, Median < Mean.\n",
    "\n",
    "The median is less affected by extreme values or outliers compared to the mean. It represents the middle value of the dataset when it is arranged in ascending or descending order. Since extreme values have a greater influence on the mean, the median will be closer to the center of the data, reflecting the typical or central value.\n",
    "\n",
    "The median is positioned to the left of the mean in a right-skewed distribution due to the elongated tail on the right side of the distribution."
   ]
  },
  {
   "cell_type": "markdown",
   "id": "d8f75a86-909f-4b09-a442-3344a9a9eb15",
   "metadata": {},
   "source": [
    "## Q10. Explain the difference between covariance and correlation. How are these measures used in statistical analysis?"
   ]
  },
  {
   "cell_type": "markdown",
   "id": "21bfc9ad-1342-4584-a4de-1bd98aedd02f",
   "metadata": {},
   "source": [
    "##\n",
    "\n",
    "Covariance and correlation are both measures of the relationship between two variables in a dataset, but they have some key differences in terms of interpretation and scale.\n",
    "\n",
    "1.Covariance:\n",
    "\n",
    "Covariance is a measure of how two variables change together. It indicates the degree to which changes in one variable are associated with changes in another variable. A positive covariance indicates that the two variables tend to increase or decrease together, while a negative covariance indicates that one variable tends to increase when the other decreases. A covariance of zero suggests no linear relationship between the variables.\n",
    "\n",
    "However, the scale of covariance depends on the units of the variables, making it difficult to compare across different datasets. Consequently, interpreting the magnitude of covariance is challenging.\n",
    "\n",
    "Covariance formula for a dataset with n data points:\n",
    "Cov(X, Y) = Σ [(X_i - X̄)(Y_i - Ȳ)] / n\n",
    "\n",
    "2.Correlation:\n",
    "\n",
    "Correlation is a standardized version of covariance that scales the covariance to always fall within the range of -1 to 1. It measures the strength and direction of a linear relationship between two variables. A correlation of +1 indicates a perfect positive linear relationship, -1 indicates a perfect negative linear relationship, and 0 indicates no linear relationship.\n",
    "\n",
    "Correlation provides a clearer interpretation than covariance, as it is not affected by the scale of the variables. It enables direct comparison across different datasets and helps to identify the strength and direction of the relationship between variables.\n",
    "\n",
    "Correlation coefficient formula for a dataset with n data points:\n",
    "r = Cov(X, Y) / (σ_X * σ_Y)\n",
    "\n",
    "where σ_X and σ_Y are the standard deviations of X and Y, respectively.\n",
    "\n",
    "Usage in Statistical Analysis:\n",
    "\n",
    "Covariance and correlation are both used to understand the relationship between two variables in statistical analysis.\n",
    "They are fundamental in exploring the patterns and associations in data.\n",
    "\n",
    "Covariance is used to assess the direction of the relationship (positive or negative), while correlation provides a standardized measure of both direction and strength.\n",
    "\n",
    "In finance and portfolio management, covariance and correlation are crucial for diversifying investments and managing risk.\n",
    "\n",
    "In data science and machine learning, correlation analysis is used to identify feature relationships and multicollinearity, which helps in feature selection and model building.\n",
    "\n",
    "In summary, covariance measures the extent to which two variables change together, but its interpretation is limited due to varying scales. Correlation overcomes this limitation and provides a standardized measure that facilitates comparison across datasets, offering insights into the strength and direction of the linear relationship between variables."
   ]
  },
  {
   "cell_type": "markdown",
   "id": "0a49b563-8a61-406a-ac5b-f57b1db9463a",
   "metadata": {},
   "source": [
    "## Q11. What is the formula for calculating the sample mean? Provide an example calculation for a dataset."
   ]
  },
  {
   "cell_type": "code",
   "execution_count": 9,
   "id": "2fd7f743-8331-4f89-8f98-8fbefbb942c1",
   "metadata": {},
   "outputs": [
    {
     "name": "stdout",
     "output_type": "stream",
     "text": [
      "Sample Mean: 18.0\n"
     ]
    }
   ],
   "source": [
    "import numpy as np\n",
    "\n",
    "# Example dataset\n",
    "dataset = [12, 15, 18, 20, 25]\n",
    "\n",
    "# Calculate the sample mean\n",
    "sample_mean = np.mean(dataset)\n",
    "print(\"Sample Mean:\", sample_mean)"
   ]
  },
  {
   "cell_type": "markdown",
   "id": "61c2697b-62f4-4537-bd0d-432df61909ee",
   "metadata": {},
   "source": [
    "## Q12. For a normal distribution data what is the relationship between its measure of central tendency?"
   ]
  },
  {
   "cell_type": "markdown",
   "id": "a8aeb7fd-a076-4be1-95de-e11bad525a41",
   "metadata": {},
   "source": [
    "##\n",
    "For a normal distribution, the three measures of central tendency (mean, median, and mode) are all equal and coincide at the center of the distribution. This property is one of the defining characteristics of a normal distribution.\n",
    "\n",
    "In a normal distribution:\n",
    "\n",
    "The mean, median, and mode are all located at the peak or center of the symmetric bell-shaped curve.\n",
    "The mean is equal to the median, and both are equal to the mode.\n",
    "Mathematically, for a normal distribution with mean (μ) and standard deviation (σ):\n",
    "\n",
    "1.Mean (μ): The arithmetic mean is the sum of all data points divided by the total number of data points.\n",
    "Mean = μ\n",
    "\n",
    "2.Median: The median is the middle value of the dataset when it is arranged in ascending or descending order.\n",
    "Median = μ\n",
    "\n",
    "3.Mode: The mode is the value that occurs with the highest frequency, which, in the case of a normal distribution, is the value at the peak of the curve.\n",
    "Mode = μ\n",
    "\n",
    "This symmetry is the hallmark of the normal distribution, making it a particularly well-studied and useful distribution in statistics and probability theory. Many real-world phenomena are known to follow a normal distribution, and it has numerous applications in fields such as science, engineering, social sciences, finance, and quality control."
   ]
  },
  {
   "cell_type": "markdown",
   "id": "70787589-e366-48e8-b8a0-3259dfa273ad",
   "metadata": {},
   "source": [
    "## Q13. How is covariance different from correlation?"
   ]
  },
  {
   "cell_type": "markdown",
   "id": "b7412595-ffa7-485a-84b1-4efaf8ac5a05",
   "metadata": {},
   "source": [
    "##\n",
    "Covariance and correlation are both measures that describe the relationship between two variables in a dataset, but they have some key differences in terms of interpretation, scale, and the range of values they can take.\n",
    "\n",
    "Comparison:\n",
    "\n",
    "Covariance is useful for understanding the direction of the relationship between two variables and identifying if they tend to move in the same or opposite directions.\n",
    "\n",
    "Correlation is a more comprehensive measure that not only provides the direction but also quantifies the strength of the linear relationship, making it easier to compare the relationships between different pairs of variables.\n",
    "\n",
    "In summary, covariance measures the joint variability of two variables but lacks standardized interpretation, while correlation standardizes the relationship between variables, providing a clear indication of both direction and strength. Correlation is widely preferred in practice because of its better interpretability and easy comparability across different datasets."
   ]
  },
  {
   "cell_type": "markdown",
   "id": "f3bb757f-e836-4eda-94f9-b9ad6c7d58bf",
   "metadata": {},
   "source": [
    "## Q14. How do outliers affect measures of central tendency and dispersion? Provide an example."
   ]
  },
  {
   "cell_type": "markdown",
   "id": "01e4b92e-7737-4c2b-b8d1-1efffbe267c8",
   "metadata": {},
   "source": [
    "##\n",
    "Outliers can have a significant impact on measures of central tendency and dispersion in a dataset. An outlier is an extreme value that is unusually far from the majority of the data points. Outliers can distort the overall characteristics of the data and affect the calculations of central tendency and dispersion."
   ]
  },
  {
   "cell_type": "code",
   "execution_count": 10,
   "id": "ac831557-dcfc-4b4d-93ff-e86744782e81",
   "metadata": {},
   "outputs": [
    {
     "name": "stdout",
     "output_type": "stream",
     "text": [
      "With Outlier:\n",
      "Mean: 89.66666666666667\n",
      "Median: 89.0\n",
      "Mode: 72\n",
      "Range: 38\n",
      "Variance: 106.24242424242424\n",
      "Standard Deviation: 10.307396579273751\n",
      "Interquartile Range (IQR): 11.5\n",
      "\n",
      "Without Outlier:\n",
      "Mean: 87.81818181818181\n",
      "Median: 88.0\n",
      "Mode: 72\n",
      "Range: 28\n",
      "Variance: 71.76363636363638\n",
      "Standard Deviation: 8.471342063902059\n",
      "Interquartile Range (IQR): 10.0\n"
     ]
    },
    {
     "name": "stderr",
     "output_type": "stream",
     "text": [
      "/tmp/ipykernel_575/1988369945.py:9: FutureWarning: Unlike other reduction functions (e.g. `skew`, `kurtosis`), the default behavior of `mode` typically preserves the axis it acts along. In SciPy 1.11.0, this behavior will change: the default value of `keepdims` will become False, the `axis` over which the statistic is taken will be eliminated, and the value None will no longer be accepted. Set `keepdims` to True or False to avoid this warning.\n",
      "  mode_with_outlier = stats.mode(dataset_with_outlier).mode[0]\n",
      "/tmp/ipykernel_575/1988369945.py:21: FutureWarning: Unlike other reduction functions (e.g. `skew`, `kurtosis`), the default behavior of `mode` typically preserves the axis it acts along. In SciPy 1.11.0, this behavior will change: the default value of `keepdims` will become False, the `axis` over which the statistic is taken will be eliminated, and the value None will no longer be accepted. Set `keepdims` to True or False to avoid this warning.\n",
      "  mode_without_outlier = stats.mode(dataset_without_outlier).mode[0]\n"
     ]
    }
   ],
   "source": [
    "import numpy as np\n",
    "\n",
    "# Dataset with an outlier\n",
    "dataset_with_outlier = [85, 90, 82, 86, 88, 92, 100, 78, 95, 72, 98, 110]\n",
    "\n",
    "# Calculate measures with the outlier\n",
    "mean_with_outlier = np.mean(dataset_with_outlier)\n",
    "median_with_outlier = np.median(dataset_with_outlier)\n",
    "mode_with_outlier = stats.mode(dataset_with_outlier).mode[0]\n",
    "range_with_outlier = np.ptp(dataset_with_outlier)\n",
    "variance_with_outlier = np.var(dataset_with_outlier, ddof=1)\n",
    "std_deviation_with_outlier = np.std(dataset_with_outlier, ddof=1)\n",
    "iqr_with_outlier = np.percentile(dataset_with_outlier, 75) - np.percentile(dataset_with_outlier, 25)\n",
    "\n",
    "# Dataset without the outlier\n",
    "dataset_without_outlier = [85, 90, 82, 86, 88, 92, 100, 78, 95, 72, 98]\n",
    "\n",
    "# Calculate measures without the outlier\n",
    "mean_without_outlier = np.mean(dataset_without_outlier)\n",
    "median_without_outlier = np.median(dataset_without_outlier)\n",
    "mode_without_outlier = stats.mode(dataset_without_outlier).mode[0]\n",
    "range_without_outlier = np.ptp(dataset_without_outlier)\n",
    "variance_without_outlier = np.var(dataset_without_outlier, ddof=1)\n",
    "std_deviation_without_outlier = np.std(dataset_without_outlier, ddof=1)\n",
    "iqr_without_outlier = np.percentile(dataset_without_outlier, 75) - np.percentile(dataset_without_outlier, 25)\n",
    "\n",
    "# Print the results\n",
    "print(\"With Outlier:\")\n",
    "print(\"Mean:\", mean_with_outlier)\n",
    "print(\"Median:\", median_with_outlier)\n",
    "print(\"Mode:\", mode_with_outlier)\n",
    "print(\"Range:\", range_with_outlier)\n",
    "print(\"Variance:\", variance_with_outlier)\n",
    "print(\"Standard Deviation:\", std_deviation_with_outlier)\n",
    "print(\"Interquartile Range (IQR):\", iqr_with_outlier)\n",
    "\n",
    "print(\"\\nWithout Outlier:\")\n",
    "print(\"Mean:\", mean_without_outlier)\n",
    "print(\"Median:\", median_without_outlier)\n",
    "print(\"Mode:\", mode_without_outlier)\n",
    "print(\"Range:\", range_without_outlier)\n",
    "print(\"Variance:\", variance_without_outlier)\n",
    "print(\"Standard Deviation:\", std_deviation_without_outlier)\n",
    "print(\"Interquartile Range (IQR):\", iqr_without_outlier)"
   ]
  }
 ],
 "metadata": {
  "kernelspec": {
   "display_name": "Python 3 (ipykernel)",
   "language": "python",
   "name": "python3"
  },
  "language_info": {
   "codemirror_mode": {
    "name": "ipython",
    "version": 3
   },
   "file_extension": ".py",
   "mimetype": "text/x-python",
   "name": "python",
   "nbconvert_exporter": "python",
   "pygments_lexer": "ipython3",
   "version": "3.10.8"
  }
 },
 "nbformat": 4,
 "nbformat_minor": 5
}
