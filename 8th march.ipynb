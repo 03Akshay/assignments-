{
 "cells": [
  {
   "cell_type": "markdown",
   "id": "b3b742f3-3c4e-4658-9405-84add9244655",
   "metadata": {},
   "source": [
    "## Q1. What is the Probability density function?"
   ]
  },
  {
   "cell_type": "markdown",
   "id": "bbd8c5d6-c695-409a-93da-6a1850226df8",
   "metadata": {},
   "source": [
    "## \n",
    "The Probability Density Function (PDF) is a concept used in probability theory and statistics to describe the likelihood of a continuous random variable taking on a specific value within a given range. In simple terms, the PDF provides a way to model the probability distribution of a continuous random variable.\n",
    "\n",
    "The PDF is typically denoted by the function f(x) and is defined such that the probability of the random variable taking on any specific value is equal to the area under the curve of the PDF over that range of values. However, unlike the cumulative distribution function (CDF), which gives the probability of a random variable being less than or equal to a certain value, the PDF gives the probability density at a particular point.\n",
    "\n",
    "The PDF satisfies the following properties:\n",
    "\n",
    "1.The PDF is always non-negative: f(x) ≥ 0 for all x.\n",
    "\n",
    "2.The total area under the PDF curve is equal to 1: ∫[−∞, ∞] f(x) dx = 1."
   ]
  },
  {
   "cell_type": "markdown",
   "id": "b4cef69b-e6b4-4f30-ab60-12165b094141",
   "metadata": {},
   "source": [
    "## Q2. What are the types of Probability distribution? "
   ]
  },
  {
   "cell_type": "markdown",
   "id": "204b8bf9-b70e-4add-955e-42414c4e1aea",
   "metadata": {},
   "source": [
    "##\n",
    "There are several types of probability distributions used in statistics and probability theory, each serving different purposes and representing various types of random variables. The two main categories of probability distributions are:\n",
    "\n",
    "1.Discrete Probability Distributions:\n",
    "\n",
    "Discrete probability distributions describe the probabilities associated with discrete or countable random variables. In this type of distribution, the random variable can only take on specific distinct values. The probabilities for each possible value are represented by the Probability Mass Function (PMF).\n",
    "\n",
    "Examples of discrete probability distributions include:\n",
    "\n",
    "Bernoulli Distribution: Describes the probability of a binary outcome (success/failure) for a single trial.\n",
    "\n",
    "Binomial Distribution: Represents the probability of getting a specific number of successes in a fixed number of independent Bernoulli trials.\n",
    "\n",
    "Poisson Distribution: Models the number of events occurring in a fixed interval of time or space, given the average rate of occurrence.\n",
    "\n",
    "2.Continuous Probability Distributions:\n",
    "\n",
    "Continuous probability distributions describe the probabilities associated with continuous random variables. In this type of distribution, the random variable can take on any value within a specific range. The probabilities are represented by the Probability Density Function (PDF).\n",
    "\n",
    "Examples of continuous probability distributions include:\n",
    "\n",
    "Normal Distribution (Gaussian Distribution): A bell-shaped curve commonly used to model natural phenomena in which the data cluster around a mean value.\n",
    "\n",
    "3.Exponential Distribution: Models the time between events occurring in a Poisson process.\n",
    "\n",
    "Uniform Distribution: Represents a constant probability over a specified interval, with all values having the same likelihood of occurring.\n",
    "\n",
    "These are just a few examples of the many probability distributions used in various fields, such as engineering, physics, biology, economics, and more. Understanding the characteristics and properties of these distributions is essential for various statistical analyses and hypothesis testing."
   ]
  },
  {
   "cell_type": "markdown",
   "id": "00c4c7e3-2a12-4c5c-ad6d-d10fa71bab53",
   "metadata": {},
   "source": [
    "## Q3. Write a Python function to calculate the probability density function of a normal distribution with given mean and standard deviation at a given point."
   ]
  },
  {
   "cell_type": "markdown",
   "id": "285dfcda-ab26-42f4-8382-84fd19f2dacd",
   "metadata": {},
   "source": [
    "## \n",
    "You can use the scipy.stats.norm module in Python to calculate the probability density function (PDF) of a normal distribution at a given point. The norm module provides functions to work with the normal distribution, including calculating PDF values. Here's a Python function to do that:"
   ]
  },
  {
   "cell_type": "code",
   "execution_count": 3,
   "id": "24bdadd5-1eec-4c4a-9e2a-bead88821ba1",
   "metadata": {},
   "outputs": [],
   "source": [
    "from scipy.stats import norm\n",
    "\n",
    "def normal_pdf(x, mean, std_dev):\n",
    "    \"\"\"\n",
    "    Calculate the probability density function (PDF) of a normal distribution.\n",
    "\n",
    "    Parameters:\n",
    "        x (float): The point at which to calculate the PDF.\n",
    "        mean (float): Mean of the normal distribution.\n",
    "        std_dev (float): Standard deviation of the normal distribution.\n",
    "\n",
    "    Returns:\n",
    "        float: The PDF value at the given point.\n",
    "    \"\"\"\n",
    "    pdf_value = norm.pdf(x, loc=mean, scale=std_dev)\n",
    "    return pdf_value"
   ]
  },
  {
   "cell_type": "markdown",
   "id": "674dd1a6-7343-4143-87b0-473a152856dc",
   "metadata": {},
   "source": [
    "## Q4. What are the properties of Binomial distribution? Give two examples of events where binomial distribution can be applied."
   ]
  },
  {
   "cell_type": "markdown",
   "id": "1dadd109-1669-4465-84c8-5248076e128b",
   "metadata": {},
   "source": [
    "## \n",
    "Properties of the Binomial Distribution:\n",
    "\n",
    "Discrete Probability Distribution: The binomial distribution is a discrete probability distribution, which means it is used to model the probabilities of a specific number of successes in a fixed number of independent trials.\n",
    "\n",
    "Two Possible Outcomes: Each trial in a binomial distribution can have only two possible outcomes: success or failure. These outcomes are often denoted as \"S\" and \"F,\" or \"1\" and \"0.\"\n",
    "\n",
    "Fixed Number of Trials: The number of trials (n) is fixed and predetermined in advance.\n",
    "\n",
    "Independent Trials: Each trial is assumed to be independent of the others, meaning the outcome of one trial does not influence the outcome of the next.\n",
    "\n",
    "Constant Probability of Success: The probability of success (p) remains constant across all trials.\n",
    "\n",
    "Probability Mass Function (PMF): The binomial distribution is defined by its Probability Mass Function (PMF), which calculates the probability of getting exactly k successes in n trials."
   ]
  },
  {
   "cell_type": "code",
   "execution_count": 4,
   "id": "cd9632e6-90bd-4a3f-8c8c-3acc955e259c",
   "metadata": {},
   "outputs": [
    {
     "name": "stdout",
     "output_type": "stream",
     "text": [
      "Probability of getting 5 heads in 10 flips: 0.24609375000000003\n"
     ]
    }
   ],
   "source": [
    "from scipy.stats import binom\n",
    "\n",
    "# Number of flips\n",
    "n_flips = 10\n",
    "\n",
    "# Probability of heads (success)\n",
    "p_heads = 0.5\n",
    "\n",
    "# Number of heads (successes)\n",
    "k_heads = 5\n",
    "\n",
    "# Calculate the probability of getting 5 heads in 10 flips\n",
    "probability = binom.pmf(k_heads, n_flips, p_heads)\n",
    "print(\"Probability of getting 5 heads in 10 flips:\", probability)"
   ]
  },
  {
   "cell_type": "code",
   "execution_count": 5,
   "id": "b7c3006c-0064-4da5-82f5-3f1668e86e42",
   "metadata": {},
   "outputs": [
    {
     "name": "stdout",
     "output_type": "stream",
     "text": [
      "Probability of having 3 defective products in a batch of 100: 0.18227594104651598\n"
     ]
    }
   ],
   "source": [
    "from scipy.stats import binom\n",
    "\n",
    "# Batch size\n",
    "batch_size = 100\n",
    "\n",
    "# Probability of a defective product\n",
    "p_defective = 0.02\n",
    "\n",
    "# Number of defective products\n",
    "k_defective = 3\n",
    "\n",
    "# Calculate the probability of having 3 defective products in a batch of 100\n",
    "probability = binom.pmf(k_defective, batch_size, p_defective)\n",
    "print(\"Probability of having 3 defective products in a batch of 100:\", probability)"
   ]
  },
  {
   "cell_type": "markdown",
   "id": "fcb8c979-ffe7-4b62-9f60-204d1d3af566",
   "metadata": {},
   "source": [
    "## Q5. Generate a random sample of size 1000 from a binomial distribution with probability of success 0.4 and plot a histogram of the results using matplotlib."
   ]
  },
  {
   "cell_type": "code",
   "execution_count": 6,
   "id": "810a0246-bac0-4171-9aa6-f810afa75771",
   "metadata": {},
   "outputs": [
    {
     "data": {
      "image/png": "[encoded data removed]",
      "text/plain": [
       "<Figure size 640x480 with 1 Axes>"
      ]
     },
     "metadata": {},
     "output_type": "display_data"
    }
   ],
   "source": [
    "import numpy as np\n",
    "import matplotlib.pyplot as plt\n",
    "\n",
    "# Set the seed for reproducibility (optional)\n",
    "np.random.seed(42)\n",
    "\n",
    "# Parameters for the binomial distribution\n",
    "n_trials = 1000      # Number of trials (sample size)\n",
    "p_success = 0.4      # Probability of success\n",
    "\n",
    "# Generate random sample from the binomial distribution\n",
    "random_sample = np.random.binomial(n=1, p=p_success, size=n_trials)\n",
    "\n",
    "# Plot the histogram\n",
    "plt.hist(random_sample, bins=2, rwidth=0.8, align='left', alpha=0.7)\n",
    "plt.xlabel('Number of Successes')\n",
    "plt.ylabel('Frequency')\n",
    "plt.xticks([0, 1], ['Failure', 'Success'])\n",
    "plt.title('Binomial Distribution with p=0.4')\n",
    "plt.show()"
   ]
  },
  {
   "cell_type": "markdown",
   "id": "7ec8c098-348e-4c23-b82a-901866ecfa55",
   "metadata": {},
   "source": [
    "## Q6. Write a Python function to calculate the cumulative distribution function of a Poisson distribution with given mean at a given point."
   ]
  },
  {
   "cell_type": "code",
   "execution_count": 7,
   "id": "951d5173-88a1-4abd-812d-d2b2a3252f6c",
   "metadata": {},
   "outputs": [],
   "source": [
    "from scipy.stats import poisson\n",
    "\n",
    "def poisson_cdf(x, mean):\n",
    "    \"\"\"\n",
    "    Calculate the cumulative distribution function (CDF) of a Poisson distribution.\n",
    "\n",
    "    Parameters:\n",
    "        x (int): The point at which to calculate the CDF.\n",
    "        mean (float): Mean of the Poisson distribution.\n",
    "\n",
    "    Returns:\n",
    "        float: The CDF value at the given point.\n",
    "    \"\"\"\n",
    "    cdf_value = poisson.cdf(x, mu=mean)\n",
    "    return cdf_value"
   ]
  },
  {
   "cell_type": "markdown",
   "id": "5bd4eb88-cb8f-4035-8a0f-9603a4cfd3ed",
   "metadata": {},
   "source": [
    "## \n",
    "mean = 5\n",
    "\n",
    "Calculate the CDF at x = 2\n",
    "\n",
    "cdf_at_x = poisson_cdf(2, mean)\n",
    "\n",
    "print(\"CDF at x = 2:\", cdf_at_x)"
   ]
  },
  {
   "cell_type": "markdown",
   "id": "3e8f927c-36ac-460b-9966-d0c6d487518e",
   "metadata": {},
   "source": [
    "## Q7. How Binomial distribution different from Poisson distribution?"
   ]
  },
  {
   "cell_type": "markdown",
   "id": "075cdc04-6ce6-40ff-8f29-af6ba3bc0022",
   "metadata": {},
   "source": [
    "## \n",
    "The Binomial distribution and Poisson distribution are both probability distributions used to model the number of successes or events in a fixed number of trials or a fixed interval of time or space. However, they have some key differences in their underlying assumptions and applications:\n",
    "\n",
    "Assumptions:\n",
    "\n",
    "Binomial Distribution: The binomial distribution assumes a fixed number of independent trials, each with two possible outcomes (success or failure). The probability of success remains constant across all trials.\n",
    "\n",
    "Poisson Distribution: The Poisson distribution assumes a fixed interval of time or space and measures the number of events occurring within that interval. It is used to model rare events where the average rate of occurrence is known, and the events happen independently of each other.\n",
    "Type of Random Variable:\n",
    "\n",
    "Binomial Distribution: The binomial distribution models a discrete random variable, as it deals with a count of successes in a fixed number of trials. The number of successes must be a whole number.\n",
    "\n",
    "Poisson Distribution: The Poisson distribution also models a discrete random variable, representing the count of events in a fixed interval. The number of events must be a whole number.\n",
    "\n",
    "Number of Trials/Events:\n",
    "\n",
    "Binomial Distribution: The binomial distribution requires a fixed and predetermined number of trials (n), and the random variable represents the number of successes (k) out of those n trials.\n",
    "\n",
    "Poisson Distribution: The Poisson distribution does not involve a fixed number of trials. Instead, it is used to model the count of rare events within a specified interval, where the average rate of occurrence (λ) is known.\n",
    "\n",
    "Probability of Success/Event Rate:\n",
    "\n",
    "Binomial Distribution: In the binomial distribution, the probability of success (p) remains constant across all trials.\n",
    "Poisson Distribution: In the Poisson distribution, the average rate of events (λ) remains constant over time or space, but the probability of each individual event may vary.\n",
    "\n",
    "Applications:\n",
    "\n",
    "Binomial Distribution: The binomial distribution is commonly used for scenarios like coin flips, product quality control, survey responses (yes/no), and situations where each trial has two possible outcomes.\n",
    "\n",
    "Poisson Distribution: The Poisson distribution is used to model rare events or phenomena with a known average rate of occurrence, such as the number of customers arriving at a store per hour, the number of defects in a product, or the number of accidents in a day.\n",
    "\n",
    "In summary, both distributions deal with the count of events, but the key differences lie in the underlying assumptions and applications. The binomial distribution is suitable for discrete events with a fixed number of trials and constant probability, while the Poisson distribution is suitable for modeling rare events occurring independently within a fixed interval with a known average rate of occurrence."
   ]
  },
  {
   "cell_type": "markdown",
   "id": "ae1eaf21-6fde-40dd-976f-3a566ee71b09",
   "metadata": {},
   "source": [
    "## Q8. Generate a random sample of size 1000 from a Poisson distribution with mean 5 and calculate the sample mean and variance."
   ]
  },
  {
   "cell_type": "code",
   "execution_count": 8,
   "id": "b5a9b0ed-8912-4cca-9186-63c98e4ef011",
   "metadata": {},
   "outputs": [
    {
     "name": "stdout",
     "output_type": "stream",
     "text": [
      "Sample Mean: 4.985\n",
      "Sample Variance: 5.001776776776777\n"
     ]
    }
   ],
   "source": [
    "import numpy as np\n",
    "\n",
    "# Set the seed for reproducibility (optional)\n",
    "np.random.seed(42)\n",
    "\n",
    "# Parameters for the Poisson distribution\n",
    "mean = 5\n",
    "sample_size = 1000\n",
    "\n",
    "# Generate random sample from the Poisson distribution\n",
    "random_sample = np.random.poisson(mean, size=sample_size)\n",
    "\n",
    "# Calculate the sample mean and variance\n",
    "sample_mean = np.mean(random_sample)\n",
    "sample_variance = np.var(random_sample, ddof=1)\n",
    "\n",
    "print(\"Sample Mean:\", sample_mean)\n",
    "print(\"Sample Variance:\", sample_variance)"
   ]
  },
  {
   "cell_type": "markdown",
   "id": "b219cc55-a910-43ed-a6bf-a9d41ca31ff7",
   "metadata": {},
   "source": [
    "## Q9. How mean and variance are related in Binomial distribution and Poisson distribution?"
   ]
  },
  {
   "cell_type": "markdown",
   "id": "90d85607-0f9e-4c5d-b329-c4d988c799f3",
   "metadata": {},
   "source": [
    "## \n",
    "In both the Binomial distribution and Poisson distribution, the mean and variance are related, but the nature of their relationship is different.\n",
    "\n",
    "1.Binomial Distribution:\n",
    "\n",
    "In a Binomial distribution with parameters n (number of trials) and p (probability of success), the mean (μ) and variance (σ^2) are related as follows:\n",
    "\n",
    "μ = n * p\n",
    "\n",
    "σ^2 = n * p * (1 - p)\n",
    "\n",
    "The mean of a Binomial distribution is equal to the product of the number of trials and the probability of success in each trial. The variance is the product of the number of trials, the probability of success, and the complement of the probability of success.\n",
    "\n",
    "2.Poisson Distribution:\n",
    "\n",
    "In a Poisson distribution with parameter λ (average rate of occurrence), the mean (μ) and variance (σ^2) are related as follows:\n",
    "\n",
    "μ = λ\n",
    "σ^2 = λ\n",
    "\n",
    "The mean and variance of a Poisson distribution are both equal to the average rate of occurrence (λ).\n",
    "\n",
    "In summary, for both the Binomial distribution and Poisson distribution:\n",
    "\n",
    "Mean (μ) is a measure of central tendency, representing the average value.\n",
    "\n",
    "Variance (σ^2) is a measure of dispersion, indicating the spread or variability of the data around the mean.\n",
    "\n",
    "However, the specific formulas for calculating the mean and variance are different for each distribution. For the Binomial distribution, the variance is influenced by both the number of trials and the probability of success, while for the Poisson distribution, the variance is solely determined by the average rate of occurrence."
   ]
  },
  {
   "cell_type": "markdown",
   "id": "8c59b594-127a-47d3-8f9d-47e84d5689e9",
   "metadata": {},
   "source": [
    "## Q10. In normal distribution with respect to mean position, where does the least frequent data appear?"
   ]
  },
  {
   "cell_type": "code",
   "execution_count": null,
   "id": "bcd47cee-f3a7-47cb-be00-21593f564439",
   "metadata": {},
   "outputs": [],
   "source": []
  }
 ],
 "metadata": {
  "kernelspec": {
   "display_name": "Python 3 (ipykernel)",
   "language": "python",
   "name": "python3"
  },
  "language_info": {
   "codemirror_mode": {
    "name": "ipython",
    "version": 3
   },
   "file_extension": ".py",
   "mimetype": "text/x-python",
   "name": "python",
   "nbconvert_exporter": "python",
   "pygments_lexer": "ipython3",
   "version": "3.10.8"
  }
 },
 "nbformat": 4,
 "nbformat_minor": 5
}
