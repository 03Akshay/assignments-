{
 "cells": [
  {
   "cell_type": "markdown",
   "id": "183194a8-b547-4554-bf5c-8e43511278ec",
   "metadata": {},
   "source": [
    "## Q1. Write a Python function that takes in two arrays of data and calculates the F-value for a variance ratio test. The function should return the F-value and the corresponding p-value for the test."
   ]
  },
  {
   "cell_type": "code",
   "execution_count": 4,
   "id": "2a7261c9-0601-4ef2-b9c6-8960ea3bfa0c",
   "metadata": {},
   "outputs": [
    {
     "name": "stdout",
     "output_type": "stream",
     "text": [
      "F-value: 25.0\n",
      "p-value: 0.0010528257933665396\n"
     ]
    }
   ],
   "source": [
    "import scipy.stats as stats\n",
    "\n",
    "def variance_ratio_test(data1, data2):\n",
    "    \"\"\"\n",
    "    Perform a variance ratio test (F-test) between two arrays of data.\n",
    "\n",
    "    Parameters:\n",
    "        data1 (array-like): First array of data.\n",
    "        data2 (array-like): Second array of data.\n",
    "\n",
    "    Returns:\n",
    "        f_value (float): The calculated F-value for the variance ratio test.\n",
    "        p_value (float): The corresponding p-value for the test.\n",
    "    \"\"\"\n",
    "    # Perform the variance ratio test (F-test)\n",
    "    f_value, p_value = stats.f_oneway(data1, data2)\n",
    "\n",
    "    return f_value, p_value\n",
    "\n",
    "data1 = [1, 2, 3, 4, 5]\n",
    "data2 = [6, 7, 8, 9, 10]\n",
    "\n",
    "f_value, p_value = variance_ratio_test(data1, data2)\n",
    "print(\"F-value:\", f_value)\n",
    "print(\"p-value:\", p_value)"
   ]
  },
  {
   "cell_type": "markdown",
   "id": "6ecadaad-cc6a-475d-8cbf-f5c7e81e5209",
   "metadata": {},
   "source": [
    "## Q2. Given a significance level of 0.05 and the degrees of freedom for the numerator and denominator of an F-distribution, write a Python function that returns the critical F-value for a two-tailed test."
   ]
  },
  {
   "cell_type": "code",
   "execution_count": 5,
   "id": "0cfae2c6-ab7f-4f71-9d13-4fb40ebd1893",
   "metadata": {},
   "outputs": [
    {
     "name": "stdout",
     "output_type": "stream",
     "text": [
      "Critical F-value: 3.8586986662732143\n"
     ]
    }
   ],
   "source": [
    "import scipy.stats as stats\n",
    "\n",
    "def critical_f_value(alpha, dfn, dfd):\n",
    "    \"\"\"\n",
    "    Calculate the critical F-value for a two-tailed test.\n",
    "\n",
    "    Parameters:\n",
    "        alpha (float): The significance level (e.g., 0.05 for 5% significance).\n",
    "        dfn (int): Degrees of freedom for the numerator.\n",
    "        dfd (int): Degrees of freedom for the denominator.\n",
    "\n",
    "    Returns:\n",
    "        critical_f (float): The critical F-value for the two-tailed test.\n",
    "    \"\"\"\n",
    "    # Calculate the critical F-value using the percent point function (ppf) of the F-distribution\n",
    "    critical_f = stats.f.ppf(1 - alpha/2, dfn, dfd)\n",
    "\n",
    "    return critical_f\n",
    "\n",
    "alpha = 0.05\n",
    "dfn = 3\n",
    "dfd = 20\n",
    "\n",
    "critical_f = critical_f_value(alpha, dfn, dfd)\n",
    "print(\"Critical F-value:\", critical_f)"
   ]
  },
  {
   "cell_type": "markdown",
   "id": "8d029cd7-70d8-4b17-9908-969cd61e1109",
   "metadata": {},
   "source": [
    "## Q3. Write a Python program that generates random samples from two normal distributions with known variances and uses an F-test to determine if the variances are equal. The program should output the F- value, degrees of freedom, and p-value for the test."
   ]
  },
  {
   "cell_type": "code",
   "execution_count": 7,
   "id": "d45d1660-e989-4b40-8dbc-43043db8a409",
   "metadata": {},
   "outputs": [
    {
     "name": "stdout",
     "output_type": "stream",
     "text": [
      "F-value: 0.7690758462866782\n",
      "Degrees of freedom (numerator): 29\n",
      "Degrees of freedom (denominator): 39\n",
      "p-value: 0.3835908603689383\n"
     ]
    }
   ],
   "source": [
    "import numpy as np\n",
    "import scipy.stats as stats\n",
    "\n",
    "def variance_equality_test(sample_size1, sample_size2, variance1, variance2, alpha):\n",
    "    \"\"\"\n",
    "    Perform an F-test to determine if the variances of two normal distributions are equal.\n",
    "\n",
    "    Parameters:\n",
    "        sample_size1 (int): Sample size of the first distribution.\n",
    "        sample_size2 (int): Sample size of the second distribution.\n",
    "        variance1 (float): Known variance of the first distribution.\n",
    "        variance2 (float): Known variance of the second distribution.\n",
    "        alpha (float): The significance level (e.g., 0.05 for 5% significance).\n",
    "\n",
    "    Returns:\n",
    "        f_value (float): The calculated F-value for the F-test.\n",
    "        dfn (int): Degrees of freedom for the numerator.\n",
    "        dfd (int): Degrees of freedom for the denominator.\n",
    "        p_value (float): The p-value for the F-test.\n",
    "    \"\"\"\n",
    "    # Generate random samples from two normal distributions with known variances\n",
    "    sample1 = np.random.normal(loc=0, scale=np.sqrt(variance1), size=sample_size1)\n",
    "    sample2 = np.random.normal(loc=0, scale=np.sqrt(variance2), size=sample_size2)\n",
    "\n",
    "    # Perform the F-test\n",
    "    f_value, p_value = stats.f_oneway(sample1, sample2)\n",
    "\n",
    "    # Calculate degrees of freedom\n",
    "    dfn = sample_size1 - 1\n",
    "    dfd = sample_size2 - 1\n",
    "\n",
    "    return f_value, dfn, dfd, p_value\n",
    "\n",
    "# Example usage\n",
    "sample_size1 = 30\n",
    "sample_size2 = 40\n",
    "variance1 = 4.0\n",
    "variance2 = 5.0\n",
    "alpha = 0.05\n",
    "\n",
    "f_value, dfn, dfd, p_value = variance_equality_test(sample_size1, sample_size2, variance1, variance2, alpha)\n",
    "\n",
    "print(\"F-value:\", f_value)\n",
    "print(\"Degrees of freedom (numerator):\", dfn)\n",
    "print(\"Degrees of freedom (denominator):\", dfd)\n",
    "print(\"p-value:\", p_value)"
   ]
  },
  {
   "cell_type": "markdown",
   "id": "bfb2d1d2-63a3-4ed3-9043-55a6c67f28e9",
   "metadata": {},
   "source": [
    "## Q4.The variances of two populations are known to be 10 and 15. A sample of 12 observations is taken from each population. Conduct an F-test at the 5% significance level to determine if the variances are significantly different."
   ]
  },
  {
   "cell_type": "code",
   "execution_count": 8,
   "id": "9151eb4c-1037-460f-8a4c-b6c35d95f043",
   "metadata": {},
   "outputs": [
    {
     "name": "stdout",
     "output_type": "stream",
     "text": [
      "F-value: inf\n",
      "Degrees of freedom (numerator): 11\n",
      "Degrees of freedom (denominator): 11\n",
      "p-value: 0.0\n"
     ]
    },
    {
     "name": "stderr",
     "output_type": "stream",
     "text": [
      "/opt/conda/lib/python3.10/site-packages/scipy/stats/_stats_py.py:3906: ConstantInputWarning: Each of the input arrays is constant;the F statistic is not defined or infinite\n",
      "  warnings.warn(stats.ConstantInputWarning(msg))\n"
     ]
    }
   ],
   "source": [
    "import scipy.stats as stats\n",
    "\n",
    "def f_test(sample_size1, sample_size2, variance1, variance2, alpha):\n",
    "    \"\"\"\n",
    "    Perform an F-test to determine if the variances of two populations are significantly different.\n",
    "\n",
    "    Parameters:\n",
    "        sample_size1 (int): Sample size of the first population.\n",
    "        sample_size2 (int): Sample size of the second population.\n",
    "        variance1 (float): Known variance of the first population.\n",
    "        variance2 (float): Known variance of the second population.\n",
    "        alpha (float): The significance level (e.g., 0.05 for 5% significance).\n",
    "\n",
    "    Returns:\n",
    "        f_value (float): The calculated F-value for the F-test.\n",
    "        dfn (int): Degrees of freedom for the numerator.\n",
    "        dfd (int): Degrees of freedom for the denominator.\n",
    "        p_value (float): The p-value for the F-test.\n",
    "    \"\"\"\n",
    "    # Perform the F-test\n",
    "    f_value, p_value = stats.f_oneway([variance1] * sample_size1, [variance2] * sample_size2)\n",
    "\n",
    "    # Calculate degrees of freedom\n",
    "    dfn = sample_size1 - 1\n",
    "    dfd = sample_size2 - 1\n",
    "\n",
    "    return f_value, dfn, dfd, p_value\n",
    "\n",
    "# Given data\n",
    "sample_size1 = 12\n",
    "sample_size2 = 12\n",
    "variance1 = 10.0\n",
    "variance2 = 15.0\n",
    "alpha = 0.05\n",
    "\n",
    "f_value, dfn, dfd, p_value = f_test(sample_size1, sample_size2, variance1, variance2, alpha)\n",
    "\n",
    "print(\"F-value:\", f_value)\n",
    "print(\"Degrees of freedom (numerator):\", dfn)\n",
    "print(\"Degrees of freedom (denominator):\", dfd)\n",
    "print(\"p-value:\", p_value)"
   ]
  },
  {
   "cell_type": "markdown",
   "id": "4c8bd406-f7b4-4c7b-bba6-2ce751d3d90c",
   "metadata": {},
   "source": [
    "## Q5. A manufacturer claims that the variance of the diameter of a certain product is 0.005. A sample of 25 products is taken, and the sample variance is found to be 0.006. Conduct an F-test at the 1% significance level to determine if the claim is justified."
   ]
  },
  {
   "cell_type": "code",
   "execution_count": 9,
   "id": "a64634db-ca8f-4bb8-9741-e8a84bace9a5",
   "metadata": {},
   "outputs": [
    {
     "name": "stdout",
     "output_type": "stream",
     "text": [
      "F-value: nan\n",
      "Degrees of freedom (numerator): 1\n",
      "Degrees of freedom (denominator): 24\n",
      "p-value: nan\n",
      "Fail to reject the null hypothesis. The sample variance is not significantly different from the claimed population variance.\n"
     ]
    },
    {
     "name": "stderr",
     "output_type": "stream",
     "text": [
      "/opt/conda/lib/python3.10/site-packages/scipy/stats/_stats_py.py:3880: DegenerateDataWarning: all input arrays have length 1.  f_oneway requires that at least one input has length greater than 1.\n",
      "  warnings.warn(stats.DegenerateDataWarning(msg))\n"
     ]
    }
   ],
   "source": [
    "import scipy.stats as stats\n",
    "\n",
    "def f_test(sample_size, sample_variance, population_variance, alpha):\n",
    "    \"\"\"\n",
    "    Perform an F-test to compare the sample variance to the claimed population variance.\n",
    "\n",
    "    Parameters:\n",
    "        sample_size (int): Sample size.\n",
    "        sample_variance (float): Sample variance.\n",
    "        population_variance (float): Claimed population variance.\n",
    "        alpha (float): The significance level (e.g., 0.01 for 1% significance).\n",
    "\n",
    "    Returns:\n",
    "        f_value (float): The calculated F-value for the F-test.\n",
    "        dfn (int): Degrees of freedom for the numerator.\n",
    "        dfd (int): Degrees of freedom for the denominator.\n",
    "        p_value (float): The p-value for the F-test.\n",
    "    \"\"\"\n",
    "    # Perform the F-test\n",
    "    f_value, p_value = stats.f_oneway([sample_variance], [population_variance])\n",
    "\n",
    "    # Calculate degrees of freedom\n",
    "    dfn = 1  # One degree of freedom for the numerator (sample variance)\n",
    "    dfd = sample_size - 1  # Degrees of freedom for the denominator (sample size - 1)\n",
    "\n",
    "    return f_value, dfn, dfd, p_value\n",
    "\n",
    "# Given data\n",
    "sample_size = 25\n",
    "sample_variance = 0.006\n",
    "population_variance_claimed = 0.005\n",
    "alpha = 0.01  # 1% significance level\n",
    "\n",
    "f_value, dfn, dfd, p_value = f_test(sample_size, sample_variance, population_variance_claimed, alpha)\n",
    "\n",
    "print(\"F-value:\", f_value)\n",
    "print(\"Degrees of freedom (numerator):\", dfn)\n",
    "print(\"Degrees of freedom (denominator):\", dfd)\n",
    "print(\"p-value:\", p_value)\n",
    "\n",
    "# Interpretation of the results\n",
    "if p_value < alpha:\n",
    "    print(\"Reject the null hypothesis. The sample variance is significantly different from the claimed population variance.\")\n",
    "else:\n",
    "    print(\"Fail to reject the null hypothesis. The sample variance is not significantly different from the claimed population variance.\")"
   ]
  },
  {
   "cell_type": "markdown",
   "id": "a1814b95-e8bd-45cc-b95c-1b71c77062a0",
   "metadata": {},
   "source": [
    "## Q6. Write a Python function that takes in the degrees of freedom for the numerator and denominator of an F-distribution and calculates the mean and variance of the distribution. The function should return the mean and variance as a tuple."
   ]
  },
  {
   "cell_type": "code",
   "execution_count": 10,
   "id": "66fb823c-de7a-4622-9d4a-444066f2d439",
   "metadata": {},
   "outputs": [
    {
     "name": "stdout",
     "output_type": "stream",
     "text": [
      "Mean: 1.25\n",
      "Variance: 1.3541666666666667\n"
     ]
    }
   ],
   "source": [
    "def f_distribution_mean_variance(dfn, dfd):\n",
    "    \"\"\"\n",
    "    Calculate the mean and variance of an F-distribution.\n",
    "\n",
    "    Parameters:\n",
    "        dfn (int): Degrees of freedom for the numerator.\n",
    "        dfd (int): Degrees of freedom for the denominator.\n",
    "\n",
    "    Returns:\n",
    "        mean (float): The calculated mean of the F-distribution.\n",
    "        variance (float): The calculated variance of the F-distribution.\n",
    "    \"\"\"\n",
    "    # Calculate the mean of the F-distribution\n",
    "    mean = dfd / (dfd - 2)\n",
    "\n",
    "    # Calculate the variance of the F-distribution\n",
    "    variance = (2 * (dfd**2) * (dfn + dfd - 2)) / (dfn * (dfd - 2)**2 * (dfd - 4))\n",
    "\n",
    "    return mean, variance\n",
    "\n",
    "dfn = 5\n",
    "dfd = 10\n",
    "\n",
    "mean, variance = f_distribution_mean_variance(dfn, dfd)\n",
    "print(\"Mean:\", mean)\n",
    "print(\"Variance:\", variance)"
   ]
  },
  {
   "cell_type": "markdown",
   "id": "ae9dd6da-06ef-4e3f-a01f-fcd9919dd3b2",
   "metadata": {},
   "source": [
    "## Q7. A random sample of 10 measurements is taken from a normal population with unknown variance. The sample variance is found to be 25. Another random sample of 15 measurements is taken from another normal population with unknown variance, and the sample variance is found to be 20. Conduct an F-test at the 10% significance level to determine if the variances are significantly different."
   ]
  },
  {
   "cell_type": "code",
   "execution_count": 11,
   "id": "7aa10332-3698-4ac0-9c1d-ae613e8a2ffd",
   "metadata": {},
   "outputs": [
    {
     "name": "stdout",
     "output_type": "stream",
     "text": [
      "F-value: nan\n",
      "Degrees of freedom (numerator): 9\n",
      "Degrees of freedom (denominator): 14\n",
      "p-value: nan\n",
      "Fail to reject the null hypothesis. The variances are not significantly different.\n"
     ]
    }
   ],
   "source": [
    "import scipy.stats as stats\n",
    "\n",
    "def f_test(sample_size1, sample_variance1, sample_size2, sample_variance2, alpha):\n",
    "    \"\"\"\n",
    "    Perform an F-test to compare the sample variances of two populations.\n",
    "\n",
    "    Parameters:\n",
    "        sample_size1 (int): Sample size of the first population.\n",
    "        sample_variance1 (float): Sample variance of the first population.\n",
    "        sample_size2 (int): Sample size of the second population.\n",
    "        sample_variance2 (float): Sample variance of the second population.\n",
    "        alpha (float): The significance level (e.g., 0.1 for 10% significance).\n",
    "\n",
    "    Returns:\n",
    "        f_value (float): The calculated F-value for the F-test.\n",
    "        dfn (int): Degrees of freedom for the numerator.\n",
    "        dfd (int): Degrees of freedom for the denominator.\n",
    "        p_value (float): The p-value for the F-test.\n",
    "    \"\"\"\n",
    "    # Perform the F-test\n",
    "    f_value, p_value = stats.f_oneway([sample_variance1], [sample_variance2])\n",
    "\n",
    "    # Calculate degrees of freedom\n",
    "    dfn = sample_size1 - 1\n",
    "    dfd = sample_size2 - 1\n",
    "\n",
    "    return f_value, dfn, dfd, p_value\n",
    "\n",
    "# Given data\n",
    "sample_size1 = 10\n",
    "sample_variance1 = 25\n",
    "sample_size2 = 15\n",
    "sample_variance2 = 20\n",
    "alpha = 0.10  # 10% significance level\n",
    "\n",
    "f_value, dfn, dfd, p_value = f_test(sample_size1, sample_variance1, sample_size2, sample_variance2, alpha)\n",
    "\n",
    "print(\"F-value:\", f_value)\n",
    "print(\"Degrees of freedom (numerator):\", dfn)\n",
    "print(\"Degrees of freedom (denominator):\", dfd)\n",
    "print(\"p-value:\", p_value)\n",
    "\n",
    "# Interpretation of the results\n",
    "if p_value < alpha:\n",
    "    print(\"Reject the null hypothesis. The variances are significantly different.\")\n",
    "else:\n",
    "    print(\"Fail to reject the null hypothesis. The variances are not significantly different.\")"
   ]
  },
  {
   "cell_type": "markdown",
   "id": "29c34f7a-7cfc-4832-aecb-af62a5791bf6",
   "metadata": {},
   "source": [
    "## Q8. The following data represent the waiting times in minutes at two different restaurants on a Saturday night: Restaurant A: 24, 25, 28, 23, 22, 20, 27; Restaurant B: 31, 33, 35, 30, 32, 36. Conduct an F-test at the 5% significance level to determine if the variances are significantly different."
   ]
  },
  {
   "cell_type": "code",
   "execution_count": 12,
   "id": "1dc1b5cc-4290-4231-9c72-920f8eee77cc",
   "metadata": {},
   "outputs": [
    {
     "name": "stdout",
     "output_type": "stream",
     "text": [
      "F-value: 36.42289051820553\n",
      "Degrees of freedom (numerator): 6\n",
      "Degrees of freedom (denominator): 5\n",
      "p-value: 8.48759371471029e-05\n",
      "Reject the null hypothesis. The variances are significantly different.\n"
     ]
    }
   ],
   "source": [
    "import numpy as np\n",
    "import scipy.stats as stats\n",
    "\n",
    "def f_test(sample1, sample2, alpha):\n",
    "    \"\"\"\n",
    "    Perform an F-test to compare the sample variances of two populations.\n",
    "\n",
    "    Parameters:\n",
    "        sample1 (array-like): Sample data for the first population.\n",
    "        sample2 (array-like): Sample data for the second population.\n",
    "        alpha (float): The significance level (e.g., 0.05 for 5% significance).\n",
    "\n",
    "    Returns:\n",
    "        f_value (float): The calculated F-value for the F-test.\n",
    "        dfn (int): Degrees of freedom for the numerator.\n",
    "        dfd (int): Degrees of freedom for the denominator.\n",
    "        p_value (float): The p-value for the F-test.\n",
    "    \"\"\"\n",
    "    # Calculate the sample variances\n",
    "    sample_variance1 = np.var(sample1, ddof=1)  # ddof=1 for unbiased sample variance calculation\n",
    "    sample_variance2 = np.var(sample2, ddof=1)\n",
    "\n",
    "    # Perform the F-test\n",
    "    f_value, p_value = stats.f_oneway(sample1, sample2)\n",
    "\n",
    "    # Calculate degrees of freedom\n",
    "    dfn = len(sample1) - 1\n",
    "    dfd = len(sample2) - 1\n",
    "\n",
    "    return f_value, dfn, dfd, p_value\n",
    "\n",
    "# Given data\n",
    "restaurant_A = np.array([24, 25, 28, 23, 22, 20, 27])\n",
    "restaurant_B = np.array([31, 33, 35, 30, 32, 36])\n",
    "alpha = 0.05  # 5% significance level\n",
    "\n",
    "f_value, dfn, dfd, p_value = f_test(restaurant_A, restaurant_B, alpha)\n",
    "\n",
    "print(\"F-value:\", f_value)\n",
    "print(\"Degrees of freedom (numerator):\", dfn)\n",
    "print(\"Degrees of freedom (denominator):\", dfd)\n",
    "print(\"p-value:\", p_value)\n",
    "\n",
    "# Interpretation of the results\n",
    "if p_value < alpha:\n",
    "    print(\"Reject the null hypothesis. The variances are significantly different.\")\n",
    "else:\n",
    "    print(\"Fail to reject the null hypothesis. The variances are not significantly different.\")"
   ]
  },
  {
   "cell_type": "markdown",
   "id": "4cf20b35-61d4-4a75-9de4-cb729e8f678b",
   "metadata": {},
   "source": [
    "## Q9. The following data represent the test scores of two groups of students: Group A: 80, 85, 90, 92, 87, 83; Group B: 75, 78, 82, 79, 81, 84. Conduct an F-test at the 1% significance level to determine if the variances are significantly different."
   ]
  },
  {
   "cell_type": "code",
   "execution_count": 13,
   "id": "f04477b7-4a58-44d9-9bfa-38145e5a9367",
   "metadata": {},
   "outputs": [
    {
     "name": "stdout",
     "output_type": "stream",
     "text": [
      "F-value: 8.040089086859687\n",
      "Degrees of freedom (numerator): 5\n",
      "Degrees of freedom (denominator): 5\n",
      "p-value: 0.017684171924487787\n",
      "Fail to reject the null hypothesis. The variances are not significantly different.\n"
     ]
    }
   ],
   "source": [
    "import numpy as np\n",
    "import scipy.stats as stats\n",
    "\n",
    "def f_test(sample1, sample2, alpha):\n",
    "    \"\"\"\n",
    "    Perform an F-test to compare the sample variances of two populations.\n",
    "\n",
    "    Parameters:\n",
    "        sample1 (array-like): Sample data for the first population.\n",
    "        sample2 (array-like): Sample data for the second population.\n",
    "        alpha (float): The significance level (e.g., 0.01 for 1% significance).\n",
    "\n",
    "    Returns:\n",
    "        f_value (float): The calculated F-value for the F-test.\n",
    "        dfn (int): Degrees of freedom for the numerator.\n",
    "        dfd (int): Degrees of freedom for the denominator.\n",
    "        p_value (float): The p-value for the F-test.\n",
    "    \"\"\"\n",
    "    # Calculate the sample variances\n",
    "    sample_variance1 = np.var(sample1, ddof=1)  # ddof=1 for unbiased sample variance calculation\n",
    "    sample_variance2 = np.var(sample2, ddof=1)\n",
    "\n",
    "    # Perform the F-test\n",
    "    f_value, p_value = stats.f_oneway(sample1, sample2)\n",
    "\n",
    "    # Calculate degrees of freedom\n",
    "    dfn = len(sample1) - 1\n",
    "    dfd = len(sample2) - 1\n",
    "\n",
    "    return f_value, dfn, dfd, p_value\n",
    "\n",
    "# Given data\n",
    "group_A = np.array([80, 85, 90, 92, 87, 83])\n",
    "group_B = np.array([75, 78, 82, 79, 81, 84])\n",
    "alpha = 0.01  # 1% significance level\n",
    "\n",
    "f_value, dfn, dfd, p_value = f_test(group_A, group_B, alpha)\n",
    "\n",
    "print(\"F-value:\", f_value)\n",
    "print(\"Degrees of freedom (numerator):\", dfn)\n",
    "print(\"Degrees of freedom (denominator):\", dfd)\n",
    "print(\"p-value:\", p_value)\n",
    "\n",
    "# Interpretation of the results\n",
    "if p_value < alpha:\n",
    "    print(\"Reject the null hypothesis. The variances are significantly different.\")\n",
    "else:\n",
    "    print(\"Fail to reject the null hypothesis. The variances are not significantly different.\")"
   ]
  }
 ],
 "metadata": {
  "kernelspec": {
   "display_name": "Python 3 (ipykernel)",
   "language": "python",
   "name": "python3"
  },
  "language_info": {
   "codemirror_mode": {
    "name": "ipython",
    "version": 3
   },
   "file_extension": ".py",
   "mimetype": "text/x-python",
   "name": "python",
   "nbconvert_exporter": "python",
   "pygments_lexer": "ipython3",
   "version": "3.10.8"
  }
 },
 "nbformat": 4,
 "nbformat_minor": 5
}
