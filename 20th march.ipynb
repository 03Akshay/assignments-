{
 "cells": [
  {
   "cell_type": "markdown",
   "id": "537e5f61-af15-4483-ac84-39c0d3597519",
   "metadata": {},
   "source": [
    "## Q1. What is data encoding? How is it useful in data science?"
   ]
  },
  {
   "cell_type": "markdown",
   "id": "ee1cf1d3-338a-4dad-b70d-c956986e430a",
   "metadata": {},
   "source": [
    "##\n",
    "Data encoding is the process of converting categorical data into a numerical format that can be easily processed and used in data analysis and machine learning algorithms. Categorical data represents discrete and unordered values, such as labels or categories, and cannot be directly used in many data science tasks as they require numerical inputs.\n",
    "\n",
    "In data science, data encoding is essential for various reasons:\n",
    "\n",
    "Machine Learning Algorithms: Most machine learning algorithms, such as regression and neural networks, require numeric input data. By encoding categorical data into numerical form, we can include these variables in our models and make predictions.\n",
    "\n",
    "Feature Engineering: Data encoding is a crucial part of feature engineering, which involves creating new meaningful features from raw data. By encoding categorical variables, we can create numerical features that capture important information.\n",
    "\n",
    "Data Preprocessing: Data encoding is an integral part of data preprocessing, where we prepare the data for analysis. Converting categorical data to numerical form is one of the key steps in this process.\n",
    "\n",
    "Efficient Storage: Numerical data takes up less memory than categorical data, so encoding helps in efficient storage and processing of large datasets.\n",
    "\n",
    "Statistical Analysis: Numerical data enables us to perform various statistical analyses, such as computing means, medians, and standard deviations, which are not directly possible with categorical data.\n",
    "\n",
    "Common methods of data encoding include:\n",
    "\n",
    "Label Encoding: Assigning a unique integer to each category in a column. It is useful when the categories have an inherent ordinal relationship.\n",
    "\n",
    "One-Hot Encoding: Creating binary columns for each category in a column. Each binary column represents the presence (1) or absence (0) of a category. This method is suitable when the categories have no ordinal relationship.\n",
    "\n",
    "Ordinal Encoding: Assigning numeric values to categories based on their order or rank. This method is used when the categories have a meaningful order.\n",
    "\n",
    "Target Encoding: Replacing categories with the mean of the target variable for each category. It is useful for high-cardinality categorical variables.\n",
    "\n",
    "Overall, data encoding is a crucial technique in data science that enables us to use categorical data effectively in various analytical and machine learning tasks, allowing us to gain insights and make predictions from diverse types of data."
   ]
  },
  {
   "cell_type": "markdown",
   "id": "8fb12e61-ee26-490e-9fc8-7c597d449c96",
   "metadata": {},
   "source": [
    "## Q2. What is nominal encoding? Provide an example of how you would use it in a real-world scenario."
   ]
  },
  {
   "cell_type": "markdown",
   "id": "736f6252-5f09-40ad-91d4-6e1d8dd1ba40",
   "metadata": {},
   "source": [
    "##\n",
    "Nominal Encoding, also known as One-Hot Encoding, is a technique used to convert categorical data into numerical form by creating binary columns for each category. Each binary column represents the presence (1) or absence (0) of a particular category.\n",
    "\n",
    "In Python, you can use the pandas library to perform One-Hot Encoding. Let's illustrate how to use it in a real-world scenario:"
   ]
  },
  {
   "cell_type": "code",
   "execution_count": 2,
   "id": "c77e9d18-9df0-470f-9d49-1153c39c17b7",
   "metadata": {},
   "outputs": [
    {
     "name": "stdout",
     "output_type": "stream",
     "text": [
      "   Car Model Fuel Type\n",
      "0     Toyota  Gasoline\n",
      "1      Honda    Hybrid\n",
      "2       Ford    Diesel\n",
      "3        BMW  Gasoline\n",
      "4  Chevrolet  Gasoline\n",
      "   Car Model  Fuel Type_Diesel  Fuel Type_Gasoline  Fuel Type_Hybrid\n",
      "0     Toyota                 0                   1                 0\n",
      "1      Honda                 0                   0                 1\n",
      "2       Ford                 1                   0                 0\n",
      "3        BMW                 0                   1                 0\n",
      "4  Chevrolet                 0                   1                 0\n"
     ]
    }
   ],
   "source": [
    "import pandas as pd\n",
    "\n",
    "data = {\n",
    "    'Car Model': ['Toyota', 'Honda', 'Ford', 'BMW', 'Chevrolet'],\n",
    "    'Fuel Type': ['Gasoline', 'Hybrid', 'Diesel', 'Gasoline', 'Gasoline']\n",
    "}\n",
    "\n",
    "df = pd.DataFrame(data)\n",
    "print(df)\n",
    "\n",
    "# Perform One-Hot Encoding\n",
    "encoded_df = pd.get_dummies(df, columns=['Fuel Type'])\n",
    "\n",
    "print(encoded_df)"
   ]
  },
  {
   "cell_type": "markdown",
   "id": "dae9f2a2-d51d-4b7b-a7b0-d242f78f8847",
   "metadata": {},
   "source": [
    "## Q3. In what situations is nominal encoding preferred over one-hot encoding? Provide a practical example."
   ]
  },
  {
   "cell_type": "markdown",
   "id": "253e6c45-4ac1-410d-888a-baedf3c95730",
   "metadata": {},
   "source": [
    "##\n",
    "Nominal encoding, also known as label encoding, is preferred over one-hot encoding in situations where the categorical data has an inherent ordinal relationship among the categories. An ordinal relationship means that the categories have a meaningful order or rank, and encoding them as numerical values in a specific order can capture this relationship.\n",
    "\n",
    "In such cases, using nominal encoding (label encoding) can preserve the ordinal information and provide a more compact representation compared to one-hot encoding, which creates binary columns for each category."
   ]
  },
  {
   "cell_type": "code",
   "execution_count": 3,
   "id": "2bb1cda0-3cdc-4467-8576-65a283891095",
   "metadata": {},
   "outputs": [
    {
     "name": "stdout",
     "output_type": "stream",
     "text": [
      "   Student      Grade\n",
      "0     John  Excellent\n",
      "1    Alice       Good\n",
      "2      Bob    Average\n",
      "3     Mary       Good\n",
      "4  Michael  Excellent\n",
      "   Student      Grade  Grade_Encoded\n",
      "0     John  Excellent              1\n",
      "1    Alice       Good              2\n",
      "2      Bob    Average              0\n",
      "3     Mary       Good              2\n",
      "4  Michael  Excellent              1\n"
     ]
    }
   ],
   "source": [
    "import pandas as pd\n",
    "\n",
    "data = {\n",
    "    'Student': ['John', 'Alice', 'Bob', 'Mary', 'Michael'],\n",
    "    'Grade': ['Excellent', 'Good', 'Average', 'Good', 'Excellent']\n",
    "}\n",
    "\n",
    "df = pd.DataFrame(data)\n",
    "print(df)\n",
    "\n",
    "from sklearn.preprocessing import LabelEncoder\n",
    "\n",
    "# Perform Nominal Encoding (Label Encoding)\n",
    "label_encoder = LabelEncoder()\n",
    "df['Grade_Encoded'] = label_encoder.fit_transform(df['Grade'])\n",
    "\n",
    "print(df)"
   ]
  },
  {
   "cell_type": "markdown",
   "id": "3cae30cb-0dc7-4fca-98fc-411bcf46f93b",
   "metadata": {},
   "source": [
    "## Q4. Suppose you have a dataset containing categorical data with 5 unique values. Which encoding technique would you use to transform this data into a format suitable for machine learning algorithms? Explain why you made this choice."
   ]
  },
  {
   "cell_type": "markdown",
   "id": "353e465a-55e8-4672-8907-a608844469e3",
   "metadata": {},
   "source": [
    "## \n",
    "\n",
    "If the dataset contains categorical data with 5 unique values, the most suitable encoding technique would depend on the nature of the categorical data and its relationship with the target variable.\n",
    "\n",
    "One-Hot Encoding: If the categorical data represents unordered categories with no inherent ordinal relationship, and the machine learning algorithm being used can handle multiple input features, then one-hot encoding is a good choice. One-hot encoding will create binary columns for each unique category, and the presence (1) or absence (0) of a category will be represented by the binary values. This technique ensures that the machine learning algorithm treats each category independently without assuming any ordinal relationship.\n",
    "\n",
    "Label Encoding: If the categorical data represents ordered or ordinal categories, and there is a meaningful order among the categories, then label encoding can be a suitable choice. Label encoding assigns a unique integer to each category, preserving the ordinality. However, in this case, it's essential to ensure that the machine learning algorithm can interpret the encoded numerical values as ordinal information. Some algorithms can interpret label encoded data with numeric values, but others may assume an inherent order that doesn't exist, leading to incorrect results.\n",
    "\n",
    "Target Encoding: If the categorical data represents high-cardinality categorical variables (i.e., with many unique values) and there is a strong relationship between the categorical variable and the target variable, target encoding can be considered. Target encoding replaces the categorical values with the mean (or other summary statistic) of the target variable for each category. It can be helpful when there is a meaningful relationship between the categorical variable and the target, and one-hot encoding may lead to high-dimensional data.\n",
    "\n",
    "In Python, you can use the following libraries for these encoding techniques:\n",
    "\n",
    "One-Hot Encoding: Use pandas.get_dummies() for one-hot encoding.\n",
    "Label Encoding: Use sklearn.preprocessing.LabelEncoder() for label encoding.\n",
    "Target Encoding: Target encoding is not directly available in scikit-learn, but you can implement it using libraries like category_encoders or custom encoding functions."
   ]
  },
  {
   "cell_type": "markdown",
   "id": "26088350-afa1-4c20-8097-00ac526e7c1a",
   "metadata": {},
   "source": [
    "## Q5. In a machine learning project, you have a dataset with 1000 rows and 5 columns. Two of the columns are categorical, and the remaining three columns are numerical. If you were to use nominal encoding to transform the categorical data, how many new columns would be created? Show your calculations."
   ]
  },
  {
   "cell_type": "code",
   "execution_count": 4,
   "id": "d7e15616-c853-41f1-9a7b-e783322ab610",
   "metadata": {},
   "outputs": [
    {
     "name": "stdout",
     "output_type": "stream",
     "text": [
      "Number of unique categories in Categorical Column 1: 3\n",
      "Number of unique categories in Categorical Column 2: 4\n",
      "Total number of new columns created: 7\n"
     ]
    }
   ],
   "source": [
    "import pandas as pd\n",
    "\n",
    "# Sample data with two categorical columns\n",
    "data = {\n",
    "    'Categorical1': ['A', 'B', 'C', 'A', 'C'],\n",
    "    'Categorical2': ['X', 'Y', 'Z', 'W', 'X'],\n",
    "    'Numerical1': [10, 20, 30, 40, 50],\n",
    "    'Numerical2': [5, 15, 25, 35, 45],\n",
    "    'Numerical3': [100, 200, 300, 400, 500]\n",
    "}\n",
    "\n",
    "# Create a DataFrame\n",
    "df = pd.DataFrame(data)\n",
    "\n",
    "# Find the number of unique categories in each categorical column\n",
    "unique_categories_col1 = df['Categorical1'].nunique()\n",
    "unique_categories_col2 = df['Categorical2'].nunique()\n",
    "\n",
    "# Calculate the total number of new columns (equals the number of categorical columns)\n",
    "total_new_columns = unique_categories_col1 + unique_categories_col2\n",
    "\n",
    "print(\"Number of unique categories in Categorical Column 1:\", unique_categories_col1)\n",
    "print(\"Number of unique categories in Categorical Column 2:\", unique_categories_col2)\n",
    "print(\"Total number of new columns created:\", total_new_columns)"
   ]
  },
  {
   "cell_type": "markdown",
   "id": "5caadc0a-dcdc-4bc4-9df1-f4c69a5d8043",
   "metadata": {},
   "source": [
    "## Q6. You are working with a dataset containing information about different types of animals, including their species, habitat, and diet. Which encoding technique would you use to transform the categorical data into a format suitable for machine learning algorithms? Justify your answer."
   ]
  },
  {
   "cell_type": "markdown",
   "id": "f1e31822-824d-4e91-b188-1fe256a6ef4d",
   "metadata": {},
   "source": [
    "## \n",
    "The choice of encoding technique to transform the categorical data about different types of animals (species, habitat, and diet) into a format suitable for machine learning algorithms depends on the nature of the categorical variables and the requirements of the machine learning task. Here are three common encoding techniques, along with their justifications:\n",
    "\n",
    "One-Hot Encoding: If the categorical variables (species, habitat, and diet) are nominal and have no inherent ordinal relationship, one-hot encoding is a suitable choice. One-hot encoding creates binary columns for each unique category in the categorical variables, representing the presence (1) or absence (0) of each category. This technique ensures that the machine learning algorithm treats each category independently without assuming any order or rank among the categories.\n",
    "\n",
    "Example: Let's assume the 'species' column has three unique categories: 'Lion', 'Elephant', and 'Giraffe'. After one-hot encoding, the 'species' column would be transformed into three binary columns, one for each species.\n",
    "\n",
    "Label Encoding: If the categorical variables have an inherent ordinal relationship, such as 'Low', 'Medium', 'High', then label encoding can be used. Label encoding assigns a unique integer to each category, preserving the ordinality. However, it is essential to ensure that the machine learning algorithm can interpret the encoded numerical values as ordinal information and not assume an incorrect inherent order.\n",
    "Example: If the 'habitat' column has three unique categories: 'Forest', 'Grassland', 'Desert', and there is an inherent order (e.g., 'Forest' < 'Grassland' < 'Desert'), label encoding can represent them as integers: 'Forest' -> 0, 'Grassland' -> 1, 'Desert' -> 2.\n",
    "\n",
    "Target Encoding: If the categorical variables have high-cardinality (many unique values) and there is a strong relationship between the categorical variable and the target variable (e.g., 'diet' and 'species' influence animal behavior), target encoding can be considered. Target encoding replaces the categorical values with the mean (or other summary statistic) of the target variable for each category. It can be helpful when there is a meaningful relationship between the categorical variable and the target variable.\n",
    "Example: If 'diet' is a categorical variable and has many unique categories, target encoding would replace each diet category with the mean of the target variable (e.g., 'weight') for animals with that diet.\n",
    "\n",
    "In Python, you can use pandas and scikit-learn libraries to implement these encoding techniques.\n",
    "\n",
    "In summary, the choice of encoding technique for the animal dataset would depend on the specific characteristics of the categorical variables and the machine learning task's requirements. One-hot encoding is a safe choice when dealing with nominal categorical variables, while label encoding is suitable for ordinal categorical variables. Target encoding can be considered for high-cardinality categorical variables when there is a strong relationship with the target variable."
   ]
  },
  {
   "cell_type": "markdown",
   "id": "ced9ccb2-248f-4ed1-ae42-e9ccb2c8f778",
   "metadata": {},
   "source": [
    "## Q7.You are working on a project that involves predicting customer churn for a telecommunications company. You have a dataset with 5 features, including the customer's gender, age, contract type, monthly charges, and tenure. Which encoding technique(s) would you use to transform the categorical data into numerical data? Provide a step-by-step explanation of how you would implement the encoding."
   ]
  },
  {
   "cell_type": "code",
   "execution_count": null,
   "id": "082bdfa3-bef3-4a95-a51d-764e0e8c5882",
   "metadata": {},
   "outputs": [],
   "source": [
    "# step-1\n",
    "import pandas as pd\n",
    "\n",
    "# Load the dataset (replace 'filename.csv' with the actual filename)\n",
    "df = pd.read_csv('filename.csv')\n",
    "\n",
    "# Display the first few rows of the dataset to understand its structure\n",
    "print(df.head())\n",
    "\n",
    "# step-2\n",
    "# Identify the unique categories in the 'gender' column\n",
    "print(df['gender'].unique())\n",
    "\n",
    "# Identify the unique categories in the 'contract type' column\n",
    "print(df['contract type'].unique())\n",
    "\n",
    "#step-3\n",
    "# Use pandas.get_dummies() for One-Hot Encoding\n",
    "gender_encoded = pd.get_dummies(df['gender'], drop_first=True)  # drop_first=True to create n-1 binary columns\n",
    "print(gender_encoded.head())\n",
    "\n",
    "#step-4\n",
    "from sklearn.preprocessing import LabelEncoder\n",
    "\n",
    "# Use LabelEncoder for Label Encoding\n",
    "label_encoder = LabelEncoder()\n",
    "df['contract type encoded'] = label_encoder.fit_transform(df['contract type'])\n",
    "print(df[['contract type', 'contract type encoded']].head())\n",
    "\n",
    "#step-5\n",
    "# Concatenate the encoded gender column with the original DataFrame\n",
    "df_encoded = pd.concat([df, gender_encoded], axis=1)\n",
    "\n",
    "# Drop the original 'gender' and 'contract type' columns, as they are no longer needed\n",
    "df_encoded.drop(columns=['gender', 'contract type'], inplace=True)\n",
    "\n",
    "print(df_encoded.head())"
   ]
  }
 ],
 "metadata": {
  "kernelspec": {
   "display_name": "Python 3 (ipykernel)",
   "language": "python",
   "name": "python3"
  },
  "language_info": {
   "codemirror_mode": {
    "name": "ipython",
    "version": 3
   },
   "file_extension": ".py",
   "mimetype": "text/x-python",
   "name": "python",
   "nbconvert_exporter": "python",
   "pygments_lexer": "ipython3",
   "version": "3.10.8"
  }
 },
 "nbformat": 4,
 "nbformat_minor": 5
}
