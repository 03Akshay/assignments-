{
 "cells": [
  {
   "cell_type": "markdown",
   "id": "67a9197d-3f30-44c7-8b0b-1fac50c366ab",
   "metadata": {},
   "source": [
    "## Q1. What is Ridge Regression, and how does it differ from ordinary least squares regression?"
   ]
  },
  {
   "cell_type": "markdown",
   "id": "b312e042-dc5c-48dd-80b7-1007c04cd5e3",
   "metadata": {},
   "source": [
    "##\n",
    "Ridge Regression, also known as L2 regularization, is a linear regression technique used to address multicollinearity (high correlation) between predictor variables and prevent overfitting in the model. In Ridge Regression, an L2 penalty term is added to the ordinary least squares (OLS) cost function to constrain the model's coefficients and prevent them from becoming too large.\n",
    "\n",
    "Ordinary Least Squares (OLS) Regression:\n",
    "OLS Regression is a linear regression method that aims to find the best-fitting line through the data by minimizing the sum of squared differences between the observed dependent variable (Y) and the predicted values (Y_hat). It does not include any regularization term and can be sensitive to multicollinearity when predictor variables are highly correlated.\n",
    "\n",
    "Ridge Regression:\n",
    "In Ridge Regression, the cost function is modified by adding an L2 regularization term that penalizes large coefficients. This regularization term is controlled by a hyperparameter called \"alpha\" (or \"lambda\"), which determines the strength of the regularization. As the value of alpha increases, the impact of the L2 penalty becomes stronger, and the model's coefficients are pushed towards zero.\n",
    "\n",
    "The Ridge cost function is as follows:\n",
    "\n",
    "Cost = Sum of Squared Errors + alpha * Sum of Squared Values of Coefficients\n",
    "\n",
    "The regularization term, alpha * Sum of Squared Values of Coefficients, prevents the coefficients from taking large values, even in the presence of multicollinearity. Ridge Regression is particularly useful when dealing with datasets that have high collinearity between predictor variables."
   ]
  },
  {
   "cell_type": "code",
   "execution_count": 1,
   "id": "8270709e-71b2-48af-8838-eff1d37c3089",
   "metadata": {},
   "outputs": [
    {
     "name": "stdout",
     "output_type": "stream",
     "text": [
      "MSE (Ridge Regression): 105.78604284136125\n"
     ]
    }
   ],
   "source": [
    "import numpy as np\n",
    "from sklearn.linear_model import Ridge\n",
    "from sklearn.datasets import make_regression\n",
    "from sklearn.model_selection import train_test_split\n",
    "from sklearn.metrics import mean_squared_error\n",
    "\n",
    "# Generate synthetic data with noise (linear relationship)\n",
    "X, y = make_regression(n_samples=100, n_features=1, noise=10, random_state=42)\n",
    "\n",
    "# Split the data into training and testing sets\n",
    "X_train, X_test, y_train, y_test = train_test_split(X, y, test_size=0.2, random_state=42)\n",
    "\n",
    "# Fit the Ridge regression model with alpha (regularization strength) = 1.0\n",
    "ridge_model = Ridge(alpha=1.0)\n",
    "ridge_model.fit(X_train, y_train)\n",
    "\n",
    "# Make predictions on the test data\n",
    "y_pred = ridge_model.predict(X_test)\n",
    "\n",
    "# Calculate Mean Squared Error (MSE) to evaluate the model performance\n",
    "mse = mean_squared_error(y_test, y_pred)\n",
    "\n",
    "print(\"MSE (Ridge Regression):\", mse)"
   ]
  },
  {
   "cell_type": "markdown",
   "id": "cba664cd-b25d-4e8b-953d-530e5712d904",
   "metadata": {},
   "source": [
    "## Q2. What are the assumptions of Ridge Regression?"
   ]
  },
  {
   "cell_type": "markdown",
   "id": "b08dfd87-15f4-4f1b-a79a-ce477c7c4813",
   "metadata": {},
   "source": [
    "##\n",
    "Ridge Regression, like ordinary least squares (OLS) regression, makes certain assumptions about the data to ensure the validity and accuracy of the model. The key assumptions of Ridge Regression are:\n",
    "\n",
    "1. Linearity: Ridge Regression assumes that the relationship between the dependent variable (Y) and the predictor variables (X) is linear. The model seeks to fit a linear relationship between the variables.\n",
    "\n",
    "2. Independence: The observations in the dataset should be independent of each other. There should be no autocorrelation between the residuals (errors) of the model.\n",
    "\n",
    "3. Homoscedasticity: The variance of the residuals should be constant across all levels of the predictor variables. In other words, the spread of the residuals should be similar across the range of the predictor variables.\n",
    "\n",
    "4. No Perfect Multicollinearity: Ridge Regression assumes that there is no perfect multicollinearity among the predictor variables. Perfect multicollinearity occurs when one predictor variable can be perfectly predicted from a linear combination of other predictor variables. Ridge Regression can handle multicollinearity to some extent, but it becomes more problematic as the multicollinearity gets stronger.\n",
    "\n",
    "5. Normally Distributed Errors: The errors (residuals) of the model should be normally distributed. This assumption is important for conducting hypothesis tests and constructing confidence intervals.\n",
    "\n",
    "In practice, it's essential to check these assumptions before applying Ridge Regression to a dataset. You can use diagnostic plots and statistical tests to assess the validity of the assumptions."
   ]
  },
  {
   "cell_type": "code",
   "execution_count": 2,
   "id": "b7c4cf5d-2f2a-47ee-a063-d7f3c58ad9b6",
   "metadata": {},
   "outputs": [
    {
     "name": "stdout",
     "output_type": "stream",
     "text": [
      "MSE (Ridge Regression): 105.78604284136125\n"
     ]
    },
    {
     "data": {
      "image/png": "[encoded data removed]",
      "text/plain": [
       "<Figure size 640x480 with 1 Axes>"
      ]
     },
     "metadata": {},
     "output_type": "display_data"
    }
   ],
   "source": [
    "import numpy as np\n",
    "from sklearn.linear_model import Ridge\n",
    "from sklearn.datasets import make_regression\n",
    "from sklearn.model_selection import train_test_split\n",
    "import statsmodels.api as sm\n",
    "\n",
    "# Generate synthetic data with noise (linear relationship)\n",
    "X, y = make_regression(n_samples=100, n_features=1, noise=10, random_state=42)\n",
    "\n",
    "# Split the data into training and testing sets\n",
    "X_train, X_test, y_train, y_test = train_test_split(X, y, test_size=0.2, random_state=42)\n",
    "\n",
    "# Fit the Ridge regression model with alpha (regularization strength) = 1.0\n",
    "ridge_model = Ridge(alpha=1.0)\n",
    "ridge_model.fit(X_train, y_train)\n",
    "\n",
    "# Make predictions on the test data\n",
    "y_pred = ridge_model.predict(X_test)\n",
    "\n",
    "# Calculate Mean Squared Error (MSE) to evaluate the model performance\n",
    "mse = np.mean((y_test - y_pred) ** 2)\n",
    "\n",
    "# Check assumptions using residual plots\n",
    "residuals = y_test - y_pred\n",
    "fig = sm.qqplot(residuals, line='s')\n",
    "\n",
    "print(\"MSE (Ridge Regression):\", mse)"
   ]
  },
  {
   "cell_type": "markdown",
   "id": "664c92fc-a358-4e55-ab3f-7a5a6e742701",
   "metadata": {},
   "source": [
    "## Q3. How do you select the value of the tuning parameter (lambda) in Ridge Regression?"
   ]
  },
  {
   "cell_type": "markdown",
   "id": "e06e7a24-6cbb-41a3-bcb9-f6c60c77a94f",
   "metadata": {},
   "source": [
    "##\n",
    "Selecting the value of the tuning parameter (lambda or alpha) in Ridge Regression is a critical step in achieving the best model performance. The value of lambda controls the strength of regularization, and different values can lead to different model complexities and performance. There are several methods to select the value of lambda in Ridge Regression:\n",
    "\n",
    "1. Cross-Validation: One common approach is to use cross-validation to evaluate the model's performance for different values of lambda. You can divide the data into multiple folds, train the model on different subsets of the data, and then select the value of lambda that minimizes the average cross-validated error (e.g., Mean Squared Error or Mean Absolute Error).\n",
    "\n",
    "2. Grid Search: Grid search is a systematic approach that involves specifying a range of lambda values and evaluating the model's performance for each value within the range. The value of lambda that gives the best performance on a validation set is selected as the optimal value.\n",
    "\n",
    "3. RidgeCV: In scikit-learn, you can use the RidgeCV class, which performs cross-validated Ridge Regression using a range of alpha values. The class automatically selects the best alpha based on the specified scoring metric.\n",
    "\n",
    "4. Bayesian Ridge Regression: Bayesian Ridge Regression uses Bayesian methods to estimate the hyperparameters, including the regularization parameter lambda. It can be useful when there is prior knowledge about the distribution of the parameters.\n",
    "\n",
    "5. Regularization Path: Another approach is to compute the regularization path, which shows the behavior of coefficients for different values of lambda. By analyzing the regularization path, you can identify the range of lambda values where the coefficients stabilize."
   ]
  },
  {
   "cell_type": "code",
   "execution_count": 3,
   "id": "b788aadf-2ee5-4d93-8b10-559b31992324",
   "metadata": {},
   "outputs": [
    {
     "name": "stdout",
     "output_type": "stream",
     "text": [
      "Optimal alpha (lambda): 0.01\n",
      "Coefficients for the best alpha: [44.23742047]\n"
     ]
    }
   ],
   "source": [
    "import numpy as np\n",
    "from sklearn.linear_model import RidgeCV\n",
    "from sklearn.datasets import make_regression\n",
    "from sklearn.model_selection import train_test_split\n",
    "\n",
    "# Generate synthetic data with noise (linear relationship)\n",
    "X, y = make_regression(n_samples=100, n_features=1, noise=10, random_state=42)\n",
    "\n",
    "# Split the data into training and testing sets\n",
    "X_train, X_test, y_train, y_test = train_test_split(X, y, test_size=0.2, random_state=42)\n",
    "\n",
    "# Define a range of alpha values to try\n",
    "alphas = np.logspace(-6, 6, 13)\n",
    "\n",
    "# Initialize the RidgeCV model with cross-validation\n",
    "ridge_cv_model = RidgeCV(alphas=alphas, store_cv_values=True)\n",
    "\n",
    "# Fit the RidgeCV model to the data\n",
    "ridge_cv_model.fit(X_train, y_train)\n",
    "\n",
    "# Get the optimal alpha (lambda)\n",
    "best_alpha = ridge_cv_model.alpha_\n",
    "\n",
    "# Get the coefficients of the model for the best alpha\n",
    "coefficients = ridge_cv_model.coef_\n",
    "\n",
    "print(\"Optimal alpha (lambda):\", best_alpha)\n",
    "print(\"Coefficients for the best alpha:\", coefficients)"
   ]
  },
  {
   "cell_type": "markdown",
   "id": "f1c33640-2a16-43a3-becb-0353e65e8303",
   "metadata": {},
   "source": [
    "## Q4. Can Ridge Regression be used for feature selection? If yes, how?"
   ]
  },
  {
   "cell_type": "markdown",
   "id": "b132a686-46af-4c93-91a2-70330ff62908",
   "metadata": {},
   "source": [
    "##\n",
    "Yes, Ridge Regression can be used for feature selection, although it may not perform as explicit feature selection methods like Lasso Regression (L1 regularization). Ridge Regression introduces a regularization term to the cost function, which helps in reducing the impact of multicollinearity and preventing overfitting. However, Ridge Regression does not set any coefficients exactly to zero unless the regularization parameter (lambda or alpha) becomes infinite.\n",
    "\n",
    "While Ridge Regression does not perform feature selection by eliminating entire features from the model, it can still shrink the coefficients of less important features towards zero. Features with small coefficients are effectively penalized and have less impact on the predictions. As a result, Ridge Regression implicitly performs feature selection by reducing the contribution of less important features in the model.\n",
    "\n",
    "If you have a large number of features or suspect that many of them are irrelevant or redundant, Ridge Regression with cross-validated regularization can be useful in identifying the most relevant features. By adjusting the value of the regularization parameter (lambda or alpha) during cross-validation, you can observe which features have consistently small coefficients across different values of lambda. Features with consistently small coefficients are less influential in the model and may be considered less important for prediction.\n",
    "\n",
    "However, if you specifically want a model that sets some coefficients to exactly zero, you should consider using Lasso Regression (L1 regularization). Lasso is better suited for explicit feature selection, as it can force some features to be completely excluded from the model. If interpretability and a sparse model are crucial requirements, Lasso is a more appropriate choice.\n",
    "\n",
    "Keep in mind that the choice between Ridge and Lasso depends on the specific objectives of the analysis and the underlying data characteristics. If feature selection is a primary concern and multicollinearity is not a significant issue, Lasso Regression is generally preferred. If multicollinearity is a concern, Ridge Regression can be a useful alternative, as it helps stabilize the model without discarding any features entirely."
   ]
  },
  {
   "cell_type": "markdown",
   "id": "631911f0-5f3e-410e-ac57-85911664cb49",
   "metadata": {},
   "source": [
    "## Q5. How does the Ridge Regression model perform in the presence of multicollinearity?"
   ]
  },
  {
   "cell_type": "markdown",
   "id": "331b67dd-d605-41fd-a4a1-c856ea3b451d",
   "metadata": {},
   "source": [
    "##\n",
    "In the presence of multicollinearity, Ridge Regression can help stabilize the model and improve its performance compared to ordinary least squares (OLS) regression. Multicollinearity occurs when predictor variables are highly correlated with each other, which can lead to unstable coefficient estimates in OLS regression. Ridge Regression addresses this issue by introducing a regularization term that penalizes large coefficients, effectively reducing the impact of multicollinearity."
   ]
  },
  {
   "cell_type": "code",
   "execution_count": 4,
   "id": "50f6eff6-472e-4108-a4ec-e1d7f419b121",
   "metadata": {},
   "outputs": [
    {
     "name": "stdout",
     "output_type": "stream",
     "text": [
      "MSE (Ridge Regression): 6719.916891252493\n",
      "Coefficients: [71.74088127 19.22561685]\n"
     ]
    }
   ],
   "source": [
    "import numpy as np\n",
    "from sklearn.linear_model import Ridge\n",
    "from sklearn.datasets import make_regression\n",
    "from sklearn.model_selection import train_test_split\n",
    "from sklearn.metrics import mean_squared_error\n",
    "\n",
    "# Generate synthetic data with multicollinearity (highly correlated features)\n",
    "X, y = make_regression(n_samples=100, n_features=2, noise=10, random_state=42)\n",
    "\n",
    "# Introduce strong multicollinearity between the two features\n",
    "X[:, 1] = X[:, 0] + 0.1 * np.random.randn(100)\n",
    "\n",
    "# Split the data into training and testing sets\n",
    "X_train, X_test, y_train, y_test = train_test_split(X, y, test_size=0.2, random_state=42)\n",
    "\n",
    "# Fit the Ridge regression model with alpha (regularization strength) = 1.0\n",
    "ridge_model = Ridge(alpha=1.0)\n",
    "ridge_model.fit(X_train, y_train)\n",
    "\n",
    "# Make predictions on the test data\n",
    "y_pred = ridge_model.predict(X_test)\n",
    "\n",
    "# Calculate Mean Squared Error (MSE) to evaluate the model performance\n",
    "mse = mean_squared_error(y_test, y_pred)\n",
    "\n",
    "# Coefficients of the Ridge Regression model\n",
    "coefficients = ridge_model.coef_\n",
    "\n",
    "print(\"MSE (Ridge Regression):\", mse)\n",
    "print(\"Coefficients:\", coefficients)"
   ]
  },
  {
   "cell_type": "markdown",
   "id": "bb4a1467-9552-455a-8f1c-5d6cf28a7156",
   "metadata": {},
   "source": [
    "## Q6. Can Ridge Regression handle both categorical and continuous independent variables?"
   ]
  },
  {
   "cell_type": "markdown",
   "id": "ee57c9ef-650e-4edf-a324-dc18904204c9",
   "metadata": {},
   "source": [
    "##\n",
    "Ridge Regression can handle both continuous and categorical independent variables, but some preprocessing is required to properly incorporate categorical variables into the model.\n",
    "\n",
    "Handling Continuous Independent Variables:\n",
    "For continuous independent variables, no special treatment is needed. You can directly include them in the feature matrix used for Ridge Regression.\n",
    "\n",
    "Handling Categorical Independent Variables:\n",
    "For categorical independent variables, they need to be converted into numerical representations before fitting the Ridge Regression model. Two common methods for handling categorical variables are:\n",
    "\n",
    "One-Hot Encoding: One-hot encoding is a method to represent categorical variables as binary vectors. Each category in the original categorical variable is transformed into a separate binary feature, where a value of 1 represents the presence of that category, and 0 represents the absence. One-hot encoding ensures that the categorical variable is treated as nominal, and it avoids introducing any ordinal relationship between the categories.\n",
    "\n",
    "Ordinal Encoding: Ordinal encoding is suitable for categorical variables with an inherent order or ranking. In this case, the categories are mapped to numerical values based on their order. However, ordinal encoding assumes an ordinal relationship between the categories, which may not always be appropriate.\n",
    "\n",
    "After encoding the categorical variables, you can combine them with the continuous variables to create the feature matrix for Ridge Regression."
   ]
  },
  {
   "cell_type": "code",
   "execution_count": 5,
   "id": "5f5c7ad8-609a-4e7a-bfe7-950babf9c468",
   "metadata": {},
   "outputs": [
    {
     "name": "stdout",
     "output_type": "stream",
     "text": [
      "Predicted Scores: [79.8397409  88.93258428 84.81846386 75.7546537  95.65455726]\n"
     ]
    }
   ],
   "source": [
    "import numpy as np\n",
    "import pandas as pd\n",
    "from sklearn.linear_model import Ridge\n",
    "from sklearn.preprocessing import OneHotEncoder\n",
    "from sklearn.compose import ColumnTransformer\n",
    "from sklearn.pipeline import make_pipeline\n",
    "\n",
    "# Sample data with continuous and categorical variables\n",
    "data = {\n",
    "    'Age': [25, 30, 28, 22, 35],\n",
    "    'Gender': ['Male', 'Female', 'Male', 'Female', 'Male'],\n",
    "    'Income': [50000, 60000, 55000, 48000, 70000],\n",
    "    'Education': ['High School', 'Bachelor', 'Master', 'Bachelor', 'PhD'],\n",
    "    'Score': [80, 90, 85, 75, 95]\n",
    "}\n",
    "df = pd.DataFrame(data)\n",
    "\n",
    "# Separate target variable (y) and features (X)\n",
    "y = df['Score']\n",
    "X = df.drop('Score', axis=1)\n",
    "\n",
    "# Preprocess categorical variables using one-hot encoding\n",
    "cat_features = ['Gender', 'Education']\n",
    "preprocessor = ColumnTransformer(transformers=[('cat', OneHotEncoder(), cat_features)], remainder='passthrough')\n",
    "\n",
    "# Create the Ridge Regression model pipeline\n",
    "ridge_model = make_pipeline(preprocessor, Ridge(alpha=1.0))\n",
    "\n",
    "# Fit the model\n",
    "ridge_model.fit(X, y)\n",
    "\n",
    "# Make predictions\n",
    "y_pred = ridge_model.predict(X)\n",
    "\n",
    "print(\"Predicted Scores:\", y_pred)"
   ]
  },
  {
   "cell_type": "markdown",
   "id": "e7625b8c-d620-4ec6-a42c-fbe5a1e602b3",
   "metadata": {},
   "source": [
    "## Q7. How do you interpret the coefficients of Ridge Regression?\n"
   ]
  },
  {
   "cell_type": "markdown",
   "id": "0247e9aa-1ccf-4091-b21d-415ae966d886",
   "metadata": {},
   "source": [
    "##\n",
    "In Ridge Regression, the interpretation of the coefficients is similar to that of ordinary least squares (OLS) regression, but with the influence of regularization due to the L2 penalty term. The coefficients represent the relationship between each independent variable and the dependent variable, taking into account the regularization effect to prevent overfitting.\n",
    "\n",
    "Interpreting the coefficients in Ridge Regression involves considering the magnitude and sign of the coefficients:\n",
    "\n",
    "Magnitude of Coefficients: The magnitude of the coefficients represents the strength of the relationship between the independent variable and the dependent variable. Larger magnitude coefficients indicate a stronger influence on the target variable. However, it's important to note that the Ridge regularization tends to shrink the coefficients towards zero, making them smaller compared to OLS regression.\n",
    "\n",
    "Sign of Coefficients: The sign of the coefficients (positive or negative) indicates the direction of the relationship between the independent variable and the dependent variable. A positive coefficient suggests a positive correlation, meaning an increase in the independent variable tends to lead to an increase in the dependent variable. Conversely, a negative coefficient suggests a negative correlation, where an increase in the independent variable leads to a decrease in the dependent variable.\n",
    "\n",
    "Comparing Relative Magnitudes: When interpreting coefficients, it's essential to consider their relative magnitudes. Coefficients with larger absolute values have a more substantial effect on the target variable compared to coefficients with smaller absolute values."
   ]
  },
  {
   "cell_type": "code",
   "execution_count": 6,
   "id": "2b8bbb6b-6529-4c68-a7dc-710dad32f1f8",
   "metadata": {},
   "outputs": [
    {
     "name": "stdout",
     "output_type": "stream",
     "text": [
      "Coefficients: [84.97342091 72.791857  ]\n"
     ]
    }
   ],
   "source": [
    "import numpy as np\n",
    "from sklearn.linear_model import Ridge\n",
    "from sklearn.datasets import make_regression\n",
    "from sklearn.model_selection import train_test_split\n",
    "\n",
    "# Generate synthetic data with noise (linear relationship)\n",
    "X, y = make_regression(n_samples=100, n_features=2, noise=10, random_state=42)\n",
    "\n",
    "# Split the data into training and testing sets\n",
    "X_train, X_test, y_train, y_test = train_test_split(X, y, test_size=0.2, random_state=42)\n",
    "\n",
    "# Fit the Ridge regression model with alpha (regularization strength) = 1.0\n",
    "ridge_model = Ridge(alpha=1.0)\n",
    "ridge_model.fit(X_train, y_train)\n",
    "\n",
    "# Get the coefficients of the Ridge Regression model\n",
    "coefficients = ridge_model.coef_\n",
    "\n",
    "print(\"Coefficients:\", coefficients)"
   ]
  },
  {
   "cell_type": "markdown",
   "id": "013d4071-42ca-4ca4-99e8-0bf12f6fd6f5",
   "metadata": {},
   "source": [
    "## Q8. Can Ridge Regression be used for time-series data analysis? If yes, how?"
   ]
  },
  {
   "cell_type": "markdown",
   "id": "446a4661-0c4d-485b-bc32-31d61f95e1df",
   "metadata": {},
   "source": [
    "##\n",
    "Yes, Ridge Regression can be used for time-series data analysis, especially when dealing with time-series data that exhibit multicollinearity and require regularization to prevent overfitting. Ridge Regression can be applied to time-series data by considering lagged values of the target variable and other relevant features as predictors.\n",
    "\n",
    "To use Ridge Regression for time-series data analysis in Python, follow these steps:\n",
    "\n",
    "Prepare the Data: Organize the time-series data into a suitable format, where each row represents a specific time point, and the columns represent different features, including the lagged values of the target variable and other relevant predictors.\n",
    "\n",
    "Train-Test Split: Split the time-series data into training and testing sets to evaluate the model's performance on unseen data. Ensure that the training set precedes the testing set chronologically.\n",
    "\n",
    "Feature Engineering: Create lag features by shifting the target variable and other relevant predictors backward in time. For example, you can create lag features with different time lags to capture the historical values of the target variable.\n",
    "\n",
    "Ridge Regression: Fit the Ridge regression model to the training data, considering the lag features and other predictors. The regularization parameter (alpha or lambda) should be chosen through cross-validation or other suitable methods.\n",
    "\n",
    "Model Evaluation: Evaluate the performance of the Ridge Regression model on the test data using appropriate metrics such as Mean Squared Error (MSE) or Mean Absolute Error (MAE).\n"
   ]
  },
  {
   "cell_type": "code",
   "execution_count": 7,
   "id": "628626d9-e07f-4db9-a123-5cc714b1d7c6",
   "metadata": {},
   "outputs": [
    {
     "name": "stdout",
     "output_type": "stream",
     "text": [
      "MSE (Ridge Regression): 0.6588800134659027\n"
     ]
    }
   ],
   "source": [
    "import numpy as np\n",
    "import pandas as pd\n",
    "from sklearn.linear_model import Ridge\n",
    "from sklearn.metrics import mean_squared_error\n",
    "from sklearn.model_selection import train_test_split\n",
    "\n",
    "# Generate synthetic time-series data with noise\n",
    "np.random.seed(42)\n",
    "n_samples = 100\n",
    "time_index = pd.date_range('2023-01-01', periods=n_samples, freq='D')\n",
    "target_variable = np.random.randn(n_samples) + np.sin(np.arange(n_samples) / 5)\n",
    "lag_1 = np.roll(target_variable, 1)  # Create lag-1 feature\n",
    "\n",
    "# Create a DataFrame with target variable and lag features\n",
    "data = pd.DataFrame({'Date': time_index, 'Target': target_variable, 'Lag1': lag_1})\n",
    "data = data.dropna()  # Remove missing values due to lag creation\n",
    "\n",
    "# Split the data into training and testing sets\n",
    "train_size = int(len(data) * 0.8)\n",
    "train_data, test_data = data[:train_size], data[train_size:]\n",
    "\n",
    "# Prepare the feature matrix and target variable\n",
    "X_train = train_data[['Lag1']]\n",
    "y_train = train_data['Target']\n",
    "X_test = test_data[['Lag1']]\n",
    "y_test = test_data['Target']\n",
    "\n",
    "# Fit the Ridge regression model with alpha (regularization strength) = 1.0\n",
    "ridge_model = Ridge(alpha=1.0)\n",
    "ridge_model.fit(X_train, y_train)\n",
    "\n",
    "# Make predictions on the test data\n",
    "y_pred = ridge_model.predict(X_test)\n",
    "\n",
    "# Calculate Mean Squared Error (MSE) to evaluate the model performance\n",
    "mse = mean_squared_error(y_test, y_pred)\n",
    "\n",
    "print(\"MSE (Ridge Regression):\", mse)"
   ]
  }
 ],
 "metadata": {
  "kernelspec": {
   "display_name": "Python 3 (ipykernel)",
   "language": "python",
   "name": "python3"
  },
  "language_info": {
   "codemirror_mode": {
    "name": "ipython",
    "version": 3
   },
   "file_extension": ".py",
   "mimetype": "text/x-python",
   "name": "python",
   "nbconvert_exporter": "python",
   "pygments_lexer": "ipython3",
   "version": "3.10.8"
  }
 },
 "nbformat": 4,
 "nbformat_minor": 5
}
