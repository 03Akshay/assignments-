{
 "cells": [
  {
   "cell_type": "markdown",
   "id": "84bd9ab4-026d-409b-b976-05fb98984f84",
   "metadata": {},
   "source": [
    "## Q1. Pearson correlation coefficient is a measure of the linear relationship between two variables. Suppose you have collected data on the amount of time students spend studying for an exam and their final exam scores. Calculate the Pearson correlation coefficient between these two variables and interpret the result."
   ]
  },
  {
   "cell_type": "code",
   "execution_count": 1,
   "id": "c6d0a8fa-7237-4a28-9d82-ce5dbf306757",
   "metadata": {},
   "outputs": [
    {
     "name": "stdout",
     "output_type": "stream",
     "text": [
      "Pearson Correlation Coefficient: 0.9847982464479192\n"
     ]
    }
   ],
   "source": [
    "import numpy as np\n",
    "from scipy.stats import pearsonr\n",
    "\n",
    "# Sample data for time spent studying and final exam scores\n",
    "time_spent_studying = [5, 10, 15, 20, 25]\n",
    "final_exam_scores = [60, 70, 80, 85, 90]\n",
    "\n",
    "# Calculate the Pearson correlation coefficient\n",
    "correlation_coefficient, p_value = pearsonr(time_spent_studying, final_exam_scores)\n",
    "\n",
    "print(\"Pearson Correlation Coefficient:\", correlation_coefficient)"
   ]
  },
  {
   "cell_type": "markdown",
   "id": "4851e56f-4fe8-48dc-a65d-fe9451013a9a",
   "metadata": {},
   "source": [
    "## Q2. Spearman's rank correlation is a measure of the monotonic relationship between two variables. Suppose you have collected data on the amount of sleep individuals get each night and their overall job satisfaction level on a scale of 1 to 10. Calculate the Spearman's rank correlation between these two variables and interpret the result."
   ]
  },
  {
   "cell_type": "code",
   "execution_count": 2,
   "id": "a311a7a6-aada-41a3-8fd5-619d08151d30",
   "metadata": {},
   "outputs": [
    {
     "name": "stdout",
     "output_type": "stream",
     "text": [
      "Spearman's Rank Correlation Coefficient: 0.9746794344808963\n"
     ]
    }
   ],
   "source": [
    "import numpy as np\n",
    "from scipy.stats import spearmanr\n",
    "\n",
    "# Sample data for amount of sleep and job satisfaction level\n",
    "amount_of_sleep = [7, 6, 8, 5, 7]\n",
    "job_satisfaction = [8, 5, 9, 4, 7]\n",
    "\n",
    "# Calculate the Spearman's rank correlation coefficient\n",
    "correlation_coefficient, p_value = spearmanr(amount_of_sleep, job_satisfaction)\n",
    "\n",
    "print(\"Spearman's Rank Correlation Coefficient:\", correlation_coefficient)"
   ]
  },
  {
   "cell_type": "markdown",
   "id": "36da2a6e-e7a6-4138-a039-4b1d0261a95a",
   "metadata": {},
   "source": [
    "## Q3. Suppose you are conducting a study to examine the relationship between the number of hours of exercise per week and body mass index (BMI) in a sample of adults. You collected data on both variables for 50 participants. Calculate the Pearson correlation coefficient and the Spearman's rank correlation between these two variables and compare the results."
   ]
  },
  {
   "cell_type": "code",
   "execution_count": 3,
   "id": "9e4507bb-dae0-43ce-9c21-04f5267b177e",
   "metadata": {},
   "outputs": [
    {
     "name": "stdout",
     "output_type": "stream",
     "text": [
      "Pearson Correlation Coefficient: 0.9769712756003082\n",
      "Spearman's Rank Correlation Coefficient: 0.9761188210174833\n"
     ]
    }
   ],
   "source": [
    "import numpy as np\n",
    "from scipy.stats import pearsonr, spearmanr\n",
    "\n",
    "# Sample data for hours of exercise per week and BMI\n",
    "hours_of_exercise = [3, 4, 5, 2, 6, 3, 4, 5, 2, 6, 3, 4, 5, 2, 6, 3, 4, 5, 2, 6, 3, 4, 5, 2, 6,\n",
    "                     3, 4, 5, 2, 6, 3, 4, 5, 2, 6, 3, 4, 5, 2, 6, 3, 4, 5, 2, 6, 3, 4, 5, 2, 6]\n",
    "\n",
    "bmi = [22.1, 23.4, 24.5, 21.0, 25.5, 22.3, 23.7, 24.9, 20.5, 25.9, 22.2, 23.6, 24.8, 20.1, 26.0,\n",
    "       22.5, 23.8, 25.0, 20.2, 26.2, 22.4, 23.9, 25.2, 20.3, 26.3, 22.6, 24.0, 25.3, 20.4, 26.5,\n",
    "       22.7, 24.1, 25.5, 20.6, 26.7, 22.8, 24.2, 25.6, 20.7, 26.9, 23.0, 24.3, 25.8, 20.8, 27.1,\n",
    "       23.1, 24.4, 25.9, 20.9, 27.3]\n",
    "\n",
    "# Calculate the Pearson correlation coefficient\n",
    "pearson_correlation, pearson_p_value = pearsonr(hours_of_exercise, bmi)\n",
    "\n",
    "# Calculate the Spearman's rank correlation coefficient\n",
    "spearman_correlation, spearman_p_value = spearmanr(hours_of_exercise, bmi)\n",
    "\n",
    "print(\"Pearson Correlation Coefficient:\", pearson_correlation)\n",
    "print(\"Spearman's Rank Correlation Coefficient:\", spearman_correlation)"
   ]
  },
  {
   "cell_type": "markdown",
   "id": "42c62fb3-5826-4c31-87d5-543e8a168f64",
   "metadata": {},
   "source": [
    "## Q4. A researcher is interested in examining the relationship between the number of hours individuals spend watching television per day and their level of physical activity. The researcher collected data on both variables from a sample of 50 participants. Calculate the Pearson correlation coefficient between these two variables."
   ]
  },
  {
   "cell_type": "code",
   "execution_count": 4,
   "id": "1d1651d2-0048-418e-a4e6-e2ba3ccd608f",
   "metadata": {},
   "outputs": [
    {
     "name": "stdout",
     "output_type": "stream",
     "text": [
      "Pearson Correlation Coefficient: 0.9701425001453319\n"
     ]
    }
   ],
   "source": [
    "import numpy as np\n",
    "from scipy.stats import pearsonr\n",
    "\n",
    "# Sample data for hours of TV watching per day and level of physical activity\n",
    "tv_hours = [3, 4, 5, 2, 6, 3, 4, 5, 2, 6, 3, 4, 5, 2, 6, 3, 4, 5, 2, 6, 3, 4, 5, 2, 6,\n",
    "            3, 4, 5, 2, 6, 3, 4, 5, 2, 6, 3, 4, 5, 2, 6, 3, 4, 5, 2, 6, 3, 4, 5, 2, 6]\n",
    "\n",
    "physical_activity = [1, 2, 3, 1, 4, 1, 2, 3, 1, 4, 1, 2, 3, 1, 4, 1, 2, 3, 1, 4, 1, 2, 3, 1, 4,\n",
    "                     1, 2, 3, 1, 4, 1, 2, 3, 1, 4, 1, 2, 3, 1, 4, 1, 2, 3, 1, 4, 1, 2, 3, 1, 4]\n",
    "\n",
    "# Calculate the Pearson correlation coefficient\n",
    "correlation_coefficient, p_value = pearsonr(tv_hours, physical_activity)\n",
    "\n",
    "print(\"Pearson Correlation Coefficient:\", correlation_coefficient)"
   ]
  },
  {
   "cell_type": "markdown",
   "id": "737fa3c4-c3e4-486b-abd9-a0ba635f3fb8",
   "metadata": {},
   "source": [
    "## Q5. A survey was conducted to examine the relationship between age and preference for a particular brand of soft drink. The survey results are shown below:\n",
    "\n",
    "\n",
    "Age(Years)\n",
    "\n",
    "25 Coke\n",
    "\n",
    "42 Pepsi\n",
    "\n",
    "37 Mountain dew\n",
    "\n",
    "19 Coke \n",
    "\n",
    "31 Pespi\n",
    "\n",
    "28 Coke"
   ]
  },
  {
   "cell_type": "code",
   "execution_count": 5,
   "id": "62945563-ad02-4cca-9c65-a61a442597b6",
   "metadata": {},
   "outputs": [
    {
     "name": "stdout",
     "output_type": "stream",
     "text": [
      "   Age(Years) Soft Drink Preference\n",
      "0          25                  Coke\n",
      "1          42                 Pepsi\n",
      "2          37          Mountain Dew\n",
      "3          19                  Coke\n",
      "4          31                 Pepsi\n",
      "5          28                  Coke\n"
     ]
    }
   ],
   "source": [
    "import pandas as pd\n",
    "\n",
    "# Given survey data\n",
    "data = {\n",
    "    'Age(Years)': [25, 42, 37, 19, 31, 28],\n",
    "    'Soft Drink Preference': ['Coke', 'Pepsi', 'Mountain Dew', 'Coke', 'Pepsi', 'Coke']\n",
    "}\n",
    "\n",
    "# Create a DataFrame from the data\n",
    "df = pd.DataFrame(data)\n",
    "\n",
    "# Display the DataFrame\n",
    "print(df)"
   ]
  },
  {
   "cell_type": "code",
   "execution_count": 6,
   "id": "adff0b84-1bfa-4ef8-b09d-6b594591c755",
   "metadata": {},
   "outputs": [
    {
     "data": {
      "image/png": "[encoded data removed]",
      "text/plain": [
       "<Figure size 640x480 with 1 Axes>"
      ]
     },
     "metadata": {},
     "output_type": "display_data"
    }
   ],
   "source": [
    "import matplotlib.pyplot as plt\n",
    "\n",
    "# Group the data by \"Age\" and count the occurrences of each soft drink preference\n",
    "age_vs_preference = df.groupby('Age(Years)')['Soft Drink Preference'].value_counts().unstack(fill_value=0)\n",
    "\n",
    "# Plot the bar plot\n",
    "age_vs_preference.plot(kind='bar', stacked=True)\n",
    "plt.xlabel('Age (Years)')\n",
    "plt.ylabel('Number of Participants')\n",
    "plt.title('Soft Drink Preference by Age')\n",
    "plt.legend(title='Soft Drink Preference', bbox_to_anchor=(1, 1))\n",
    "plt.show()"
   ]
  },
  {
   "cell_type": "code",
   "execution_count": 7,
   "id": "5577b255-2b99-4141-b7cc-a12637a037c8",
   "metadata": {},
   "outputs": [
    {
     "name": "stdout",
     "output_type": "stream",
     "text": [
      "Chi-square statistic: 12.000000000000002\n",
      "P-value: 0.28505650031663116\n"
     ]
    }
   ],
   "source": [
    "from scipy.stats import chi2_contingency\n",
    "\n",
    "# Perform the chi-square test\n",
    "chi2, p, dof, expected = chi2_contingency(age_vs_preference)\n",
    "\n",
    "print(\"Chi-square statistic:\", chi2)\n",
    "print(\"P-value:\", p)"
   ]
  },
  {
   "cell_type": "markdown",
   "id": "139aca00-3f1c-4c39-ae86-0ab7fd4aa2fc",
   "metadata": {},
   "source": [
    "## Q6. A company is interested in examining the relationship between the number of sales calls made per day and the number of sales made per week. The company collected data on both variables from a sample of 30 sales representatives. Calculate the Pearson correlation coefficient between these two variables."
   ]
  },
  {
   "cell_type": "code",
   "execution_count": 8,
   "id": "5b86aae6-5471-487a-b386-eb572d4db5e6",
   "metadata": {},
   "outputs": [
    {
     "name": "stdout",
     "output_type": "stream",
     "text": [
      "Pearson Correlation Coefficient: 0.9841661446627189\n"
     ]
    }
   ],
   "source": [
    "import numpy as np\n",
    "from scipy.stats import pearsonr\n",
    "\n",
    "# Sample data for number of sales calls per day and number of sales per week\n",
    "sales_calls_per_day = [15, 20, 18, 22, 17, 19, 21, 16, 20, 23, 25, 24, 18, 22, 20, 19, 17, 16, 21, 18, 23, 20, 19, 21, 20, 22, 16, 23, 19, 21]\n",
    "sales_per_week = [85, 90, 87, 92, 86, 88, 91, 84, 88, 93, 96, 95, 87, 92, 89, 88, 86, 85, 91, 88, 93, 90, 89, 91, 90, 92, 84, 93, 88, 91]\n",
    "\n",
    "# Calculate the Pearson correlation coefficient\n",
    "correlation_coefficient, p_value = pearsonr(sales_calls_per_day, sales_per_week)\n",
    "\n",
    "print(\"Pearson Correlation Coefficient:\", correlation_coefficient)"
   ]
  }
 ],
 "metadata": {
  "kernelspec": {
   "display_name": "Python 3 (ipykernel)",
   "language": "python",
   "name": "python3"
  },
  "language_info": {
   "codemirror_mode": {
    "name": "ipython",
    "version": 3
   },
   "file_extension": ".py",
   "mimetype": "text/x-python",
   "name": "python",
   "nbconvert_exporter": "python",
   "pygments_lexer": "ipython3",
   "version": "3.10.8"
  }
 },
 "nbformat": 4,
 "nbformat_minor": 5
}
