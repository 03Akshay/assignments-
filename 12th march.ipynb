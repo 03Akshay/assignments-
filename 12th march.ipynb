{
 "cells": [
  {
   "cell_type": "markdown",
   "id": "f17fef96-7cc3-4902-b5fd-bcaf7ea0bcc1",
   "metadata": {},
   "source": [
    "## Q1. Calculate the 95% confidence interval for a sample of data with a mean of 50 and a standard deviation of 5 using Python. Interpret the results."
   ]
  },
  {
   "cell_type": "code",
   "execution_count": 2,
   "id": "68b9e282-6a31-461d-8038-dfafb56a207f",
   "metadata": {},
   "outputs": [
    {
     "name": "stdout",
     "output_type": "stream",
     "text": [
      "95% Confidence Interval: (46.90, 53.10)\n"
     ]
    }
   ],
   "source": [
    "import scipy.stats as stats\n",
    "\n",
    "# Given data\n",
    "sample_mean = 50\n",
    "sample_std_dev = 5\n",
    "sample_size = 10 # Replace this with the actual sample size\n",
    "\n",
    "# Calculate the standard error (standard deviation of the sample mean)\n",
    "standard_error = sample_std_dev / (sample_size ** 0.5)\n",
    "\n",
    "# Define the confidence level (1 - alpha), where alpha = 0.05 for a 95% confidence level\n",
    "confidence_level = 0.95\n",
    "\n",
    "# Calculate the critical value (z-score) for the given confidence level\n",
    "# For a two-tailed test (default), use the 0.025 quantile for the lower and upper tails\n",
    "z_critical = stats.norm.ppf(1 - (1 - confidence_level) / 2)\n",
    "\n",
    "# Calculate the margin of error\n",
    "margin_of_error = z_critical * standard_error\n",
    "\n",
    "# Calculate the confidence interval\n",
    "lower_bound = sample_mean - margin_of_error\n",
    "upper_bound = sample_mean + margin_of_error\n",
    "\n",
    "print(f\"95% Confidence Interval: ({lower_bound:.2f}, {upper_bound:.2f})\")"
   ]
  },
  {
   "cell_type": "markdown",
   "id": "7f43b67e-b633-4723-be15-cdf99be70982",
   "metadata": {},
   "source": [
    "## Q2. Conduct a chi-square goodness of fit test to determine if the distribution of colors of M&Ms in a bag matches the expected distribution of 20% blue, 20% orange, 20% green, 10% yellow, 10% red, and 20% brown. Use Python to perform the test with a significance level of 0.05."
   ]
  },
  {
   "cell_type": "code",
   "execution_count": 4,
   "id": "d8417b9c-8012-4fd7-929d-0df9a92197b7",
   "metadata": {},
   "outputs": [
    {
     "name": "stdout",
     "output_type": "stream",
     "text": [
      "The distribution of colors in the bag matches the expected distribution.\n"
     ]
    }
   ],
   "source": [
    "import numpy as np\n",
    "import scipy.stats as stats\n",
    "\n",
    "# Given observed frequencies of colors in the bag\n",
    "observed_frequencies = np.array([40, 35, 45, 20, 15, 35])\n",
    "\n",
    "# Expected frequencies based on the expected distribution\n",
    "expected_frequencies = np.array([0.20, 0.20, 0.20, 0.10, 0.10, 0.20]) * sum(observed_frequencies)\n",
    "\n",
    "# Perform the chi-square test\n",
    "chi2_stat, p_value = stats.chisquare(observed_frequencies, expected_frequencies)\n",
    "\n",
    "# Set the significance level (alpha)\n",
    "alpha = 0.05\n",
    "\n",
    "# Compare the p-value with the significance level\n",
    "if p_value < alpha:\n",
    "    print(\"The distribution of colors in the bag does not match the expected distribution.\")\n",
    "else:\n",
    "    print(\"The distribution of colors in the bag matches the expected distribution.\")"
   ]
  },
  {
   "cell_type": "markdown",
   "id": "9eadaa50-9b41-4921-b0c2-9e91bbac677e",
   "metadata": {},
   "source": [
    "## Q3. Use Python to calculate the chi-square statistic and p-value for a contingency table with the following data:\n",
    "\n",
    " group a      group b\n",
    "                   \n",
    "Outcome1               20         15\n",
    "\n",
    "Outcome2               10         25\n",
    "\n",
    "Outcome3               15         20\n",
    "\n",
    "\n",
    "Interpret the results of the test."
   ]
  },
  {
   "cell_type": "code",
   "execution_count": 5,
   "id": "021a495d-bc78-4134-9033-4bd9a047fc6e",
   "metadata": {},
   "outputs": [
    {
     "name": "stdout",
     "output_type": "stream",
     "text": [
      "Chi-square Statistic: 5.833333333333334\n",
      "P-value: 0.05411376622282158\n"
     ]
    }
   ],
   "source": [
    "import numpy as np\n",
    "import scipy.stats as stats\n",
    "\n",
    "# Given data for the contingency table\n",
    "observed_data = np.array([[20, 15],\n",
    "                          [10, 25],\n",
    "                          [15, 20]])\n",
    "\n",
    "# Perform the chi-square test for independence\n",
    "chi2_stat, p_value, dof, expected = stats.chi2_contingency(observed_data)\n",
    "\n",
    "print(\"Chi-square Statistic:\", chi2_stat)\n",
    "print(\"P-value:\", p_value)"
   ]
  },
  {
   "cell_type": "markdown",
   "id": "02ce0804-1531-40fa-a74e-84600e2cc33c",
   "metadata": {},
   "source": [
    "## Q4. A study of the prevalence of smoking in a population of 500 individuals found that 60 individuals smoked. Use Python to calculate the 95% confidence interval for the true proportion of individuals in the population who smoke."
   ]
  },
  {
   "cell_type": "code",
   "execution_count": 6,
   "id": "929e97d4-4f15-4332-9eef-70e25976f43a",
   "metadata": {},
   "outputs": [
    {
     "name": "stdout",
     "output_type": "stream",
     "text": [
      "95% Confidence Interval: (0.0944, 0.1514)\n"
     ]
    }
   ],
   "source": [
    "import statsmodels.stats.proportion as prop\n",
    "\n",
    "# Given data\n",
    "total_population = 500\n",
    "smokers = 60\n",
    "\n",
    "# Calculate the proportion of smokers in the sample\n",
    "sample_proportion = smokers / total_population\n",
    "\n",
    "# Calculate the confidence interval using the Wilson score interval\n",
    "confidence_interval = prop.proportion_confint(smokers, total_population, alpha=0.05, method='wilson')\n",
    "\n",
    "lower_bound, upper_bound = confidence_interval\n",
    "\n",
    "print(f\"95% Confidence Interval: ({lower_bound:.4f}, {upper_bound:.4f})\")"
   ]
  },
  {
   "cell_type": "markdown",
   "id": "96304fe4-4d9e-4849-9fce-5016205594d0",
   "metadata": {},
   "source": [
    "## Q5. Calculate the 90% confidence interval for a sample of data with a mean of 75 and a standard deviation of 12 using Python. Interpret the results."
   ]
  },
  {
   "cell_type": "code",
   "execution_count": 8,
   "id": "b9233289-ff8d-4f51-9611-76e2761d76c8",
   "metadata": {},
   "outputs": [
    {
     "name": "stdout",
     "output_type": "stream",
     "text": [
      "90% Confidence Interval: (68.76, 81.24)\n"
     ]
    }
   ],
   "source": [
    "import scipy.stats as stats\n",
    "\n",
    "# Given data\n",
    "sample_mean = 75\n",
    "sample_std_dev = 12\n",
    "sample_size = 10 # Replace this with the actual sample size\n",
    "\n",
    "# Calculate the standard error (standard deviation of the sample mean)\n",
    "standard_error = sample_std_dev / (sample_size ** 0.5)\n",
    "\n",
    "# Define the confidence level (1 - alpha), where alpha = 0.10 for a 90% confidence level\n",
    "confidence_level = 0.90\n",
    "\n",
    "# Calculate the critical value (z-score) for the given confidence level\n",
    "# For a two-tailed test (default), use the 0.05 quantile for the lower and upper tails\n",
    "z_critical = stats.norm.ppf(1 - (1 - confidence_level) / 2)\n",
    "\n",
    "# Calculate the margin of error\n",
    "margin_of_error = z_critical * standard_error\n",
    "\n",
    "# Calculate the confidence interval\n",
    "lower_bound = sample_mean - margin_of_error\n",
    "upper_bound = sample_mean + margin_of_error\n",
    "\n",
    "print(f\"90% Confidence Interval: ({lower_bound:.2f}, {upper_bound:.2f})\")"
   ]
  },
  {
   "cell_type": "markdown",
   "id": "c5ae241f-9332-4255-a1a9-ebeba4fca9c7",
   "metadata": {},
   "source": [
    "## Q6. Use Python to plot the chi-square distribution with 10 degrees of freedom. Label the axes and shade the area corresponding to a chi-square statistic of 15."
   ]
  },
  {
   "cell_type": "code",
   "execution_count": 9,
   "id": "55fa7555-5ac7-47ea-8215-52dc58576052",
   "metadata": {},
   "outputs": [
    {
     "data": {
      "image/png": "[encoded data removed]",
      "text/plain": [
       "<Figure size 640x480 with 1 Axes>"
      ]
     },
     "metadata": {},
     "output_type": "display_data"
    }
   ],
   "source": [
    "import numpy as np\n",
    "import matplotlib.pyplot as plt\n",
    "import scipy.stats as stats\n",
    "\n",
    "# Define the degrees of freedom for the chi-square distribution\n",
    "degrees_of_freedom = 10\n",
    "\n",
    "# Create an array of x values for the plot\n",
    "x = np.linspace(0, 30, 500)\n",
    "\n",
    "# Calculate the probability density function (PDF) for the chi-square distribution\n",
    "pdf = stats.chi2.pdf(x, df=degrees_of_freedom)\n",
    "\n",
    "# Plot the chi-square distribution\n",
    "plt.plot(x, pdf, label=f\"Chi-square Distribution (DF = {degrees_of_freedom})\")\n",
    "\n",
    "# Shade the area corresponding to a chi-square statistic of 15\n",
    "x_shaded = np.linspace(15, 30, 500)\n",
    "pdf_shaded = stats.chi2.pdf(x_shaded, df=degrees_of_freedom)\n",
    "plt.fill_between(x_shaded, pdf_shaded, color='gray', alpha=0.5, label=\"Area for Chi-square = 15\")\n",
    "\n",
    "# Label the axes and add a legend\n",
    "plt.xlabel(\"Chi-square Statistic\")\n",
    "plt.ylabel(\"Probability Density Function (PDF)\")\n",
    "plt.legend()\n",
    "\n",
    "# Show the plot\n",
    "plt.show()"
   ]
  },
  {
   "cell_type": "markdown",
   "id": "ff81ecba-17de-417a-b764-ff098dec9092",
   "metadata": {},
   "source": [
    "## Q7. A random sample of 1000 people was asked if they preferred Coke or Pepsi. Of the sample, 520 preferred Coke. Calculate a 99% confidence interval for the true proportion of people in the population who prefer Coke."
   ]
  },
  {
   "cell_type": "code",
   "execution_count": 10,
   "id": "af6e0bfd-0628-4272-ac27-7cd92f0a356d",
   "metadata": {},
   "outputs": [
    {
     "name": "stdout",
     "output_type": "stream",
     "text": [
      "99% Confidence Interval: (0.4793, 0.5604)\n"
     ]
    }
   ],
   "source": [
    "import statsmodels.stats.proportion as prop\n",
    "\n",
    "# Given data\n",
    "total_sample_size = 1000\n",
    "coke_preferred = 520\n",
    "\n",
    "# Calculate the proportion of people who prefer Coke in the sample\n",
    "sample_proportion = coke_preferred / total_sample_size\n",
    "\n",
    "# Calculate the confidence interval using the Wilson score interval\n",
    "confidence_interval = prop.proportion_confint(coke_preferred, total_sample_size, alpha=0.01, method='wilson')\n",
    "\n",
    "lower_bound, upper_bound = confidence_interval\n",
    "\n",
    "print(f\"99% Confidence Interval: ({lower_bound:.4f}, {upper_bound:.4f})\")"
   ]
  },
  {
   "cell_type": "markdown",
   "id": "2d1f3ffc-cfdd-4774-86b7-bd0795f2e593",
   "metadata": {},
   "source": [
    "## Q8. A researcher hypothesizes that a coin is biased towards tails. They flip the coin 100 times and observe 45 tails. Conduct a chi-square goodness of fit test to determine if the observed frequencies match the expected frequencies of a fair coin. Use a significance level of 0.05."
   ]
  },
  {
   "cell_type": "code",
   "execution_count": 12,
   "id": "3a2caf2b-9d53-4e66-8730-ea4effa649bf",
   "metadata": {},
   "outputs": [
    {
     "name": "stdout",
     "output_type": "stream",
     "text": [
      "There is no evidence of bias towards tails (fail to reject the null hypothesis).\n"
     ]
    }
   ],
   "source": [
    "import numpy as np\n",
    "import scipy.stats as stats\n",
    "\n",
    "# Given observed frequencies\n",
    "observed_tails = 45\n",
    "total_flips = 100\n",
    "\n",
    "# Calculate the number of heads observed\n",
    "observed_heads = total_flips - observed_tails\n",
    "\n",
    "# Calculate the expected frequencies under the assumption of a fair coin\n",
    "expected_tails = total_flips / 2\n",
    "expected_heads = total_flips / 2\n",
    "\n",
    "# Create the observed and expected frequency arrays\n",
    "observed_frequencies = np.array([observed_heads, observed_tails])\n",
    "expected_frequencies = np.array([expected_heads, expected_tails])\n",
    "\n",
    "# Perform the chi-square goodness of fit test\n",
    "chi2_stat, p_value = stats.chisquare(observed_frequencies, expected_frequencies)\n",
    "\n",
    "# Set the significance level (alpha)\n",
    "alpha = 0.05\n",
    "\n",
    "# Compare the p-value with the significance level\n",
    "if p_value < alpha:\n",
    "    print(\"The coin is biased towards tails (reject the null hypothesis).\")\n",
    "else:\n",
    "    print(\"There is no evidence of bias towards tails (fail to reject the null hypothesis).\")"
   ]
  },
  {
   "cell_type": "markdown",
   "id": "277073ca-f185-420c-a426-9b237446efff",
   "metadata": {},
   "source": [
    "## Q9. A study was conducted to determine if there is an association between smoking status (smoker or non-smoker) and lung cancer diagnosis (yes or no). The results are shown in the contingency table below. Conduct a chi-square test for independence to determine if there is a significant association between smoking status and lung cancer diagnosis.\n",
    "\n",
    "Use a significance level of 0.05.\n",
    "\n",
    "Lung Cancer: Yes\n",
    "\n",
    "Smoker 60 140\n",
    "\n",
    "Non-smoker 30 170"
   ]
  },
  {
   "cell_type": "code",
   "execution_count": 13,
   "id": "95b790f0-65b5-4bd3-83e3-c30e1a55743c",
   "metadata": {},
   "outputs": [
    {
     "name": "stdout",
     "output_type": "stream",
     "text": [
      "There is a significant association between smoking status and lung cancer diagnosis (reject the null hypothesis).\n"
     ]
    }
   ],
   "source": [
    "import numpy as np\n",
    "import scipy.stats as stats\n",
    "\n",
    "# Given data for the contingency table\n",
    "observed_data = np.array([[60, 140],\n",
    "                          [30, 170]])\n",
    "\n",
    "# Perform the chi-square test for independence\n",
    "chi2_stat, p_value, dof, expected = stats.chi2_contingency(observed_data)\n",
    "\n",
    "# Set the significance level (alpha)\n",
    "alpha = 0.05\n",
    "\n",
    "# Compare the p-value with the significance level\n",
    "if p_value < alpha:\n",
    "    print(\"There is a significant association between smoking status and lung cancer diagnosis (reject the null hypothesis).\")\n",
    "else:\n",
    "    print(\"There is no significant association between smoking status and lung cancer diagnosis (fail to reject the null hypothesis).\")"
   ]
  },
  {
   "cell_type": "markdown",
   "id": "8567aaed-53f6-4fc3-852b-34ba223335d2",
   "metadata": {},
   "source": [
    "## Q10. A study was conducted to determine if the proportion of people who prefer milk chocolate, dark chocolate, or white chocolate is different in the U.S. versus the U.K. A random sample of 500 people from the U.S. and a random sample of 500 people from the U.K. were surveyed. The results are shown in the contingency table below. Conduct a chi-square test for independence to determine if there is a significant association between chocolate preference and country of origin.\n",
    "\n",
    "Use a significance level of 0.01.\n",
    "\n",
    "Milk Chocolate\n",
    "\n",
    "U.S. (n=500) 200 150 150\n",
    "U.K. (n=500) 225 175 100"
   ]
  },
  {
   "cell_type": "code",
   "execution_count": 14,
   "id": "b66ba431-de8f-4a03-beba-477a96f0d405",
   "metadata": {},
   "outputs": [
    {
     "name": "stdout",
     "output_type": "stream",
     "text": [
      "There is a significant association between chocolate preference and country of origin (reject the null hypothesis).\n"
     ]
    }
   ],
   "source": [
    "import numpy as np\n",
    "import scipy.stats as stats\n",
    "\n",
    "# Given data for the contingency table\n",
    "observed_data = np.array([[200, 150, 150],\n",
    "                          [225, 175, 100]])\n",
    "\n",
    "# Perform the chi-square test for independence\n",
    "chi2_stat, p_value, dof, expected = stats.chi2_contingency(observed_data)\n",
    "\n",
    "# Set the significance level (alpha)\n",
    "alpha = 0.01\n",
    "\n",
    "# Compare the p-value with the significance level\n",
    "if p_value < alpha:\n",
    "    print(\"There is a significant association between chocolate preference and country of origin (reject the null hypothesis).\")\n",
    "else:\n",
    "    print(\"There is no significant association between chocolate preference and country of origin (fail to reject the null hypothesis).\")"
   ]
  },
  {
   "cell_type": "markdown",
   "id": "ee7ae0a1-b56a-43e8-aaf3-9af7f05910b4",
   "metadata": {},
   "source": [
    "## Q11. A random sample of 30 people was selected from a population with an unknown mean and standard deviation. The sample mean was found to be 72 and the sample standard deviation was found to be 10. Conduct a hypothesis test to determine if the population mean is significantly different from 70. Use a significance level of 0.05."
   ]
  },
  {
   "cell_type": "code",
   "execution_count": 15,
   "id": "a1516f46-7d2e-40eb-b2af-748fc8bbeb6a",
   "metadata": {},
   "outputs": [
    {
     "name": "stdout",
     "output_type": "stream",
     "text": [
      "There is no significant difference in the population mean from 70 (fail to reject the null hypothesis).\n"
     ]
    },
    {
     "name": "stderr",
     "output_type": "stream",
     "text": [
      "/tmp/ipykernel_98/446782952.py:13: RuntimeWarning: Precision loss occurred in moment calculation due to catastrophic cancellation. This occurs when the data are nearly identical. Results may be unreliable.\n",
      "  t_stat, p_value = stats.ttest_1samp([sample_mean], population_mean)\n",
      "/opt/conda/lib/python3.10/site-packages/scipy/stats/_stats_py.py:1253: RuntimeWarning: divide by zero encountered in divide\n",
      "  var *= np.divide(n, n-ddof)  # to avoid error on division by zero\n",
      "/opt/conda/lib/python3.10/site-packages/scipy/stats/_stats_py.py:1253: RuntimeWarning: invalid value encountered in double_scalars\n",
      "  var *= np.divide(n, n-ddof)  # to avoid error on division by zero\n"
     ]
    }
   ],
   "source": [
    "import scipy.stats as stats\n",
    "\n",
    "# Given data\n",
    "sample_mean = 72\n",
    "sample_std_dev = 10\n",
    "sample_size = 30\n",
    "population_mean = 70\n",
    "\n",
    "# Calculate the standard error (standard deviation of the sample mean)\n",
    "standard_error = sample_std_dev / (sample_size ** 0.5)\n",
    "\n",
    "# Perform the one-sample t-test\n",
    "t_stat, p_value = stats.ttest_1samp([sample_mean], population_mean)\n",
    "\n",
    "# Set the significance level (alpha)\n",
    "alpha = 0.05\n",
    "\n",
    "# Compare the p-value with the significance level\n",
    "if p_value < alpha:\n",
    "    print(\"The population mean is significantly different from 70 (reject the null hypothesis).\")\n",
    "else:\n",
    "    print(\"There is no significant difference in the population mean from 70 (fail to reject the null hypothesis).\")"
   ]
  }
 ],
 "metadata": {
  "kernelspec": {
   "display_name": "Python 3 (ipykernel)",
   "language": "python",
   "name": "python3"
  },
  "language_info": {
   "codemirror_mode": {
    "name": "ipython",
    "version": 3
   },
   "file_extension": ".py",
   "mimetype": "text/x-python",
   "name": "python",
   "nbconvert_exporter": "python",
   "pygments_lexer": "ipython3",
   "version": "3.10.8"
  }
 },
 "nbformat": 4,
 "nbformat_minor": 5
}
