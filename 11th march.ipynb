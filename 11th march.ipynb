{
 "cells": [
  {
   "cell_type": "markdown",
   "id": "a77c0303-5d37-4ce1-83d5-59c351f0d986",
   "metadata": {},
   "source": [
    "## Q1: What is the difference between a t-test and a z-test? Provide an example scenario where you would use each type of test."
   ]
  },
  {
   "cell_type": "markdown",
   "id": "f8b499f3-227c-4555-a356-1c7c7614fe20",
   "metadata": {},
   "source": [
    "## \n",
    "The t-test and z-test are both statistical hypothesis tests used to compare means between two groups or to test a sample mean against a known population mean. However, they differ in terms of the assumptions they make about the data and the situations in which they are applicable.\n",
    "\n",
    "Z-test:\n",
    "\n",
    "Assumption: The z-test assumes that the population standard deviation is known or that the sample size is large enough (usually considered when the sample size is greater than 30) to approximate the population standard deviation with the sample standard deviation.\n",
    "\n",
    "Applicability: The z-test is commonly used when you have a large sample size and know the population standard deviation. It is generally employed when analyzing normally distributed data.\n",
    "\n",
    "Example scenario: Suppose you want to test if the mean height of a specific group of students is significantly different from the national average height of students. If the national average height's standard deviation is known and the sample size of the group is sufficiently large (say, greater than 30), you can use a z-test to determine if there's a statistically significant difference.\n",
    "\n",
    "T-test:\n",
    "\n",
    "Assumption: The t-test assumes that the population standard deviation is unknown and must be estimated using the sample data. It also assumes that the data are approximately normally distributed.\n",
    "\n",
    "Applicability: The t-test is used when you have a small sample size or when the population standard deviation is unknown. It is more robust for smaller sample sizes and is widely used in research and experiments.\n",
    "\n",
    "Example scenario: Let's say you want to compare the effectiveness of two different medications in reducing blood pressure. You have two groups of participants, one for each medication. Since the population standard deviation is unknown and the sample size might not be very large, you would use a t-test to compare the means of the two groups and determine if there's a significant difference in their effectiveness.\n",
    "\n",
    "\n",
    "In summary, use a z-test when you have a large sample size and know the population standard deviation, and use a t-test when you have a small sample size or don't know the population standard deviation. Always consider the assumptions of each test before applying them to your data."
   ]
  },
  {
   "cell_type": "markdown",
   "id": "63804a42-6898-476c-b086-470ed32829e3",
   "metadata": {},
   "source": [
    "## Q2: Differentiate between one-tailed and two-tailed tests."
   ]
  },
  {
   "cell_type": "markdown",
   "id": "0e56d3c9-d93e-4e88-a983-537b1ece5abc",
   "metadata": {},
   "source": [
    "## \n",
    "One-tailed and two-tailed tests are types of hypothesis tests used in statistical analysis to determine whether there is a significant difference between a sample statistic (e.g., mean or proportion) and a hypothesized value. The main difference between these two types of tests lies in the directionality of the alternative hypothesis.\n",
    "\n",
    "One-tailed test:\n",
    "\n",
    "Also known as a directional test.\n",
    "\n",
    "The alternative hypothesis specifies a particular direction of the effect or difference.\n",
    "It is used when you are interested in whether the sample statistic is significantly greater than or less than the hypothesized value, but not both.\n",
    "\n",
    "The critical region is located on only one side of the sampling distribution (either the right or the left, depending on the direction specified in the alternative hypothesis).\n",
    "\n",
    "Example: Suppose a researcher wants to test whether a new teaching method increases students' test scores. The null hypothesis (H0) would state that there is no significant difference in test scores between the new teaching method and the old method. The alternative hypothesis (Ha) would be one-tailed, specifying that the new teaching method increases test scores (Ha: μ_new > μ_old).\n",
    "\n",
    "Two-tailed test:\n",
    "\n",
    "Also known as a non-directional test.\n",
    "\n",
    "The alternative hypothesis does not specify a particular direction of the effect or difference but only that there is a significant difference between the sample statistic and the hypothesized value.\n",
    "It is used when you are interested in whether the sample statistic is significantly different from the hypothesized value, regardless of the direction.\n",
    "\n",
    "The critical region is located on both sides of the sampling distribution (both the left and the right).\n",
    "\n",
    "Example: Consider a scenario where a company claims that their product has an average weight of 500 grams. A quality control analyst wants to test this claim. The null hypothesis (H0) would be that the product's average weight is 500 grams (μ = 500). The alternative hypothesis (Ha) would be two-tailed, indicating that the product's average weight is different from 500 grams (Ha: μ ≠ 500).\n",
    "\n",
    "In summary, a one-tailed test is used when you have a specific direction in mind for the effect or difference you want to test, while a two-tailed test is used when you want to determine if there is a significant difference, regardless of the direction. The choice between the two depends on the research question and the specific hypothesis being tested."
   ]
  },
  {
   "cell_type": "markdown",
   "id": "452c11e6-4fc1-4688-97bd-56eccf06c230",
   "metadata": {},
   "source": [
    "## Q3: Explain the concept of Type 1 and Type 2 errors in hypothesis testing. Provide an example scenario for each type of error."
   ]
  },
  {
   "cell_type": "markdown",
   "id": "a8641fd1-e4cb-479a-8a16-c075d8e42356",
   "metadata": {},
   "source": [
    "## \n",
    "Type 1 and Type 2 errors are two types of errors that can occur in hypothesis testing. These errors are related to the decision-making process when testing a null hypothesis (H0) against an alternative hypothesis (Ha).\n",
    "\n",
    "Type 1 Error (False Positive):\n",
    "\n",
    "Definition: A Type 1 error occurs when we reject a true null hypothesis (H0) when it is actually correct. In other words, we mistakenly conclude that there is a significant effect or difference when there is none in the population.\n",
    "\n",
    "Probability denoted as α (alpha), which is the significance level of the test (typically set at 0.05 or 0.01).\n",
    "\n",
    "Example scenario: Let's consider a criminal trial. The null hypothesis (H0) in this case would be that the defendant is innocent. The alternative hypothesis (Ha) would be that the defendant is guilty. A Type 1 error occurs if the jury convicts the defendant (rejects the null hypothesis) when, in reality, the defendant is innocent (the null hypothesis is true).\n",
    "\n",
    "Type 2 Error (False Negative):\n",
    "\n",
    "Definition: A Type 2 error occurs when we fail to reject a false null hypothesis (H0) when it is actually false. In other words, we miss detecting a significant effect or difference that exists in the population.\n",
    "\n",
    "Probability denoted as β (beta), which depends on the power of the test (Power = 1 - β).\n",
    "\n",
    "Example scenario: Consider a medical test for a specific disease. The null hypothesis (H0) would be that the patient does not have the disease. The alternative hypothesis (Ha) would be that the patient has the disease. A Type 2 error occurs if the medical test indicates that the patient does not have the disease (fails to reject the null hypothesis) when, in reality, the patient does have the disease (the null hypothesis is false).\n",
    "\n",
    "In summary:\n",
    "\n",
    "Type 1 error (False Positive): Rejecting a true null hypothesis.\n",
    "\n",
    "Type 2 error (False Negative): Failing to reject a false null hypothesis.\n",
    "\n",
    "It's important to note that these two types of errors are inversely related. Reducing the risk of one type of error typically increases the risk of the other. Researchers and analysts need to strike a balance between these errors by choosing appropriate sample sizes, significance levels, and statistical power based on the importance of the decision and the consequences of making incorrect conclusions."
   ]
  },
  {
   "cell_type": "markdown",
   "id": "c527c1a3-a447-40bf-aabc-b6546b4875a8",
   "metadata": {},
   "source": [
    "## Q4: Explain Bayes's theorem with an example."
   ]
  },
  {
   "cell_type": "markdown",
   "id": "1c5ea758-81ad-4c51-a96e-da60b99fbf92",
   "metadata": {},
   "source": [
    "## \n",
    "Bayes's theorem is a fundamental concept in probability theory and statistics that allows us to update our beliefs or probabilities about an event based on new evidence or information. It helps us calculate the probability of a hypothesis (event) being true, given some observed evidence. The theorem is named after the Reverend Thomas Bayes, who first formulated it."
   ]
  },
  {
   "cell_type": "code",
   "execution_count": 1,
   "id": "80942d27-01d1-4372-9cb3-2c4790e677c8",
   "metadata": {},
   "outputs": [
    {
     "name": "stdout",
     "output_type": "stream",
     "text": [
      "The probability of having the disease given a positive test result is: 0.0876\n"
     ]
    }
   ],
   "source": [
    "def bayes_theorem(prior_prob, likelihood, evidence):\n",
    "    # Calculate the posterior probability using Bayes's theorem\n",
    "    posterior_prob = (likelihood * prior_prob) / evidence\n",
    "    return posterior_prob\n",
    "\n",
    "# Given data\n",
    "prior_probability_disease = 0.01  # Prior probability of a person having the disease (1%)\n",
    "sensitivity = 0.95  # Probability of a positive test result given the person has the disease (95%)\n",
    "specificity = 0.90  # Probability of a negative test result given the person does not have the disease (90%)\n",
    "total_population = 100000  # Total number of people in the population\n",
    "\n",
    "# Calculate the probability of a positive test result (evidence)\n",
    "# P(positive test) = P(positive test | disease) * P(disease) + P(positive test | no disease) * P(no disease)\n",
    "evidence_positive_test = (sensitivity * prior_probability_disease) + ((1 - specificity) * (1 - prior_probability_disease))\n",
    "\n",
    "# Calculate the probability of having the disease given a positive test result\n",
    "posterior_probability_disease = bayes_theorem(prior_probability_disease, sensitivity, evidence_positive_test)\n",
    "\n",
    "print(f\"The probability of having the disease given a positive test result is: {posterior_probability_disease:.4f}\")"
   ]
  },
  {
   "cell_type": "markdown",
   "id": "62fde3c3-2340-4168-bf43-5f960fc7e096",
   "metadata": {},
   "source": [
    "## Q5: What is a confidence interval? How to calculate the confidence interval, explain with an example."
   ]
  },
  {
   "cell_type": "markdown",
   "id": "b34e95d5-7081-4a3e-be88-814d62beef95",
   "metadata": {},
   "source": [
    "## \n",
    "A confidence interval is a range of values within which we are reasonably confident that the true population parameter lies. It provides a measure of the uncertainty associated with estimating a population parameter based on a sample from that population. The confidence interval is typically represented by two values, an upper limit, and a lower limit, along with a specified level of confidence.\n",
    "\n",
    "For example, if we calculate a 95% confidence interval for the mean of a population, it means that we are 95% confident that the true population mean falls within the calculated range.\n",
    "\n",
    "To calculate the confidence interval, we need the following information:\n",
    "\n",
    "Sample mean (x̄): The mean of the sample.\n",
    "\n",
    "Sample standard deviation (s): The standard deviation of the sample.\n",
    "\n",
    "Sample size (n): The number of observations in the sample.\n",
    "\n",
    "Confidence level (1 - α): The level of confidence, typically expressed as a percentage."
   ]
  },
  {
   "cell_type": "code",
   "execution_count": 2,
   "id": "a416728e-5ca8-4ae9-b9fd-e9d61747dab8",
   "metadata": {},
   "outputs": [
    {
     "name": "stdout",
     "output_type": "stream",
     "text": [
      "Sample mean: 35.00\n",
      "95% Confidence Interval: (25.18, 44.82)\n"
     ]
    }
   ],
   "source": [
    "import numpy as np\n",
    "import scipy.stats as stats\n",
    "\n",
    "# Sample data (example)\n",
    "sample_data = [25, 30, 35, 40, 45]\n",
    "\n",
    "# Calculate sample statistics\n",
    "sample_mean = np.mean(sample_data)\n",
    "sample_std_dev = np.std(sample_data, ddof=1)  # ddof=1 for sample standard deviation\n",
    "sample_size = len(sample_data)\n",
    "\n",
    "# Specify the confidence level (95% confidence level)\n",
    "confidence_level = 0.95\n",
    "\n",
    "# Calculate the critical value (Z) based on the confidence level\n",
    "critical_value = stats.t.ppf((1 + confidence_level) / 2, df=sample_size - 1)\n",
    "\n",
    "# Calculate the margin of error\n",
    "margin_of_error = critical_value * (sample_std_dev / np.sqrt(sample_size))\n",
    "\n",
    "# Calculate the confidence interval\n",
    "lower_bound = sample_mean - margin_of_error\n",
    "upper_bound = sample_mean + margin_of_error\n",
    "\n",
    "print(f\"Sample mean: {sample_mean:.2f}\")\n",
    "print(f\"95% Confidence Interval: ({lower_bound:.2f}, {upper_bound:.2f})\")"
   ]
  },
  {
   "cell_type": "markdown",
   "id": "768589bf-7b93-47d2-8612-8f9d3dd7f2da",
   "metadata": {},
   "source": [
    "## Q6. Use Bayes' Theorem to calculate the probability of an event occurring given prior knowledge of the event's probability and new evidence. Provide a sample problem and solution."
   ]
  },
  {
   "cell_type": "code",
   "execution_count": 3,
   "id": "ccada8f0-1b47-4486-9431-c8e781df3e24",
   "metadata": {},
   "outputs": [
    {
     "name": "stdout",
     "output_type": "stream",
     "text": [
      "The probability of the light bulb being defective given a failed inspection is: 1.0000\n"
     ]
    }
   ],
   "source": [
    "def bayes_theorem(prior_prob, likelihood, evidence):\n",
    "    # Calculate the posterior probability using Bayes's theorem\n",
    "    posterior_prob = (likelihood * prior_prob) / evidence\n",
    "    return posterior_prob\n",
    "\n",
    "# Given data\n",
    "prior_probability_defective = 0.05 \n",
    "sensitivity = 0.90 \n",
    "specificity = 1.0  \n",
    "\n",
    "# Calculate the probability of a failed inspection (evidence)\n",
    "# P(failed inspection) = P(failed inspection | defective) * P(defective) + P(failed inspection | not defective) * P(not defective)\n",
    "evidence_failed_inspection = (sensitivity * prior_probability_defective) + ((1 - specificity) * (1 - prior_probability_defective))\n",
    "\n",
    "# Calculate the probability of the light bulb being defective given a failed inspection\n",
    "posterior_probability_defective = bayes_theorem(prior_probability_defective, sensitivity, evidence_failed_inspection)\n",
    "\n",
    "print(f\"The probability of the light bulb being defective given a failed inspection is: {posterior_probability_defective:.4f}\")\n"
   ]
  },
  {
   "cell_type": "markdown",
   "id": "b290573c-c1cd-4e4f-b3db-adc7c7a248ed",
   "metadata": {},
   "source": [
    "## Q7. Calculate the 95% confidence interval for a sample of data with a mean of 50 and a standard deviation of 5. Interpret the results."
   ]
  },
  {
   "cell_type": "code",
   "execution_count": 4,
   "id": "e12611a4-0a84-4ab7-a0af-4fd3cec67d7d",
   "metadata": {},
   "outputs": [
    {
     "name": "stdout",
     "output_type": "stream",
     "text": [
      "Sample mean: 50\n",
      "95% Confidence Interval: (49.02, 50.98)\n"
     ]
    }
   ],
   "source": [
    "import scipy.stats as stats\n",
    "\n",
    "# Given data\n",
    "sample_mean = 50\n",
    "sample_std_dev = 5\n",
    "sample_size = 100  # Assuming the sample size is 100 (you can change it as per your actual data)\n",
    "\n",
    "# Specify the confidence level (95% confidence level)\n",
    "confidence_level = 0.95\n",
    "\n",
    "# Calculate the critical value (Z) based on the confidence level\n",
    "critical_value = stats.norm.ppf((1 + confidence_level) / 2)\n",
    "\n",
    "# Calculate the margin of error\n",
    "margin_of_error = critical_value * (sample_std_dev / (sample_size ** 0.5))\n",
    "\n",
    "# Calculate the confidence interval\n",
    "lower_bound = sample_mean - margin_of_error\n",
    "upper_bound = sample_mean + margin_of_error\n",
    "\n",
    "print(f\"Sample mean: {sample_mean}\")\n",
    "print(f\"95% Confidence Interval: ({lower_bound:.2f}, {upper_bound:.2f})\")"
   ]
  },
  {
   "cell_type": "markdown",
   "id": "e14a099d-9b27-445e-8158-32c055db782b",
   "metadata": {},
   "source": [
    "## Q8. What is the margin of error in a confidence interval? How does sample size affect the margin of error? Provide an example of a scenario where a larger sample size would result in a smaller margin of error."
   ]
  },
  {
   "cell_type": "markdown",
   "id": "a0163421-8307-4c9f-8011-97dd22709c3a",
   "metadata": {},
   "source": [
    "##\n",
    "The margin of error (MOE) in a confidence interval is the range of values around the point estimate (e.g., sample mean) that represents the uncertainty or variability in the estimate. It quantifies how much the point estimate might vary from the true population parameter. A larger margin of error indicates greater uncertainty in the estimate, while a smaller margin of error suggests higher precision in the estimate.\n",
    "\n",
    "The margin of error is influenced by several factors, including the following:\n",
    "\n",
    "Sample size (n): A larger sample size generally leads to a smaller margin of error because having more data points provides more information about the population, leading to a more precise estimate.\n",
    "\n",
    "Standard deviation (σ) or standard error (SE): A higher standard deviation or standard error results in a larger margin of error because it indicates more variability in the data.\n",
    "\n",
    "Confidence level: A higher confidence level (e.g., 95% vs. 99%) leads to a larger margin of error because it requires a wider interval to be more confident in capturing the true population parameter."
   ]
  },
  {
   "cell_type": "code",
   "execution_count": 5,
   "id": "31b7638d-60ba-4323-9cce-234f26b31433",
   "metadata": {},
   "outputs": [
    {
     "name": "stdout",
     "output_type": "stream",
     "text": [
      "Sample size: 30\n",
      "Margin of Error: 3.58\n",
      "95% Confidence Interval: (157.15, 164.31)\n",
      "\n",
      "Sample size: 100\n",
      "Margin of Error: 1.96\n",
      "95% Confidence Interval: (157.86, 161.78)\n",
      "\n",
      "Sample size: 500\n",
      "Margin of Error: 0.88\n",
      "95% Confidence Interval: (159.63, 161.38)\n",
      "\n",
      "Sample size: 1000\n",
      "Margin of Error: 0.62\n",
      "95% Confidence Interval: (159.66, 160.90)\n",
      "\n"
     ]
    }
   ],
   "source": [
    "import numpy as np\n",
    "\n",
    "# Population parameters (assumed to be known for simulation purposes)\n",
    "population_mean_height = 160  # Mean height of students in centimeters\n",
    "population_std_dev = 10  # Population standard deviation\n",
    "\n",
    "# Generate the population data (normally distributed heights)\n",
    "np.random.seed(42)  # For reproducibility\n",
    "population_data = np.random.normal(loc=population_mean_height, scale=population_std_dev, size=10000)\n",
    "\n",
    "# Sample size scenarios to compare\n",
    "sample_sizes = [30, 100, 500, 1000]\n",
    "\n",
    "# Calculate the margin of error for each sample size\n",
    "for sample_size in sample_sizes:\n",
    "    sample_data = np.random.choice(population_data, size=sample_size, replace=False)\n",
    "    sample_mean = np.mean(sample_data)\n",
    "    standard_error = population_std_dev / np.sqrt(sample_size)\n",
    "    z_critical = 1.96  # For a 95% confidence level\n",
    "    margin_of_error = z_critical * standard_error\n",
    "    confidence_interval = (sample_mean - margin_of_error, sample_mean + margin_of_error)\n",
    "\n",
    "    print(f\"Sample size: {sample_size}\")\n",
    "    print(f\"Margin of Error: {margin_of_error:.2f}\")\n",
    "    print(f\"95% Confidence Interval: ({confidence_interval[0]:.2f}, {confidence_interval[1]:.2f})\\n\")"
   ]
  },
  {
   "cell_type": "markdown",
   "id": "dedfd7cc-0ebe-4e76-9c6e-f8d54979a5af",
   "metadata": {},
   "source": [
    "## Q9. Calculate the z-score for a data point with a value of 75, a population mean of 70, and a population standard deviation of 5. Interpret the results."
   ]
  },
  {
   "cell_type": "code",
   "execution_count": 6,
   "id": "97023979-f7da-48b9-b975-852f4b4f2415",
   "metadata": {},
   "outputs": [
    {
     "name": "stdout",
     "output_type": "stream",
     "text": [
      "The z-score for the data point is: 1.00\n"
     ]
    }
   ],
   "source": [
    "# Given data\n",
    "data_point = 75\n",
    "population_mean = 70\n",
    "population_std_dev = 5\n",
    "\n",
    "# Calculate the z-score\n",
    "z_score = (data_point - population_mean) / population_std_dev\n",
    "\n",
    "print(f\"The z-score for the data point is: {z_score:.2f}\")"
   ]
  },
  {
   "cell_type": "markdown",
   "id": "a56e85ad-dbf2-4ad9-9739-9705fc364497",
   "metadata": {},
   "source": [
    "## Q10. In a study of the effectiveness of a new weight loss drug, a sample of 50 participants lost an average of 6 pounds with a standard deviation of 2.5 pounds. Conduct a hypothesis test to determine if the drug is significantly effective at a 95% confidence level using a t-test."
   ]
  },
  {
   "cell_type": "code",
   "execution_count": 7,
   "id": "b93f49f2-4939-4038-bc04-c6e9d9f93607",
   "metadata": {},
   "outputs": [
    {
     "name": "stdout",
     "output_type": "stream",
     "text": [
      "t-statistic: 16.97\n",
      "p-value: 0.0000\n"
     ]
    }
   ],
   "source": [
    "import scipy.stats as stats\n",
    "\n",
    "# Given data\n",
    "sample_mean = 6\n",
    "sample_std_dev = 2.5\n",
    "sample_size = 50\n",
    "null_hypothesis_mean = 0\n",
    "\n",
    "# Calculate the t-statistic\n",
    "standard_error = sample_std_dev / (sample_size ** 0.5)\n",
    "t_statistic = (sample_mean - null_hypothesis_mean) / standard_error\n",
    "\n",
    "# Calculate the degrees of freedom for the t-distribution\n",
    "degrees_of_freedom = sample_size - 1\n",
    "\n",
    "# Calculate the p-value for a one-tailed test (upper tail)\n",
    "p_value = 1 - stats.t.cdf(t_statistic, df=degrees_of_freedom)\n",
    "\n",
    "print(f\"t-statistic: {t_statistic:.2f}\")\n",
    "print(f\"p-value: {p_value:.4f}\")"
   ]
  },
  {
   "cell_type": "markdown",
   "id": "09b61ff7-7207-4d02-946b-dcb680fe8429",
   "metadata": {},
   "source": [
    "## Q11. In a survey of 500 people, 65% reported being satisfied with their current job. Calculate the 95% confidence interval for the true proportion of people who are satisfied with their job."
   ]
  },
  {
   "cell_type": "code",
   "execution_count": 8,
   "id": "917fe9df-eb2a-4172-9b1f-3dfd223e1553",
   "metadata": {},
   "outputs": [
    {
     "name": "stdout",
     "output_type": "stream",
     "text": [
      "Sample proportion: 0.65\n",
      "95% Confidence Interval: (0.6082, 0.6918)\n"
     ]
    }
   ],
   "source": [
    "import scipy.stats as stats\n",
    "\n",
    "# Given data\n",
    "sample_proportion = 0.65  # 65% reported being satisfied with their job\n",
    "sample_size = 500\n",
    "\n",
    "# Specify the confidence level (95% confidence level)\n",
    "confidence_level = 0.95\n",
    "\n",
    "# Calculate the critical value (Z) based on the confidence level\n",
    "critical_value = stats.norm.ppf((1 + confidence_level) / 2)\n",
    "\n",
    "# Calculate the standard error of the proportion\n",
    "standard_error = (sample_proportion * (1 - sample_proportion) / sample_size) ** 0.5\n",
    "\n",
    "# Calculate the margin of error\n",
    "margin_of_error = critical_value * standard_error\n",
    "\n",
    "# Calculate the confidence interval\n",
    "lower_bound = sample_proportion - margin_of_error\n",
    "upper_bound = sample_proportion + margin_of_error\n",
    "\n",
    "print(f\"Sample proportion: {sample_proportion:.2f}\")\n",
    "print(f\"95% Confidence Interval: ({lower_bound:.4f}, {upper_bound:.4f})\")"
   ]
  },
  {
   "cell_type": "markdown",
   "id": "b2bed82b-b7f3-405c-8c47-10b2439b35eb",
   "metadata": {},
   "source": [
    "## Q12. A researcher is testing the effectiveness of two different teaching methods on student performance. Sample A has a mean score of 85 with a standard deviation of 6, while sample B has a mean score of 82 with a standard deviation of 5. Conduct a hypothesis test to determine if the two teaching methods have a significant difference in student performance using a t-test with a significance level of 0.01."
   ]
  },
  {
   "cell_type": "code",
   "execution_count": 10,
   "id": "717cdbe3-a484-4419-a080-f7655ae088fc",
   "metadata": {},
   "outputs": [
    {
     "name": "stdout",
     "output_type": "stream",
     "text": [
      "Reject the null hypothesis: There is a significant difference in student performance between the two teaching methods.\n"
     ]
    }
   ],
   "source": [
    "import scipy.stats as stats\n",
    "\n",
    "# Given data for Sample A\n",
    "mean_sample_a = 85\n",
    "std_dev_sample_a = 6\n",
    "sample_size_a = 55 # You need to provide the sample size for Sample A\n",
    "\n",
    "# Given data for Sample B\n",
    "mean_sample_b = 82\n",
    "std_dev_sample_b = 5\n",
    "sample_size_b = 66  # You need to provide the sample size for Sample B\n",
    "\n",
    "# Conduct the t-test\n",
    "t_statistic, p_value = stats.ttest_ind_from_stats(mean_sample_a, std_dev_sample_a, sample_size_a,\n",
    "                                                 mean_sample_b, std_dev_sample_b, sample_size_b)\n",
    "\n",
    "# Assuming unequal variances in the two samples (Welch's t-test)\n",
    "\n",
    "# Determine the significance level (alpha)\n",
    "alpha = 0.01\n",
    "\n",
    "# Check if the p-value is less than the significance level\n",
    "if p_value < alpha:\n",
    "    print(\"Reject the null hypothesis: There is a significant difference in student performance between the two teaching methods.\")\n",
    "else:\n",
    "    print(\"Fail to reject the null hypothesis: There is no significant difference in student performance between the two teaching methods.\")"
   ]
  },
  {
   "cell_type": "markdown",
   "id": "78a47b7b-6cfc-4721-9a71-8fb210ef600a",
   "metadata": {},
   "source": [
    "## Q13. A population has a mean of 60 and a standard deviation of 8. A sample of 50 observations has a mean of 65. Calculate the 90% confidence interval for the true population mean."
   ]
  },
  {
   "cell_type": "code",
   "execution_count": 11,
   "id": "8a2b8f18-fdac-4200-aaa6-8f56570ae5c4",
   "metadata": {},
   "outputs": [
    {
     "name": "stdout",
     "output_type": "stream",
     "text": [
      "Sample mean: 65\n",
      "90% Confidence Interval: (63.1391, 66.8609)\n"
     ]
    }
   ],
   "source": [
    "# Given data\n",
    "sample_mean = 65\n",
    "population_std_dev = 8\n",
    "sample_size = 50\n",
    "\n",
    "# Specify the confidence level (90% confidence level)\n",
    "confidence_level = 0.90\n",
    "\n",
    "# Calculate the critical value (Z) based on the confidence level\n",
    "critical_value = stats.norm.ppf((1 + confidence_level) / 2)\n",
    "\n",
    "# Calculate the margin of error\n",
    "margin_of_error = critical_value * (population_std_dev / (sample_size ** 0.5))\n",
    "\n",
    "# Calculate the confidence interval\n",
    "lower_bound = sample_mean - margin_of_error\n",
    "upper_bound = sample_mean + margin_of_error\n",
    "\n",
    "print(f\"Sample mean: {sample_mean}\")\n",
    "print(f\"90% Confidence Interval: ({lower_bound:.4f}, {upper_bound:.4f})\")"
   ]
  },
  {
   "cell_type": "markdown",
   "id": "f5bdb5ab-f090-4f9b-919d-7dfc4bfaf3e6",
   "metadata": {},
   "source": [
    "## Q14. In a study of the effects of caffeine on reaction time, a sample of 30 participants had an average reaction time of 0.25 seconds with a standard deviation of 0.05 seconds. Conduct a hypothesis test to determine if the caffeine has a significant effect on reaction time at a 90% confidence level using a t-test."
   ]
  },
  {
   "cell_type": "code",
   "execution_count": 12,
   "id": "dc99a072-6e10-4c20-9b0d-e19f0fe4873c",
   "metadata": {},
   "outputs": [
    {
     "name": "stdout",
     "output_type": "stream",
     "text": [
      "Reject the null hypothesis: Caffeine has a significant effect on reaction time.\n"
     ]
    },
    {
     "name": "stderr",
     "output_type": "stream",
     "text": [
      "/tmp/ipykernel_2094/3685500120.py:10: RuntimeWarning: Precision loss occurred in moment calculation due to catastrophic cancellation. This occurs when the data are nearly identical. Results may be unreliable.\n",
      "  t_statistic, p_value = stats.ttest_1samp([sample_mean] * sample_size, popmean=null_hypothesis_mean)\n"
     ]
    }
   ],
   "source": [
    "import scipy.stats as stats\n",
    "\n",
    "# Given data\n",
    "sample_mean = 0.25\n",
    "sample_std_dev = 0.05\n",
    "sample_size = 30\n",
    "null_hypothesis_mean = 0  # Assuming no effect of caffeine, so the null hypothesis mean is 0\n",
    "\n",
    "# Conduct the t-test\n",
    "t_statistic, p_value = stats.ttest_1samp([sample_mean] * sample_size, popmean=null_hypothesis_mean)\n",
    "\n",
    "# Determine the significance level (alpha)\n",
    "alpha = 0.10\n",
    "\n",
    "# Check if the p-value is less than the significance level\n",
    "if p_value < alpha:\n",
    "    print(\"Reject the null hypothesis: Caffeine has a significant effect on reaction time.\")\n",
    "else:\n",
    "    print(\"Fail to reject the null hypothesis: Caffeine does not have a significant effect on reaction time.\")"
   ]
  }
 ],
 "metadata": {
  "kernelspec": {
   "display_name": "Python 3 (ipykernel)",
   "language": "python",
   "name": "python3"
  },
  "language_info": {
   "codemirror_mode": {
    "name": "ipython",
    "version": 3
   },
   "file_extension": ".py",
   "mimetype": "text/x-python",
   "name": "python",
   "nbconvert_exporter": "python",
   "pygments_lexer": "ipython3",
   "version": "3.10.8"
  }
 },
 "nbformat": 4,
 "nbformat_minor": 5
}
