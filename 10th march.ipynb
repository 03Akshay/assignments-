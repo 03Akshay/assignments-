{
 "cells": [
  {
   "cell_type": "markdown",
   "id": "57adabac-5f76-475d-9ba0-83010b10911b",
   "metadata": {},
   "source": [
    "## Q1: What is Estimation Statistics? Explain point estimate and interval estimate."
   ]
  },
  {
   "cell_type": "markdown",
   "id": "354283d2-1de7-41ed-9fe5-f23ceee4bbe7",
   "metadata": {},
   "source": [
    "##\n",
    "Estimation statistics is a branch of statistics that deals with estimating unknown population parameters based on sample data. When the entire population is not feasible to measure or examine, researchers and analysts rely on estimation techniques to make inferences about the population using sample data.\n",
    "\n",
    "There are two main types of estimation in statistics:\n",
    "\n",
    "Point Estimate:\n",
    "\n",
    "A point estimate is a single value that is used to estimate an unknown population parameter. It is obtained by using a sample statistic (e.g., sample mean, sample proportion) as an estimate of the corresponding population parameter (e.g., population mean, population proportion). Point estimates provide a simple and straightforward estimation method. However, they do not account for uncertainty, and their accuracy can vary depending on the specific sample used.\n",
    "For example, if we want to estimate the population mean height of adult males, we could take a random sample of adult males, calculate the sample mean height, and use that sample mean as the point estimate for the population mean height.\n",
    "\n",
    "Interval Estimate (Confidence Interval):\n",
    "\n",
    "An interval estimate, also known as a confidence interval, is a range of values within which the population parameter is likely to fall. It takes into account the variability and uncertainty associated with the sample estimate. A confidence interval provides more information than a point estimate because it conveys the level of confidence (expressed as a percentage) that the interval contains the true population parameter.\n",
    "For example, instead of providing a single point estimate for the population mean height, a confidence interval would give us a range of heights along with a specified level of confidence. For a 95% confidence interval, we can say, \"We are 95% confident that the true population mean height lies within this interval.\"\n",
    "\n",
    "The construction of a confidence interval involves specifying a confidence level (usually 90%, 95%, or 99%), calculating the sample statistic (e.g., sample mean or proportion), determining the standard error, and using the appropriate critical value from the standard normal or t-distribution.\n",
    "\n",
    "In summary, estimation statistics involves using sample data to estimate unknown population parameters. Point estimates provide single values as estimates, while interval estimates (confidence intervals) provide a range of values along with a specified level of confidence. Confidence intervals offer a more informative and nuanced approach to estimation, accounting for uncertainty and variability in the estimation process."
   ]
  },
  {
   "cell_type": "markdown",
   "id": "e98c79ff-4f44-43bb-bf62-9eb33b3a44fc",
   "metadata": {},
   "source": [
    "## Q2. Write a Python function to estimate the population mean using a sample mean and standard deviation."
   ]
  },
  {
   "cell_type": "code",
   "execution_count": 1,
   "id": "d186858a-5ebf-411e-ba1e-ea9f87da4fe3",
   "metadata": {},
   "outputs": [
    {
     "name": "stdout",
     "output_type": "stream",
     "text": [
      "Estimated population mean: 45.50\n",
      "Confidence Interval (95%): [43.50, 47.50]\n"
     ]
    }
   ],
   "source": [
    "import scipy.stats as st\n",
    "\n",
    "def estimate_population_mean(sample_mean, sample_std_dev, sample_size, confidence_level):\n",
    "    # Calculate the standard error (standard deviation of the sample mean)\n",
    "    standard_error = sample_std_dev / (sample_size ** 0.5)\n",
    "\n",
    "    # Calculate the critical value for the given confidence level\n",
    "    alpha = (1 - confidence_level / 100) / 2\n",
    "    z_critical = st.norm.ppf(1 - alpha)\n",
    "\n",
    "    # Calculate the lower and upper bounds of the confidence interval\n",
    "    lower_bound = sample_mean - z_critical * standard_error\n",
    "    upper_bound = sample_mean + z_critical * standard_error\n",
    "\n",
    "    return lower_bound, upper_bound\n",
    "\n",
    "# Example usage:\n",
    "sample_mean = 45.5\n",
    "sample_std_dev = 10.2\n",
    "sample_size = 100\n",
    "confidence_level = 95\n",
    "\n",
    "lower_bound, upper_bound = estimate_population_mean(sample_mean, sample_std_dev, sample_size, confidence_level)\n",
    "print(f\"Estimated population mean: {sample_mean:.2f}\")\n",
    "print(f\"Confidence Interval (95%): [{lower_bound:.2f}, {upper_bound:.2f}]\")"
   ]
  },
  {
   "cell_type": "markdown",
   "id": "849c247d-fffd-4ac9-ac40-3daa07ceb0c4",
   "metadata": {},
   "source": [
    "## Q3: What is Hypothesis testing? Why is it used? State the importance of Hypothesis testing."
   ]
  },
  {
   "cell_type": "markdown",
   "id": "7869f567-891a-42b3-a079-4eb2161d4645",
   "metadata": {},
   "source": [
    "##\n",
    "Hypothesis testing is a statistical method used to make inferences about a population based on sample data. It involves formulating two competing hypotheses, the null hypothesis (H0) and the alternative hypothesis (Ha), and then assessing the evidence in the sample data to decide whether to reject the null hypothesis in favor of the alternative hypothesis.\n",
    "\n",
    "The steps involved in hypothesis testing are as follows:\n",
    "\n",
    "State the Hypotheses:\n",
    "\n",
    "Null Hypothesis (H0): It represents the default assumption or status quo and is usually stated as \"no effect\" or \"no difference.\"\n",
    "\n",
    "Alternative Hypothesis (Ha): It represents the research question or what the analyst wants to find evidence for.\n",
    "\n",
    "Select the Significance Level (Alpha):\n",
    "\n",
    "The significance level (denoted as α) is the threshold used to determine the level of evidence required to reject the null hypothesis. Commonly used significance levels are 0.05 (5%) and 0.01 (1%).\n",
    "\n",
    "Collect and Analyze Data:\n",
    "\n",
    "Data is collected through sampling, and sample statistics are calculated (e.g., sample mean, sample proportion).\n",
    "\n",
    "Calculate the Test Statistic:\n",
    "\n",
    "The test statistic is a measure that summarizes the evidence in the data in relation to the null hypothesis.\n",
    "\n",
    "Determine the Critical Region (Rejection Region):\n",
    "\n",
    "The critical region is the set of values of the test statistic that leads to the rejection of the null hypothesis. It is determined based on the significance level and the sampling distribution of the test statistic.\n",
    "\n",
    "Compare the Test Statistic with the Critical Region:\n",
    "\n",
    "If the test statistic falls within the critical region, the null hypothesis is rejected in favor of the alternative hypothesis. If the test statistic falls outside the critical region, the null hypothesis is not rejected.\n",
    "\n",
    "The Importance of Hypothesis Testing:\n",
    "\n",
    "Inference about Populations: Hypothesis testing allows researchers and analysts to draw conclusions about population parameters based on sample data. It helps make predictions and generalizations about a larger population.\n",
    "\n",
    "Scientific Research: Hypothesis testing is fundamental in scientific research, allowing scientists to test specific theories and hypotheses and draw valid conclusions from empirical data.\n",
    "\n",
    "Decision Making: Hypothesis testing plays a vital role in decision making in various fields, including medicine, engineering, economics, and social sciences. It helps identify effective treatments, optimize processes, and evaluate policies.\n",
    "\n",
    "Identifying Relationships: Hypothesis testing helps determine whether there is a significant relationship between variables, enabling researchers to understand cause-and-effect relationships.\n",
    "\n",
    "Quality Control: In industrial settings, hypothesis testing is used to ensure the quality of products by testing samples from production processes.\n",
    "\n",
    "Legal and Regulatory Compliance: Hypothesis testing is often used in legal settings to assess evidence and establish or refute claims.\n",
    "\n",
    "In summary, hypothesis testing is a crucial statistical tool for making data-driven decisions, drawing conclusions about populations, and testing research hypotheses. It is widely used across various fields and provides a systematic and objective approach to assessing evidence in data analysis."
   ]
  },
  {
   "cell_type": "markdown",
   "id": "da6a50fa-103b-4319-b95b-481b64fc8940",
   "metadata": {},
   "source": [
    "## Q4. Create a hypothesis that states whether the average weight of male college students is greater than the average weight of female college students."
   ]
  },
  {
   "cell_type": "code",
   "execution_count": 2,
   "id": "d7fc7ec2-aec0-4a95-b68d-78db300d223a",
   "metadata": {},
   "outputs": [
    {
     "name": "stdout",
     "output_type": "stream",
     "text": [
      "Reject the null hypothesis. There is enough evidence to suggest that the average weight of male college students is greater than the average weight of female college students.\n"
     ]
    }
   ],
   "source": [
    "import numpy as np\n",
    "import scipy.stats as stats\n",
    "\n",
    "# Sample data for male college students' weights\n",
    "male_weights = np.array([70, 72, 68, 75, 71, 73, 69, 74, 76, 70])\n",
    "\n",
    "# Sample data for female college students' weights\n",
    "female_weights = np.array([65, 67, 63, 68, 66, 70, 64, 69, 71, 67])\n",
    "\n",
    "# Define the hypothesis\n",
    "# Null Hypothesis (H0): The average weight of male college students is equal to or less than the average weight of female college students.\n",
    "# Alternative Hypothesis (Ha): The average weight of male college students is greater than the average weight of female college students.\n",
    "alpha = 0.05  # Significance level\n",
    "\n",
    "# Conduct a one-tailed independent t-test\n",
    "t_stat, p_value = stats.ttest_ind(male_weights, female_weights, alternative='greater')\n",
    "\n",
    "# Check if the p-value is less than the significance level\n",
    "if p_value < alpha:\n",
    "    print(\"Reject the null hypothesis. There is enough evidence to suggest that the average weight of male college students is greater than the average weight of female college students.\")\n",
    "else:\n",
    "    print(\"Fail to reject the null hypothesis. There is not enough evidence to suggest that the average weight of male college students is greater than the average weight of female college students.\")"
   ]
  },
  {
   "cell_type": "markdown",
   "id": "159e5f34-f125-479e-b5bc-80c959cbe03f",
   "metadata": {},
   "source": [
    "## Q5. Write a Python script to conduct a hypothesis test on the difference between two population means, given a sample from each population."
   ]
  },
  {
   "cell_type": "code",
   "execution_count": 3,
   "id": "c9d798ab-fa67-4717-a08c-73785a679ac9",
   "metadata": {},
   "outputs": [
    {
     "name": "stdout",
     "output_type": "stream",
     "text": [
      "Reject the null hypothesis. There is enough evidence to suggest that the population means of sample1 and sample2 are different.\n"
     ]
    }
   ],
   "source": [
    "import numpy as np\n",
    "import scipy.stats as stats\n",
    "\n",
    "# Sample data for population 1\n",
    "sample1 = np.array([10, 12, 15, 14, 13, 11, 16, 18, 17, 12])\n",
    "\n",
    "# Sample data for population 2\n",
    "sample2 = np.array([8, 9, 11, 10, 12, 7, 10, 11, 9, 12])\n",
    "\n",
    "# Define the hypothesis\n",
    "# Null Hypothesis (H0): The population means of sample1 and sample2 are equal.\n",
    "# Alternative Hypothesis (Ha): The population means of sample1 and sample2 are different.\n",
    "alpha = 0.05  # Significance level\n",
    "\n",
    "# Conduct the independent two-sample t-test\n",
    "t_stat, p_value = stats.ttest_ind(sample1, sample2)\n",
    "\n",
    "# Check if the p-value is less than the significance level\n",
    "if p_value < alpha:\n",
    "    print(\"Reject the null hypothesis. There is enough evidence to suggest that the population means of sample1 and sample2 are different.\")\n",
    "else:\n",
    "    print(\"Fail to reject the null hypothesis. There is not enough evidence to suggest that the population means of sample1 and sample2 are different.\")"
   ]
  },
  {
   "cell_type": "markdown",
   "id": "8c0d2a89-1119-4484-bdd4-c8a755010000",
   "metadata": {},
   "source": [
    "## Q6: What is a null and alternative hypothesis? Give some examples."
   ]
  },
  {
   "cell_type": "markdown",
   "id": "dcf6d020-a708-4c05-b8cc-8cbd672adb74",
   "metadata": {},
   "source": [
    "## \n",
    "In statistical hypothesis testing, the null hypothesis (H0) and alternative hypothesis (Ha) are two competing statements about a population parameter that we want to test based on sample data. The null hypothesis represents the default assumption or status quo, while the alternative hypothesis represents what the analyst wants to find evidence for.\n",
    "\n",
    "Null Hypothesis (H0):\n",
    "\n",
    "The null hypothesis states that there is no significant difference or effect. It assumes that any observed difference or effect in the sample data is due to random chance or sampling variability. The null hypothesis is usually denoted by H0.\n",
    "\n",
    "Alternative Hypothesis (Ha):\n",
    "\n",
    "The alternative hypothesis contradicts the null hypothesis. It states that there is a specific difference, effect, or relationship in the population. The alternative hypothesis is what the analyst is trying to find evidence for. It is denoted by Ha.\n",
    "\n",
    "Examples of Null and Alternative Hypotheses:\n",
    "\n",
    "Example 1 (One-Sample Test):\n",
    "\n",
    "Null Hypothesis (H0): The average height of adult males is 175 cm.\n",
    "\n",
    "Alternative Hypothesis (Ha): The average height of adult males is not 175 cm.\n",
    "\n",
    "In this example, the null hypothesis states that the population mean height of adult males is 175 cm. The alternative hypothesis suggests that the population mean height is different from 175 cm.\n",
    "\n",
    "Example 2 (Two-Sample Test):\n",
    "\n",
    "Null Hypothesis (H0): The average weight of male college students is equal to the average weight of female college students.\n",
    "Alternative Hypothesis (Ha): The average weight of male college students is different from the average weight of female college students.\n",
    "\n",
    "In this example, the null hypothesis assumes that there is no difference in the population mean weights of male and female college students. The alternative hypothesis suggests that there is a significant difference in the population mean weights.\n",
    "\n",
    "Example 3 (Correlation Test):\n",
    "\n",
    "Null Hypothesis (H0): There is no correlation between hours of study and exam scores.\n",
    "Alternative Hypothesis (Ha): There is a significant correlation between hours of study and exam scores.\n",
    "\n",
    "In this example, the null hypothesis states that there is no linear correlation between the number of hours of study and exam scores. The alternative hypothesis suggests that there is a significant correlation between study hours and exam scores.\n",
    "\n",
    "In Python, you do not explicitly create hypotheses, but you can define and conduct hypothesis tests using statistical functions from libraries like scipy.stats. The examples above demonstrate the formulation of hypotheses conceptually. In Python, you can use functions like stats.ttest_1samp, stats.ttest_ind, or stats.pearsonr to test the hypotheses and determine whether to reject or fail to reject the null hypothesis based on the p-value obtained from the test."
   ]
  },
  {
   "cell_type": "markdown",
   "id": "3d5823c7-2955-4cf7-ac96-2174ccca703a",
   "metadata": {},
   "source": [
    "## Q7: Write down the steps involved in hypothesis testing."
   ]
  },
  {
   "cell_type": "markdown",
   "id": "46acaa8e-f8f9-486a-be83-38539df5422e",
   "metadata": {},
   "source": [
    "## \n",
    "Hypothesis testing is a structured process used to make inferences about a population parameter based on sample data. The steps involved in hypothesis testing are as follows:\n",
    "\n",
    "Formulate the Hypotheses:\n",
    "\n",
    "Define the null hypothesis (H0) and the alternative hypothesis (Ha). The null hypothesis represents the default assumption or no effect/difference, while the alternative hypothesis represents the research question or what you want to find evidence for.\n",
    "\n",
    "Set the Significance Level (Alpha):\n",
    "\n",
    "Choose the significance level (α), also known as the level of significance or critical value. Commonly used values for α are 0.05 (5%) and 0.01 (1%). The significance level determines the threshold for accepting or rejecting the null hypothesis.\n",
    "\n",
    "Collect and Analyze Data:\n",
    "\n",
    "Collect sample data from the population of interest. Analyze the data to calculate relevant sample statistics, such as the sample mean, sample proportion, or sample correlation.\n",
    "\n",
    "Calculate the Test Statistic:\n",
    "\n",
    "Calculate the appropriate test statistic based on the type of hypothesis test being conducted. The test statistic measures the strength of evidence against the null hypothesis.\n",
    "\n",
    "Determine the Critical Region (Rejection Region):\n",
    "\n",
    "Define the critical region, also known as the rejection region. The critical region contains the values of the test statistic that would lead to the rejection of the null hypothesis at the chosen significance level. The critical region is determined based on the sampling distribution of the test statistic.\n",
    "\n",
    "Compute the P-Value:\n",
    "\n",
    "Calculate the p-value, which is the probability of observing the sample data (or data more extreme) under the assumption that the null hypothesis is true. The p-value indicates the strength of evidence against the null hypothesis. A small p-value suggests that the data is unlikely to have occurred if the null hypothesis were true.\n",
    "\n",
    "Make a Decision:\n",
    "\n",
    "Compare the calculatedp-value with the chosen significance level (α). If the p-value is less than or equal to α, reject the null hypothesis in favor of the alternative hypothesis. If the p-value is greater than α, fail to reject the null hypothesis. The decision should be based on the evidence from the data.\n",
    "\n",
    "Draw a Conclusion:\n",
    "\n",
    "Based on the decision made in step 7, draw a conclusion about the population parameter. If the null hypothesis is rejected, provide evidence in support of the alternative hypothesis. If the null hypothesis is not rejected, the conclusion should reflect the lack of significant evidence for the alternative hypothesis.\n",
    "\n",
    "Interpret the Results:\n",
    "\n",
    "Interpret the results in the context of the specific problem and the real-world implications. Clearly communicate the findings, including the decision made and the level of confidence in the conclusion.\n",
    "\n",
    "Remember that hypothesis testing is just one part of the statistical analysis process, and the interpretation of results should consider the limitations, assumptions, and practical significance of the findings."
   ]
  },
  {
   "cell_type": "markdown",
   "id": "43d466c1-d1dd-4bd6-9f47-186d456ff44e",
   "metadata": {},
   "source": [
    "## Q8. Define p-value and explain its significance in hypothesis testing."
   ]
  },
  {
   "cell_type": "markdown",
   "id": "da356486-41b1-4929-aaf6-81f4383698d4",
   "metadata": {},
   "source": [
    "## \n",
    "The p-value, short for \"probability value,\" is a fundamental concept in hypothesis testing. It represents the probability of observing the sample data, or data more extreme, under the assumption that the null hypothesis is true. In other words, the p-value quantifies the strength of evidence against the null hypothesis based on the sample data.\n",
    "\n",
    "The significance of the p-value in hypothesis testing can be understood as follows:\n",
    "\n",
    "Interpreting the p-value:\n",
    "\n",
    "If the p-value is small (typically below the chosen significance level α), it suggests that the observed sample data is unlikely to have occurred if the null hypothesis is true. In this case, the evidence from the data is considered strong, and we may reject the null hypothesis in favor of the alternative hypothesis. A small p-value indicates that the observed results are highly inconsistent with what we would expect under the null hypothesis.\n",
    "\n",
    "Significance Level (α):\n",
    "\n",
    "The significance level (α) is the predetermined threshold for decision-making in hypothesis testing. Commonly used significance levels are 0.05 (5%) and 0.01 (1%). If the p-value is less than or equal to α, we reject the null hypothesis. If the p-value is greater than α, we fail to reject the null hypothesis.\n",
    "\n",
    "Decision Rule:\n",
    "\n",
    "The p-value provides a clear decision rule: If p-value ≤ α, reject H0; if p-value > α, fail to reject H0. The decision is based on the strength of evidence against the null hypothesis as indicated by the p-value."
   ]
  },
  {
   "cell_type": "markdown",
   "id": "22f1a761-ceb7-4403-9a70-d3f7e453dde9",
   "metadata": {},
   "source": [
    "## Q9. Generate a Student's t-distribution plot using Python's matplotlib library, with the degrees of freedom parameter set to 10."
   ]
  },
  {
   "cell_type": "code",
   "execution_count": 4,
   "id": "4d045d20-2be1-40b2-a9eb-bda801203b53",
   "metadata": {},
   "outputs": [
    {
     "data": {
      "image/png": "[encoded data removed]",
      "text/plain": [
       "<Figure size 640x480 with 1 Axes>"
      ]
     },
     "metadata": {},
     "output_type": "display_data"
    }
   ],
   "source": [
    "import numpy as np\n",
    "import matplotlib.pyplot as plt\n",
    "import scipy.stats as stats\n",
    "\n",
    "# Degrees of freedom\n",
    "df = 10\n",
    "\n",
    "# Create an array of x values for the plot\n",
    "x = np.linspace(-5, 5, 1000)\n",
    "\n",
    "# Calculate the probability density function (PDF) for the t-distribution\n",
    "pdf = stats.t.pdf(x, df)\n",
    "\n",
    "# Plot the t-distribution\n",
    "plt.plot(x, pdf, label='t-distribution (df=10)')\n",
    "plt.xlabel('x')\n",
    "plt.ylabel('Probability Density')\n",
    "plt.title('Student\\'s t-Distribution')\n",
    "plt.legend()\n",
    "plt.grid(True)\n",
    "plt.show()"
   ]
  },
  {
   "cell_type": "markdown",
   "id": "a0267b7d-e070-4a57-8676-8ae978b7d414",
   "metadata": {},
   "source": [
    "## Q10. Write a Python program to calculate the two-sample t-test for independent samples, given two random samples of equal size and a null hypothesis that the population means are equal."
   ]
  },
  {
   "cell_type": "code",
   "execution_count": 5,
   "id": "ac9adefa-86ae-42a5-9826-e43bfccdcbeb",
   "metadata": {},
   "outputs": [
    {
     "name": "stdout",
     "output_type": "stream",
     "text": [
      "Reject the null hypothesis. There is enough evidence to suggest that the population means are different.\n",
      "t-statistic: -6.8727\n",
      "p-value: 0.0000\n"
     ]
    }
   ],
   "source": [
    "import numpy as np\n",
    "import scipy.stats as stats\n",
    "\n",
    "# Generate two random samples of equal size\n",
    "np.random.seed(42)  # Setting the seed for reproducibility\n",
    "sample1 = np.random.normal(loc=10, scale=2, size=50)\n",
    "sample2 = np.random.normal(loc=12, scale=2, size=50)\n",
    "\n",
    "# Perform the two-sample t-test\n",
    "t_stat, p_value = stats.ttest_ind(sample1, sample2)\n",
    "\n",
    "# Define the significance level (alpha)\n",
    "alpha = 0.05\n",
    "\n",
    "# Check the p-value against the significance level\n",
    "if p_value < alpha:\n",
    "    print(\"Reject the null hypothesis. There is enough evidence to suggest that the population means are different.\")\n",
    "else:\n",
    "    print(\"Fail to reject the null hypothesis. There is not enough evidence to suggest that the population means are different.\")\n",
    "\n",
    "# Print the t-statistic and p-value\n",
    "print(f\"t-statistic: {t_stat:.4f}\")\n",
    "print(f\"p-value: {p_value:.4f}\")"
   ]
  },
  {
   "cell_type": "markdown",
   "id": "b3b9f639-61f1-4ee5-8008-09ce6c0ae8f8",
   "metadata": {},
   "source": [
    "## Q11: What is Student’s t distribution? When to use the t-Distribution."
   ]
  },
  {
   "cell_type": "markdown",
   "id": "950c8632-f0a9-41ae-a18a-137b0fc0c2d6",
   "metadata": {},
   "source": [
    "## \n",
    "Student's t-distribution, commonly referred to as the t-distribution, is a probability distribution used in statistical inference. It is similar to the standard normal distribution (z-distribution), but it has heavier tails, making it more suitable for smaller sample sizes and situations where the population standard deviation is unknown.\n",
    "\n",
    "The t-distribution is used in hypothesis testing and confidence interval estimation when:\n",
    "\n",
    "Small Sample Size:\n",
    "\n",
    "When dealing with small sample sizes (typically n < 30) or when the population standard deviation is unknown, the t-distribution is used to calculate critical values and probabilities.\n",
    "\n",
    "Unknown Population Standard Deviation:\n",
    "\n",
    "In real-world applications, we often don't know the true standard deviation of the population. In such cases, we use the sample standard deviation to estimate the population standard deviation, and the t-distribution allows us to account for the uncertainty introduced by this estimation.\n",
    "\n",
    "Hypothesis Testing:\n",
    "\n",
    "The t-distribution is commonly used in hypothesis testing, particularly for testing the difference between two sample means (independent two-sample t-test) or testing a sample mean against a known or hypothesized population mean (one-sample t-test).\n",
    "\n",
    "Confidence Intervals:\n",
    "\n",
    "When constructing confidence intervals for population parameters (e.g., mean), the t-distribution is used when the sample size is small or the population standard deviation is unknown.\n",
    "\n",
    "The shape of the t-distribution depends on its degrees of freedom (df). The degrees of freedom determine how spread out the t-distribution is. As the degrees of freedom increase, the t-distribution approaches the standard normal distribution (z-distribution). For practical purposes, when the sample size is large (typically n ≥ 30), the t-distribution closely approximates the standard normal distribution.\n",
    "\n",
    "The t-distribution is an essential tool in statistical inference because it allows us to make accurate inferences about population parameters when dealing with small samples or unknown population standard deviations. By using the t-distribution appropriately, we can make more reliable conclusions and estimate the uncertainty associated with our estimates."
   ]
  },
  {
   "cell_type": "markdown",
   "id": "a1db145e-8588-4c38-b9d4-055a5ef6660d",
   "metadata": {},
   "source": [
    "## Q12: What is t-statistic? State the formula for t-statistic."
   ]
  },
  {
   "cell_type": "markdown",
   "id": "70c61f2b-0bff-43e5-87b9-8122089abffd",
   "metadata": {},
   "source": [
    "## \n",
    "The t-statistic is a measure used in hypothesis testing to assess the difference between sample means and to determine whether there is a significant difference between two sample means. It is a standardized value that quantifies how many standard errors the sample mean is away from the hypothesized population mean.\n",
    "\n",
    "The formula for the t-statistic depends on the type of t-test being conducted. Here are the formulas for the two most common types of t-tests:\n",
    "\n",
    "One-Sample t-Test:\n",
    "The one-sample t-test is used to compare the mean of a single sample to a known or hypothesized population mean (μ0).\n",
    "\n",
    "Independent Two-Sample t-Test:\n",
    "\n",
    "The independent two-sample t-test is used to compare the means of two independent samples.\n",
    "\n",
    "The t-statistic follows a t-distribution with degrees of freedom determined by the sample sizes of the two samples and the type of t-test. The t-distribution is used to calculate the p-value for the hypothesis test, which helps determine whether the observed difference between sample means is statistically significant or just due to chance. If the t-statistic is large and the p-value is small (typically less than the chosen significance level), we reject the null hypothesis in favor of the alternative hypothesis, indicating a significant difference between the sample means."
   ]
  },
  {
   "cell_type": "markdown",
   "id": "17d0ffbf-c04d-446a-9a9b-a3ad01b93f81",
   "metadata": {},
   "source": [
    "## Q13. A coffee shop owner wants to estimate the average daily revenue for their shop. They take a random sample of 50 days and find the sample mean revenue to be $500 with a standard deviation of $50. Estimate the population mean revenue with a 95% confidence interval."
   ]
  },
  {
   "cell_type": "code",
   "execution_count": 6,
   "id": "d9cd18a6-75a4-43d8-97ce-2b30813adf38",
   "metadata": {},
   "outputs": [
    {
     "name": "stdout",
     "output_type": "stream",
     "text": [
      "Sample Mean Revenue: $500\n",
      "Sample Standard Deviation: $50\n",
      "Sample Size: 50\n",
      "Confidence Level: 95.0%\n",
      "Critical Value (t_alpha/2): 2.010\n",
      "Confidence Interval: $485.79 to $514.21\n"
     ]
    }
   ],
   "source": [
    "import numpy as np\n",
    "import scipy.stats as stats\n",
    "\n",
    "# Given data\n",
    "sample_mean = 500\n",
    "sample_std_dev = 50\n",
    "sample_size = 50\n",
    "confidence_level = 0.95\n",
    "\n",
    "# Step 1: Find the critical value t_alpha/2\n",
    "alpha = 1 - confidence_level\n",
    "degrees_of_freedom = sample_size - 1\n",
    "critical_value = stats.t.ppf(1 - alpha / 2, df=degrees_of_freedom)\n",
    "\n",
    "# Step 2: Calculate the confidence interval\n",
    "margin_of_error = critical_value * (sample_std_dev / np.sqrt(sample_size))\n",
    "lower_bound = sample_mean - margin_of_error\n",
    "upper_bound = sample_mean + margin_of_error\n",
    "\n",
    "# Print the results\n",
    "print(f\"Sample Mean Revenue: ${sample_mean}\")\n",
    "print(f\"Sample Standard Deviation: ${sample_std_dev}\")\n",
    "print(f\"Sample Size: {sample_size}\")\n",
    "print(f\"Confidence Level: {confidence_level * 100}%\")\n",
    "print(f\"Critical Value (t_alpha/2): {critical_value:.3f}\")\n",
    "print(f\"Confidence Interval: ${lower_bound:.2f} to ${upper_bound:.2f}\")"
   ]
  },
  {
   "cell_type": "markdown",
   "id": "4cc7af8f-1ef7-4bf6-b995-87fec9ae0092",
   "metadata": {},
   "source": [
    "## Q14. A researcher hypothesizes that a new drug will decrease blood pressure by 10 mmHg. They conduct a clinical trial with 100 patients and find that the sample mean decrease in blood pressure is 8 mmHg with a standard deviation of 3 mmHg. Test the hypothesis with a significance level of 0.05."
   ]
  },
  {
   "cell_type": "code",
   "execution_count": 7,
   "id": "9fd6a378-d52f-44dd-840f-c0df0577ac77",
   "metadata": {},
   "outputs": [
    {
     "name": "stdout",
     "output_type": "stream",
     "text": [
      "Reject the null hypothesis. There is enough evidence to suggest that the new drug decreases blood pressure.\n",
      "t-statistic: -6.667\n",
      "Critical value: 1.984\n"
     ]
    }
   ],
   "source": [
    "import numpy as np\n",
    "import scipy.stats as stats\n",
    "\n",
    "# Given data\n",
    "sample_mean = 8\n",
    "sample_std_dev = 3\n",
    "sample_size = 100\n",
    "hypothesized_mean = 10\n",
    "alpha = 0.05\n",
    "\n",
    "# Calculate the t-statistic\n",
    "t_statistic = (sample_mean - hypothesized_mean) / (sample_std_dev / np.sqrt(sample_size))\n",
    "\n",
    "# Calculate the degrees of freedom (n - 1)\n",
    "degrees_of_freedom = sample_size - 1\n",
    "\n",
    "# Calculate the critical value for the given significance level\n",
    "critical_value = stats.t.ppf(1 - alpha/2, df=degrees_of_freedom)\n",
    "\n",
    "# Compare the t-statistic with the critical value to make a decision\n",
    "if abs(t_statistic) > critical_value:\n",
    "    print(\"Reject the null hypothesis. There is enough evidence to suggest that the new drug decreases blood pressure.\")\n",
    "else:\n",
    "    print(\"Fail to reject the null hypothesis. There is not enough evidence to suggest that the new drug decreases blood pressure.\")\n",
    "\n",
    "# Print the t-statistic and critical value\n",
    "print(f\"t-statistic: {t_statistic:.3f}\")\n",
    "print(f\"Critical value: {critical_value:.3f}\")"
   ]
  },
  {
   "cell_type": "markdown",
   "id": "7b3ca67f-6c36-4c8b-ae27-4825f69b4bb6",
   "metadata": {},
   "source": [
    "## Q15. An electronics company produces a certain type of product with a mean weight of 5 pounds and a standard deviation of 0.5 pounds. A random sample of 25 products is taken, and the sample mean weight is found to be 4.8 pounds. Test the hypothesis that the true mean weight of the products is less than 5 pounds with a significance level of 0.01."
   ]
  },
  {
   "cell_type": "code",
   "execution_count": 8,
   "id": "c6b00d49-967e-4431-9536-a8370ff40ae6",
   "metadata": {},
   "outputs": [
    {
     "name": "stdout",
     "output_type": "stream",
     "text": [
      "Fail to reject the null hypothesis. There is not enough evidence to suggest that the true mean weight of the products is less than 5 pounds.\n",
      "t-statistic: -2.000\n",
      "Critical value: -2.492\n"
     ]
    }
   ],
   "source": [
    "import numpy as np\n",
    "import scipy.stats as stats\n",
    "\n",
    "# Given data\n",
    "population_mean = 5\n",
    "population_std_dev = 0.5\n",
    "sample_mean = 4.8\n",
    "sample_size = 25\n",
    "alpha = 0.01\n",
    "\n",
    "# Calculate the standard error of the mean\n",
    "standard_error = population_std_dev / np.sqrt(sample_size)\n",
    "\n",
    "# Calculate the t-statistic\n",
    "t_statistic = (sample_mean - population_mean) / standard_error\n",
    "\n",
    "# Calculate the degrees of freedom (n - 1)\n",
    "degrees_of_freedom = sample_size - 1\n",
    "\n",
    "# Calculate the critical value for a one-tailed test at the given significance level\n",
    "critical_value = stats.t.ppf(alpha, df=degrees_of_freedom)\n",
    "\n",
    "# Compare the t-statistic with the critical value to make a decision\n",
    "if t_statistic < critical_value:\n",
    "    print(\"Reject the null hypothesis. There is enough evidence to suggest that the true mean weight of the products is less than 5 pounds.\")\n",
    "else:\n",
    "    print(\"Fail to reject the null hypothesis. There is not enough evidence to suggest that the true mean weight of the products is less than 5 pounds.\")\n",
    "\n",
    "# Print the t-statistic and critical value\n",
    "print(f\"t-statistic: {t_statistic:.3f}\")\n",
    "print(f\"Critical value: {critical_value:.3f}\")"
   ]
  },
  {
   "cell_type": "markdown",
   "id": "8e3d24cc-1ac0-4e28-a979-94a8d7de8084",
   "metadata": {},
   "source": [
    "## Q16. Two groups of students are given different study materials to prepare for a test. The first group (n1 =30) has a mean score of 80 with a standard deviation of 10, and the second group (n2 = 40) has a mean score of 75 with a standard deviation of 8. Test the hypothesis that the population means for the two groups are equal with a significance level of 0.01."
   ]
  },
  {
   "cell_type": "code",
   "execution_count": 9,
   "id": "349c9c0b-4262-4983-892c-f88a6a8ac9cf",
   "metadata": {},
   "outputs": [
    {
     "name": "stdout",
     "output_type": "stream",
     "text": [
      "Fail to reject the null hypothesis: The population means are equal.\n"
     ]
    }
   ],
   "source": [
    "import scipy.stats as stats\n",
    "\n",
    "# Given data for group 1\n",
    "n1 = 30\n",
    "mean1 = 80\n",
    "std_dev1 = 10\n",
    "\n",
    "# Given data for group 2\n",
    "n2 = 40\n",
    "mean2 = 75\n",
    "std_dev2 = 8\n",
    "\n",
    "# Significance level (alpha)\n",
    "alpha = 0.01\n",
    "\n",
    "# Calculate the standard error of the difference between the means\n",
    "se_diff = ((std_dev1 ** 2) / n1 + (std_dev2 ** 2) / n2) ** 0.5\n",
    "\n",
    "# Calculate the t-statistic\n",
    "t_stat = (mean1 - mean2) / se_diff\n",
    "\n",
    "# Degrees of freedom\n",
    "df = n1 + n2 - 2\n",
    "\n",
    "# Calculate the critical value from t-distribution for two-tailed test\n",
    "critical_value = stats.t.ppf(1 - alpha / 2, df)\n",
    "\n",
    "# Calculate the p-value for two-tailed test\n",
    "p_value = 2 * (1 - stats.t.cdf(abs(t_stat), df))\n",
    "\n",
    "# Compare t_stat with critical_value and p_value with alpha to draw conclusions\n",
    "if abs(t_stat) > critical_value or p_value < alpha:\n",
    "    print(\"Reject the null hypothesis: The population means are not equal.\")\n",
    "else:\n",
    "    print(\"Fail to reject the null hypothesis: The population means are equal.\")"
   ]
  },
  {
   "cell_type": "markdown",
   "id": "df097c29-7d23-428d-a330-bdc41562e9da",
   "metadata": {},
   "source": [
    "## Q17. A marketing company wants to estimate the average number of ads watched by viewers during a TV program. They take a random sample of 50 viewers and find that the sample mean is 4 with a standard deviation of 1.5. Estimate the population mean with a 99% confidence interval."
   ]
  },
  {
   "cell_type": "code",
   "execution_count": 10,
   "id": "3f969de7-6842-475e-9197-6f74ab7ad290",
   "metadata": {},
   "outputs": [
    {
     "name": "stdout",
     "output_type": "stream",
     "text": [
      "Population mean estimate: 4.00\n",
      "99% Confidence interval: (3.43, 4.57)\n"
     ]
    }
   ],
   "source": [
    "import scipy.stats as stats\n",
    "\n",
    "sample_mean = 4\n",
    "sample_std_dev = 1.5\n",
    "sample_size = 50\n",
    "confidence_level = 0.99\n",
    "\n",
    "# Calculate the standard error of the sample mean\n",
    "standard_error = sample_std_dev / (sample_size ** 0.5)\n",
    "\n",
    "# Calculate the t-score for the given confidence level and degrees of freedom (sample size - 1)\n",
    "t_score = stats.t.ppf((1 + confidence_level) / 2, df=sample_size - 1)\n",
    "\n",
    "# Calculate the margin of error\n",
    "margin_of_error = t_score * standard_error\n",
    "\n",
    "# Calculate the confidence interval\n",
    "lower_bound = sample_mean - margin_of_error\n",
    "upper_bound = sample_mean + margin_of_error\n",
    "\n",
    "print(f\"Population mean estimate: {sample_mean:.2f}\")\n",
    "print(f\"99% Confidence interval: ({lower_bound:.2f}, {upper_bound:.2f})\")"
   ]
  }
 ],
 "metadata": {
  "kernelspec": {
   "display_name": "Python 3 (ipykernel)",
   "language": "python",
   "name": "python3"
  },
  "language_info": {
   "codemirror_mode": {
    "name": "ipython",
    "version": 3
   },
   "file_extension": ".py",
   "mimetype": "text/x-python",
   "name": "python",
   "nbconvert_exporter": "python",
   "pygments_lexer": "ipython3",
   "version": "3.10.8"
  }
 },
 "nbformat": 4,
 "nbformat_minor": 5
}
