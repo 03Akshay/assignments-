{
 "cells": [
  {
   "cell_type": "markdown",
   "id": "8bddbd04-0bd5-4847-a4a0-6f6d05012044",
   "metadata": {},
   "source": [
    "## Q1. Explain the assumptions required to use ANOVA and provide examples of violations that could impact the validity of the results."
   ]
  },
  {
   "cell_type": "markdown",
   "id": "b5fc9f48-04b9-433d-87f4-7a4986bf0ff9",
   "metadata": {},
   "source": [
    "## \n",
    "ANOVA (Analysis of Variance) is a statistical test used to compare the means of three or more groups to determine if there are statistically significant differences among them. To use ANOVA correctly and ensure the validity of the results, certain assumptions need to be met. Violating these assumptions can affect the reliability and accuracy of the ANOVA results.\n",
    "\n",
    "Assumptions for using ANOVA:\n",
    "\n",
    "Independence: The observations within each group are independent of each other. Each data point should be unrelated and not influenced by any other data point in the same or other groups.\n",
    "\n",
    "Normality: The data within each group should follow a normal distribution. This assumption is essential, especially when the sample sizes are small. Violations of normality can lead to biased estimates and incorrect p-values.\n",
    "\n",
    "Homogeneity of Variance (Homoscedasticity): The variance of the data should be approximately equal across all groups. In other words, the spread of the data points within each group should be roughly the same. Violations of homoscedasticity can lead to inaccurate hypothesis tests and confidence intervals.\n",
    "\n",
    "Examples of violations that could impact ANOVA results:\n",
    "\n",
    "Violation of Independence: In a study involving students' test scores from different schools, if students within the same school are encouraged to collaborate or help each other during the test, the independence assumption is violated. This could lead to inflated F-statistics and incorrect conclusions.\n",
    "\n",
    "Violation of Normality: Suppose a researcher is examining the reaction times of individuals to a stimulus. If the sample size is relatively small, and the reaction times are highly skewed or not normally distributed, the normality assumption is violated. The ANOVA results may not be trustworthy, and alternative non-parametric tests may be more appropriate.\n",
    "\n",
    "Violation of Homoscedasticity: In a study comparing the performance of different groups of athletes, if one group has much higher variability in their scores than the others, the homogeneity of variance assumption is violated. This can lead to unreliable F-tests and misleading conclusions.\n",
    "\n",
    "It's important to check the assumptions before conducting an ANOVA and, if violated, consider alternative approaches such as non-parametric tests or transformations of the data to meet the assumptions. Additionally, exploratory data analysis techniques, such as visualizations, can help identify potential violations and inform appropriate statistical choices."
   ]
  },
  {
   "cell_type": "markdown",
   "id": "0d95f2bb-042b-4db1-82e7-8c1a08f36c36",
   "metadata": {},
   "source": [
    "## Q2. What are the three types of ANOVA, and in what situations would each be used?"
   ]
  },
  {
   "cell_type": "markdown",
   "id": "efdd0207-9996-4e0b-b759-1bcab40e6baf",
   "metadata": {},
   "source": [
    "## \n",
    "The three types of ANOVA are:\n",
    "\n",
    "One-Way ANOVA: One-Way ANOVA is used when you have one categorical independent variable (factor) and one continuous dependent variable. It is used to compare means across two or more groups (levels) of the independent variable. For example, you could use One-Way ANOVA to compare the average test scores of students from three different schools.\n",
    "\n",
    "Two-Way ANOVA: Two-Way ANOVA is used when you have two categorical independent variables (factors) and one continuous dependent variable. It allows you to examine the main effects of each independent variable and their interaction effect on the dependent variable. For example, you could use Two-Way ANOVA to study how the performance of athletes is affected by both their training method and the type of diet they follow.\n",
    "\n",
    "N-Way ANOVA (N > 2): N-Way ANOVA is a generalization of One-Way and Two-Way ANOVA and is used when you have more than two categorical independent variables (factors) and one continuous dependent variable. It allows you to analyze the interactions among multiple factors simultaneously. For example, you could use N-Way ANOVA to study how the sales of a product are influenced by its price, advertising strategy, and the region it is sold in.\n",
    "\n",
    "In summary, the choice of ANOVA depends on the number of categorical independent variables and their interactions in your study. One-Way ANOVA is suitable when you have one independent variable, Two-Way ANOVA is used with two independent variables, and N-Way ANOVA is employed when you have more than two independent variables. Each type of ANOVA allows you to assess the impact of different factors on a continuous outcome variable and test for significant differences among group means."
   ]
  },
  {
   "cell_type": "markdown",
   "id": "1188585a-69e6-48a9-aefb-38f06dc086da",
   "metadata": {},
   "source": [
    "## Q3. What is the partitioning of variance in ANOVA, and why is it important to understand this concept?"
   ]
  },
  {
   "cell_type": "markdown",
   "id": "3d2adc74-7f02-438a-80ac-6587fe4acb73",
   "metadata": {},
   "source": [
    "## \n",
    "The partitioning of variance in ANOVA refers to the division of the total variability observed in the data into different components that can be attributed to different sources or factors. In the context of ANOVA, the total variability is the sum of the variability within each group (error variance) and the variability between the group means (treatment variance).\n",
    "\n",
    "The partitioning of variance is important because it helps us understand how much of the total variation in the data can be explained by the factors we are studying (i.e., the independent variables). By breaking down the total variability into its components, ANOVA allows us to determine the relative contributions of each factor to the observed differences among group means. This information is valuable for interpreting the results and drawing conclusions about the effects of the factors being studied.\n",
    "\n",
    "Specifically, ANOVA helps us to:\n",
    "\n",
    "Identify significant effects: By comparing the variance explained by the factors to the variance that remains unexplained (error variance), ANOVA can determine if the factors have a statistically significant impact on the dependent variable.\n",
    "\n",
    "Quantify the effects: The partitioning of variance allows us to quantify the relative size of the effects of the different factors. This helps in understanding the practical significance of the findings.\n",
    "\n",
    "Make informed decisions: ANOVA provides a structured framework for analyzing data with multiple groups or treatments, enabling researchers to make informed decisions based on statistical evidence.\n",
    "\n",
    "Address research questions: By partitioning variance, ANOVA can address specific research questions related to the impact of different factors and their interactions on the dependent variable.\n",
    "\n",
    "In summary, the partitioning of variance in ANOVA is a fundamental concept that enables researchers to understand the sources of variability in their data, assess the significance of factors, and draw meaningful conclusions about the relationships between variables. It serves as a crucial tool for conducting hypothesis tests and making informed decisions based on data analysis."
   ]
  },
  {
   "cell_type": "markdown",
   "id": "7b91865c-54fc-438f-9fa7-320251ab9235",
   "metadata": {},
   "source": [
    "## Q4. How would you calculate the total sum of squares (SST), explained sum of squares (SSE), and residual sum of squares (SSR) in a one-way ANOVA using Python?"
   ]
  },
  {
   "cell_type": "code",
   "execution_count": 1,
   "id": "269e0cc1-ba79-4360-8b7c-0dc20c850d01",
   "metadata": {},
   "outputs": [
    {
     "name": "stdout",
     "output_type": "stream",
     "text": [
      "Total Sum of Squares (SST): 1106.4\n",
      "Explained Sum of Squares (SSE): 1027.6\n",
      "Residual Sum of Squares (SSR): 78.80000000000018\n"
     ]
    }
   ],
   "source": [
    "import numpy as np\n",
    "\n",
    "# Given data for each group (replace this with your own data)\n",
    "group1_data = [10, 12, 15, 13, 16]\n",
    "group2_data = [20, 18, 25, 22, 24]\n",
    "group3_data = [30, 35, 32, 34, 36]\n",
    "\n",
    "# Combine all data points\n",
    "all_data = np.concatenate([group1_data, group2_data, group3_data])\n",
    "\n",
    "# Calculate the grand mean\n",
    "grand_mean = np.mean(all_data)\n",
    "\n",
    "# Calculate the total sum of squares (SST)\n",
    "SST = np.sum((all_data - grand_mean) ** 2)\n",
    "\n",
    "# Calculate the explained sum of squares (SSE)\n",
    "SSE = np.sum([len(group1_data) * (np.mean(group1_data) - grand_mean) ** 2,\n",
    "              len(group2_data) * (np.mean(group2_data) - grand_mean) ** 2,\n",
    "              len(group3_data) * (np.mean(group3_data) - grand_mean) ** 2])\n",
    "\n",
    "# Calculate the residual sum of squares (SSR)\n",
    "SSR = SST - SSE\n",
    "\n",
    "print(\"Total Sum of Squares (SST):\", SST)\n",
    "print(\"Explained Sum of Squares (SSE):\", SSE)\n",
    "print(\"Residual Sum of Squares (SSR):\", SSR)"
   ]
  },
  {
   "cell_type": "markdown",
   "id": "d720f0df-2a92-4b92-bf49-adb668a1b37b",
   "metadata": {},
   "source": [
    "## Q5. In a two-way ANOVA, how would you calculate the main effects and interaction effects using Python?"
   ]
  },
  {
   "cell_type": "code",
   "execution_count": null,
   "id": "f1a4630f-c31a-4d3f-ac1d-84afa5d61977",
   "metadata": {},
   "outputs": [],
   "source": [
    "import pandas as pd\n",
    "import numpy as np\n",
    "import statsmodels.api as sm\n",
    "from statsmodels.formula.api import ols\n",
    "\n",
    "# Given data in a DataFrame (with missing values and NaNs)\n",
    "data = pd.DataFrame({\n",
    "    'FactorA': ['A', 'A', 'A', 'B', 'B', 'B', 'C', 'C', 'C'],\n",
    "    'FactorB': ['X', 'Y', 'Z', 'X', 'Y', 'Z', 'X', 'Y', 'Z'],\n",
    "    'Response': [10, 12, np.nan, 8, 9, 11, 14, np.inf, 13]\n",
    "})\n",
    "\n",
    "# Drop rows with missing or NaN values\n",
    "data.dropna(inplace=True)\n",
    "data.replace([np.inf, -np.inf], np.nan, inplace=True)\n",
    "data.dropna(inplace=True)\n",
    "\n",
    "# Fit the two-way ANOVA model\n",
    "model = ols('Response ~ FactorA + FactorB + FactorA:FactorB', data=data).fit()\n",
    "anova_table = sm.stats.anova_lm(model, typ=2)\n",
    "\n",
    "# Extract the main effects and interaction effects\n",
    "main_effect_A = anova_table.loc['FactorA', 'sum_sq']\n",
    "main_effect_B = anova_table.loc['FactorB', 'sum_sq']\n",
    "interaction_effect = anova_table.loc['FactorA:FactorB', 'sum_sq']\n",
    "\n",
    "print(\"Main Effect A:\", main_effect_A)\n",
    "print(\"Main Effect B:\", main_effect_B)\n",
    "print(\"Interaction Effect:\", interaction_effect)"
   ]
  },
  {
   "cell_type": "markdown",
   "id": "551474de-4183-451e-99fd-0f691a895076",
   "metadata": {},
   "source": [
    "## Q6. Suppose you conducted a one-way ANOVA and obtained an F-statistic of 5.23 and a p-value of 0.02. What can you conclude about the differences between the groups, and how would you interpret these results?"
   ]
  },
  {
   "cell_type": "code",
   "execution_count": 5,
   "id": "64752f54-da46-4903-b689-07fa8f7b33b4",
   "metadata": {},
   "outputs": [
    {
     "name": "stdout",
     "output_type": "stream",
     "text": [
      "F-statistic: 78.24365482233485\n",
      "p-value: 1.3052217504269102e-07\n",
      "There are significant differences between the means of the groups.\n"
     ]
    }
   ],
   "source": [
    "import numpy as np\n",
    "import scipy.stats as stats\n",
    "\n",
    "# Given data for each group (replace this with your own data)\n",
    "group1_data = [10, 12, 15, 13, 16]\n",
    "group2_data = [20, 18, 25, 22, 24]\n",
    "group3_data = [30, 35, 32, 34, 36]\n",
    "\n",
    "# Combine all data points\n",
    "all_data = np.concatenate([group1_data, group2_data, group3_data])\n",
    "\n",
    "# Perform one-way ANOVA\n",
    "f_statistic, p_value = stats.f_oneway(group1_data, group2_data, group3_data)\n",
    "\n",
    "print(\"F-statistic:\", f_statistic)\n",
    "print(\"p-value:\", p_value)\n",
    "\n",
    "# Set the significance level (alpha)\n",
    "alpha = 0.05\n",
    "\n",
    "# Compare the p-value with the significance level\n",
    "if p_value < alpha:\n",
    "    print(\"There are significant differences between the means of the groups.\")\n",
    "else:\n",
    "    print(\"There are no significant differences between the means of the groups.\")"
   ]
  },
  {
   "cell_type": "markdown",
   "id": "4fb88308-9256-4dbd-a880-d2558650d103",
   "metadata": {},
   "source": [
    "## Q7. In a repeated measures ANOVA, how would you handle missing data, and what are the potential consequences of using different methods to handle missing data?"
   ]
  },
  {
   "cell_type": "markdown",
   "id": "b6956eae-6a1b-4b4b-849c-cd9d8020a200",
   "metadata": {},
   "source": [
    "## \n",
    "\n",
    "Handling missing data in a repeated measures ANOVA is crucial to ensure the validity and reliability of the results. There are several methods to deal with missing data, each with its advantages and potential consequences:\n",
    "\n",
    "Complete Case Analysis (Listwise Deletion):\n",
    "\n",
    "Method: This approach involves excluding any participants with missing data from the analysis. Only the complete cases (participants with data in all time points or conditions) are used in the ANOVA.\n",
    "Consequences: The main advantage is that it is straightforward and easy to implement. However, it can lead to a loss of statistical power since participants with missing data are excluded, potentially leading to biased estimates and decreased precision.\n",
    "Mean Imputation:\n",
    "\n",
    "Method: In this method, the missing values are replaced with the mean value of the available data for the respective variable.\n",
    "Consequences: While mean imputation is simple and helps maintain sample size, it may lead to an underestimation of the standard errors and can inflate Type I error rates. It does not account for variability, and it assumes that the data are missing at random.\n",
    "Last Observation Carried Forward (LOCF):\n",
    "\n",
    "Method: In LOCF, the last available observation is used to fill in the missing values for subsequent time points or conditions.\n",
    "Consequences: LOCF may be appropriate for certain types of data, such as in clinical trials, but it can result in biased estimates if the missing data pattern is not informative. It assumes that the data remain constant over time, which may not be the case in reality.\n",
    "Multiple Imputation:\n",
    "\n",
    "Method: Multiple imputation generates several plausible values for the missing data based on statistical modeling. The analysis is conducted on each imputed dataset, and the results are combined to account for the uncertainty in the imputation process.\n",
    "Consequences: Multiple imputation is considered one of the most robust methods for handling missing data. It provides unbiased estimates, proper standard errors, and valid statistical inferences. However, it requires additional computational resources and may be more complex to implement.\n",
    "Maximum Likelihood Estimation (MLE):\n",
    "\n",
    "Method: MLE is a statistical technique that estimates the model parameters and handles the missing data simultaneously by maximizing the likelihood of observing the available data.\n",
    "Consequences: MLE can provide unbiased parameter estimates and valid statistical tests when the missing data mechanism is missing at random (MAR). However, it can be computationally intensive and may require specialized software.\n",
    "The choice of method for handling missing data should be based on the nature of the data and the underlying missing data mechanism. It is essential to carefully consider the assumptions and potential consequences of each method to ensure the appropriateness of the chosen approach and the validity of the results in repeated measures ANOVA. Additionally, sensitivity analyses and exploratory methods can be used to assess the robustness of the results to different handling approaches."
   ]
  },
  {
   "cell_type": "markdown",
   "id": "782b6bdc-bb07-4cdb-ab32-bb877016a441",
   "metadata": {},
   "source": [
    "## Q8. What are some common post-hoc tests used after ANOVA, and when would you use each one? Provide an example of a situation where a post-hoc test might be necessary."
   ]
  },
  {
   "cell_type": "markdown",
   "id": "94253d33-bf36-46dd-b5ec-78815fa9235f",
   "metadata": {},
   "source": [
    "## \n",
    "\n",
    "After conducting an ANOVA and finding a significant difference among group means, post-hoc tests are used to determine which specific groups differ significantly from each other. There are several common post-hoc tests, and the choice of which one to use depends on the study design and the number of groups being compared.\n",
    "\n",
    "Some common post-hoc tests include:\n",
    "\n",
    "## Tukey's Honestly Significant Difference (HSD) test:\n",
    "\n",
    "Used when you have equal sample sizes and want to conduct all possible pairwise comparisons among groups. It controls the familywise error rate, making it appropriate for multiple comparisons.\n",
    "\n",
    "Python Example:"
   ]
  },
  {
   "cell_type": "code",
   "execution_count": null,
   "id": "dcb7daa7-6275-4ee7-9ee2-53bec7dcb5e9",
   "metadata": {},
   "outputs": [],
   "source": [
    "import statsmodels.stats.multicomp as mc\n",
    "\n",
    "# Conduct Tukey's HSD test for multiple comparisons\n",
    "posthoc_results = mc.MultiComparison(data['Response'], data['Group'])\n",
    "tukey_hsd = posthoc_results.tukeyhsd()\n",
    "print(tukey_hsd.summary())"
   ]
  },
  {
   "cell_type": "markdown",
   "id": "a9ac16fb-c257-45ed-8b14-908f755d5a39",
   "metadata": {},
   "source": [
    "## Bonferroni correction:\n",
    "\n",
    "Used when you have unequal sample sizes and want to conduct multiple pairwise comparisons. It controls the familywise error rate by dividing the significance level (alpha) by the number of comparisons.\n",
    "\n",
    "Python Example:"
   ]
  },
  {
   "cell_type": "code",
   "execution_count": null,
   "id": "3741ed8e-1960-4f13-bbc0-7169a415a21c",
   "metadata": {},
   "outputs": [],
   "source": [
    "import statsmodels.stats.multicomp as mc\n",
    "\n",
    "# Conduct Bonferroni correction for multiple comparisons\n",
    "posthoc_results = mc.MultiComparison(data['Response'], data['Group'])\n",
    "bonferroni_results = posthoc_results.allpairtest(stats.ttest_rel, method='bonferroni')\n",
    "print(bonferroni_results[0])"
   ]
  },
  {
   "cell_type": "markdown",
   "id": "c27c6d3f-3aa0-469f-b8f5-98eb1e8ad9ac",
   "metadata": {},
   "source": [
    "## Dunnett's test:\n",
    "\n",
    "Used when you have a control group and want to compare all other groups to the control group. It controls the familywise error rate for multiple comparisons.\n",
    "\n",
    "Python Example:"
   ]
  },
  {
   "cell_type": "code",
   "execution_count": null,
   "id": "8fc17300-34b0-4407-9aea-8a1f92b11609",
   "metadata": {},
   "outputs": [],
   "source": [
    "import statsmodels.stats.multicomp as mc\n",
    "\n",
    "# Conduct Dunnett's test for multiple comparisons\n",
    "control_group = 'Control'\n",
    "posthoc_results = mc.MultiComparison(data['Response'], data['Group'])\n",
    "dunnett_results = posthoc_results.tukeyhsd(groupctrl=control_group)\n",
    "print(dunnett_results.summary())"
   ]
  },
  {
   "cell_type": "markdown",
   "id": "2e2fda2d-d3cb-4272-a7c1-50e1d86341e5",
   "metadata": {},
   "source": [
    "## Scheffe's method:\n",
    "\n",
    "Used when you have unequal sample sizes and want to perform all possible pairwise comparisons. It is more conservative than Tukey's HSD and appropriate for situations where assumptions of equal variances are violated.\n",
    "\n",
    "Python Example:"
   ]
  },
  {
   "cell_type": "code",
   "execution_count": null,
   "id": "53251d56-d9e8-4082-a266-7d89efe262a7",
   "metadata": {},
   "outputs": [],
   "source": [
    "import statsmodels.stats.multicomp as mc\n",
    "\n",
    "# Conduct Scheffe's test for multiple comparisons\n",
    "posthoc_results = mc.MultiComparison(data['Response'], data['Group'])\n",
    "scheffe_results = posthoc_results.allpairtest(stats.ttest_rel, method='scheffe')\n",
    "print(scheffe_results[0])"
   ]
  },
  {
   "cell_type": "markdown",
   "id": "4f60c036-2d70-4d13-b6de-e5101754096e",
   "metadata": {},
   "source": [
    "## Q9. A researcher wants to compare the mean weight loss of three diets: A, B, and C. They collect data from 50 participants who were randomly assigned to one of the diets. Conduct a one-way ANOVA using Python to determine if there are any significant differences between the mean weight loss of the three diets. Report the F-statistic and p-value, and interpret the results."
   ]
  },
  {
   "cell_type": "code",
   "execution_count": null,
   "id": "14d643b3-2184-401f-9842-c0eafa2d9eee",
   "metadata": {},
   "outputs": [],
   "source": [
    "import numpy as np\n",
    "import scipy.stats as stats\n",
    "\n",
    "# Given weight loss data for each diet (replace this with your actual data)\n",
    "diet_A = np.array([3.2, 4.1, 2.8, 3.9, 4.5, ...])  # 50 weight loss values for Diet A\n",
    "diet_B = np.array([2.9, 3.5, 2.6, 3.8, 4.2, ...])  # 50 weight loss values for Diet B\n",
    "diet_C = np.array([2.7, 3.0, 2.4, 3.2, 3.9, ...])  # 50 weight loss values for Diet C\n",
    "\n",
    "# Combine all weight loss data into a single array\n",
    "all_weight_loss = np.concatenate([diet_A, diet_B, diet_C])\n",
    "\n",
    "# Create a corresponding group variable for each diet\n",
    "group_labels = ['A'] * 50 + ['B'] * 50 + ['C'] * 50\n",
    "\n",
    "# Perform the one-way ANOVA\n",
    "F_statistic, p_value = stats.f_oneway(diet_A, diet_B, diet_C)\n",
    "\n",
    "print(\"F-statistic:\", F_statistic)\n",
    "print(\"p-value:\", p_value)\n",
    "\n",
    "# Set the significance level (alpha)\n",
    "alpha = 0.05\n",
    "\n",
    "# Interpretation of the results\n",
    "if p_value < alpha:\n",
    "    print(\"There is a significant difference in the mean weight loss among the three diets.\")\n",
    "else:\n",
    "    print(\"There is no significant difference in the mean weight loss among the three diets.\")"
   ]
  },
  {
   "cell_type": "markdown",
   "id": "80cee317-3adc-4be3-8492-fcb736f31f9d",
   "metadata": {},
   "source": [
    "## Q10. A company wants to know if there are any significant differences in the average time it takes to complete a task using three different software programs: Program A, Program B, and Program C. They randomly assign 30 employees to one of the programs and record the time it takes each employee to complete the task. Conduct a two-way ANOVA using Python to determine if there are any main effects or interaction effects between the software programs and employee experience level (novice vs. experienced). Report the F-statistics and p-values, and interpret the results."
   ]
  },
  {
   "cell_type": "code",
   "execution_count": 9,
   "id": "df9cf47c-7331-474f-9c06-4fead9d2d9ac",
   "metadata": {},
   "outputs": [
    {
     "name": "stdout",
     "output_type": "stream",
     "text": [
      "Software: F-statistic = 104.88579278245936 , p-value = 1.2872056965679568e-10\n",
      "Experience: F-statistic = nan , p-value = nan\n",
      "Interaction: F-statistic = 4.960317460317473 , p-value = 0.03480588217573188\n",
      "There is a significant main effect of software programs on task completion time.\n",
      "There is a significant interaction effect between software programs and employee experience on task completion time.\n"
     ]
    },
    {
     "name": "stderr",
     "output_type": "stream",
     "text": [
      "/opt/conda/lib/python3.10/site-packages/statsmodels/base/model.py:1871: ValueWarning: covariance of constraints does not have full rank. The number of constraints is 2, but rank is 1\n",
      "  warnings.warn('covariance of constraints does not have full '\n",
      "/opt/conda/lib/python3.10/site-packages/statsmodels/base/model.py:1871: ValueWarning: covariance of constraints does not have full rank. The number of constraints is 1, but rank is 0\n",
      "  warnings.warn('covariance of constraints does not have full '\n",
      "/opt/conda/lib/python3.10/site-packages/statsmodels/base/model.py:1900: RuntimeWarning: invalid value encountered in divide\n",
      "  F /= J\n",
      "/opt/conda/lib/python3.10/site-packages/statsmodels/base/model.py:1871: ValueWarning: covariance of constraints does not have full rank. The number of constraints is 2, but rank is 1\n",
      "  warnings.warn('covariance of constraints does not have full '\n"
     ]
    }
   ],
   "source": [
    "import pandas as pd\n",
    "import statsmodels.api as sm\n",
    "from statsmodels.formula.api import ols\n",
    "\n",
    "# Given data in a DataFrame (replace this with your actual data)\n",
    "data = pd.DataFrame({\n",
    "    'Software': ['A'] * 10 + ['B'] * 10 + ['C'] * 10,\n",
    "    'Experience': ['Novice'] * 15 + ['Experienced'] * 15,\n",
    "    'Time': [15, 20, 18, 14, 22, 17, 19, 16, 20, 21,\n",
    "             28, 25, 26, 24, 27, 23, 30, 29, 26, 27,\n",
    "             22, 19, 21, 18, 20, 19, 21, 17, 18, 16]\n",
    "})\n",
    "\n",
    "# Fit the two-way ANOVA model\n",
    "model = ols('Time ~ C(Software) + C(Experience) + C(Software):C(Experience)', data=data).fit()\n",
    "\n",
    "# Perform ANOVA on the model\n",
    "anova_table = sm.stats.anova_lm(model, typ=2)\n",
    "\n",
    "# Extract the F-statistics and p-values\n",
    "F_statistic_software = anova_table.loc['C(Software)', 'F']\n",
    "p_value_software = anova_table.loc['C(Software)', 'PR(>F)']\n",
    "\n",
    "F_statistic_experience = anova_table.loc['C(Experience)', 'F']\n",
    "p_value_experience = anova_table.loc['C(Experience)', 'PR(>F)']\n",
    "\n",
    "F_statistic_interaction = anova_table.loc['C(Software):C(Experience)', 'F']\n",
    "p_value_interaction = anova_table.loc['C(Software):C(Experience)', 'PR(>F)']\n",
    "\n",
    "print(\"Software: F-statistic =\", F_statistic_software, \", p-value =\", p_value_software)\n",
    "print(\"Experience: F-statistic =\", F_statistic_experience, \", p-value =\", p_value_experience)\n",
    "print(\"Interaction: F-statistic =\", F_statistic_interaction, \", p-value =\", p_value_interaction)\n",
    "\n",
    "# Set the significance level (alpha)\n",
    "alpha = 0.05\n",
    "\n",
    "# Interpretation of the results\n",
    "if p_value_software < alpha:\n",
    "    print(\"There is a significant main effect of software programs on task completion time.\")\n",
    "\n",
    "if p_value_experience < alpha:\n",
    "    print(\"There is a significant main effect of employee experience level on task completion time.\")\n",
    "\n",
    "if p_value_interaction < alpha:\n",
    "    print(\"There is a significant interaction effect between software programs and employee experience on task completion time.\")"
   ]
  },
  {
   "cell_type": "markdown",
   "id": "cc45f012-5f6b-4797-b080-6b9f156a9786",
   "metadata": {},
   "source": [
    "## Q11. An educational researcher is interested in whether a new teaching method improves student testscores. They randomly assign 100 students to either the control group (traditional teaching method) or the experimental group (new teaching method) and administer a test at the end of the semester. Conduct a two-sample t-test using Python to determine if there are any significant differences in test scores between the two groups. If the results are significant, follow up with a post-hoc test to determine which group(s) differ significantly from each other."
   ]
  },
  {
   "cell_type": "code",
   "execution_count": null,
   "id": "57d020ec-14a8-4b85-8b4c-37a8226a1b16",
   "metadata": {},
   "outputs": [],
   "source": [
    "import numpy as np\n",
    "import scipy.stats as stats\n",
    "import statsmodels.stats.multicomp as mc\n",
    "\n",
    "# Given test scores data for the control group and experimental group (replace this with your actual data)\n",
    "control_group_scores = np.array([80, 85, 78, 75, 82, ...])  # Test scores for the control group (100 scores)\n",
    "experimental_group_scores = np.array([90, 88, 85, 92, 87, ...])  # Test scores for the experimental group (100 scores)\n",
    "\n",
    "# Perform the two-sample t-test\n",
    "t_statistic, p_value = stats.ttest_ind(control_group_scores, experimental_group_scores)\n",
    "\n",
    "print(\"Two-sample t-test:\")\n",
    "print(\"t-statistic:\", t_statistic)\n",
    "print(\"p-value:\", p_value)\n",
    "\n",
    "# Set the significance level (alpha)\n",
    "alpha = 0.05\n",
    "\n",
    "# Interpretation of the two-sample t-test results\n",
    "if p_value < alpha:\n",
    "    print(\"There is a significant difference in test scores between the control and experimental groups.\")\n",
    "else:\n",
    "    print(\"There is no significant difference in test scores between the control and experimental groups.\")\n",
    "\n",
    "# Follow up with post-hoc test (Tukey's HSD) if the results are significant\n",
    "if p_value < alpha:\n",
    "    # Combine all test scores into a single array for the post-hoc test\n",
    "    all_scores = np.concatenate([control_group_scores, experimental_group_scores])\n",
    "    \n",
    "    # Create a corresponding group variable for each group\n",
    "    group_labels = ['Control'] * len(control_group_scores) + ['Experimental'] * len(experimental_group_scores)\n",
    "    \n",
    "    # Perform Tukey's HSD post-hoc test\n",
    "    posthoc_results = mc.MultiComparison(all_scores, group_labels)\n",
    "    tukey_hsd = posthoc_results.tukeyhsd()\n",
    "    \n",
    "    print(\"\\nTukey's HSD post-hoc test:\")\n",
    "    print(tukey_hsd.summary())"
   ]
  },
  {
   "cell_type": "markdown",
   "id": "5fc5e2fa-88d3-4705-a540-33232864e529",
   "metadata": {},
   "source": [
    "## Q12. A researcher wants to know if there are any significant differences in the average daily sales of three retail stores: Store A, Store B, and Store C. They randomly select 30 days and record the sales for each store on those days. Conduct a repeated measures ANOVA using Python to determine if there are any significant differences in sales between the three stores. If the results are significant, follow up with a post-hoc test to determine which store(s) differ significantly from each other."
   ]
  },
  {
   "cell_type": "code",
   "execution_count": null,
   "id": "74b4541b-1cf5-45fc-8aa1-6cf8f08adaac",
   "metadata": {},
   "outputs": [],
   "source": [
    "import numpy as np\n",
    "import scipy.stats as stats\n",
    "import statsmodels.stats.multicomp as mc\n",
    "\n",
    "# Given sales data for each store on 30 days (replace this with your actual data)\n",
    "store_A_sales = np.array([100, 120, 110, ..., ])  # Sales data for Store A (30 values)\n",
    "store_B_sales = np.array([90, 105, 95, ..., ])   # Sales data for Store B (30 values)\n",
    "store_C_sales = np.array([80, 95, 85, ..., ])    # Sales data for Store C (30 values)\n",
    "\n",
    "# Combine all sales data into a single array\n",
    "all_sales = np.concatenate([store_A_sales, store_B_sales, store_C_sales])\n",
    "\n",
    "# Create a corresponding group variable for each store\n",
    "group_labels = ['A'] * 30 + ['B'] * 30 + ['C'] * 30\n",
    "\n",
    "# Perform the one-way ANOVA\n",
    "F_statistic, p_value = stats.f_oneway(store_A_sales, store_B_sales, store_C_sales)\n",
    "\n",
    "print(\"One-way ANOVA:\")\n",
    "print(\"F-statistic:\", F_statistic)\n",
    "print(\"p-value:\", p_value)\n",
    "\n",
    "# Set the significance level (alpha)\n",
    "alpha = 0.05\n",
    "\n",
    "# Interpretation of the one-way ANOVA results\n",
    "if p_value < alpha:\n",
    "    print(\"There is a significant difference in average daily sales between the three stores.\")\n",
    "else:\n",
    "    print(\"There is no significant difference in average daily sales between the three stores.\")\n",
    "\n",
    "# Follow up with post-hoc test (Tukey's HSD) if the results are significant\n",
    "if p_value < alpha:\n",
    "    # Perform Tukey's HSD post-hoc test\n",
    "    posthoc_results = mc.MultiComparison(all_sales, group_labels)\n",
    "    tukey_hsd = posthoc_results.tukeyhsd()\n",
    "    \n",
    "    print(\"\\nTukey's HSD post-hoc test:\")\n",
    "    print(tukey_hsd.summary())"
   ]
  }
 ],
 "metadata": {
  "kernelspec": {
   "display_name": "Python 3 (ipykernel)",
   "language": "python",
   "name": "python3"
  },
  "language_info": {
   "codemirror_mode": {
    "name": "ipython",
    "version": 3
   },
   "file_extension": ".py",
   "mimetype": "text/x-python",
   "name": "python",
   "nbconvert_exporter": "python",
   "pygments_lexer": "ipython3",
   "version": "3.10.8"
  }
 },
 "nbformat": 4,
 "nbformat_minor": 5
}
